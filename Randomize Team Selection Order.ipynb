{
 "metadata": {
  "name": "Randomize Team Selection Order"
 },
 "nbformat": 3,
 "nbformat_minor": 0,
 "worksheets": [
  {
   "cells": [
    {
     "cell_type": "markdown",
     "metadata": {},
     "source": [
      "This notebook randomly determines draft order from a list of n teams."
     ]
    },
    {
     "cell_type": "code",
     "collapsed": false,
     "input": [
      "captains = ['proctorknox','khalsaolmstead','kershnermcmahan','wilsonramirez','mckechniefurdella','kielbaughgrobe','abbeyweinstein','garciawu']\n",
      "numteams = size(captains)"
     ],
     "language": "python",
     "metadata": {},
     "outputs": [],
     "prompt_number": 66
    },
    {
     "cell_type": "code",
     "collapsed": false,
     "input": [
      "captainsrandom=[]\n",
      "for i in range(8):\n",
      " captainsrandom.append(i)\n",
      "    \n",
      "random.shuffle(captainsrandom) #random order for teams 1 to n"
     ],
     "language": "python",
     "metadata": {},
     "outputs": [],
     "prompt_number": 67
    },
    {
     "cell_type": "code",
     "collapsed": false,
     "input": [
      "teamsrandom=[];\n",
      "for k in range(numteams):\n",
      " teamsrandom.append(captains[captainsrandom[k]]) #assign randomized numbers to captains"
     ],
     "language": "python",
     "metadata": {},
     "outputs": [],
     "prompt_number": 70
    },
    {
     "cell_type": "code",
     "collapsed": false,
     "input": [
      "teamsrandom"
     ],
     "language": "python",
     "metadata": {},
     "outputs": [
      {
       "output_type": "pyout",
       "prompt_number": 71,
       "text": [
        "['garciawu',\n",
        " 'khalsaolmstead',\n",
        " 'wilsonramirez',\n",
        " 'proctorknox',\n",
        " 'kershnermcmahan',\n",
        " 'kielbaughgrobe',\n",
        " 'abbeyweinstein',\n",
        " 'mckechniefurdella']"
       ]
      }
     ],
     "prompt_number": 71
    },
    {
     "cell_type": "code",
     "collapsed": false,
     "input": [],
     "language": "python",
     "metadata": {},
     "outputs": []
    }
   ],
   "metadata": {}
  }
 ]
}