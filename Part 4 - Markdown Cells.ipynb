<!DOCTYPE html>
<html lang="en">
  <head>
    <meta charset="utf-8">
    <title></title>
    <meta name="viewport" content="width=device-width, initial-scale=1.0">
    <meta name="description" content="">
    <meta name="author" content="">
    <!--NEW RELIC Start Perf Measurement-->
    <script type="text/javascript">var NREUMQ=NREUMQ||[];NREUMQ.push(["mark","firstbyte",new Date().getTime()]);</script>
    <!--NREND-->

    <!-- Le styles -->
    <!--<link href="/static/css/bootstrap.css" rel="stylesheet">-->
    <link href="/static/css/docs.css" rel="stylesheet">
    <link href="/static/js/google-code-prettify/prettify.css" rel="stylesheet">
    <link href="/static/style.min.css" rel="stylesheet">
    <link href="/static/css/bootstrap-responsive.css" rel="stylesheet">

    <!-- Le HTML5 shim, for IE6-8 support of HTML5 elements -->
    <!--[if lt IE 9]>
      <script src="http://html5shim.googlecode.com/svn/trunk/html5.js"></script>
    <![endif]-->

    <!-- Le fav and touch icons -->
    <link rel="shortcut icon" href="/static/ico/ipynb_icon_16x16.png">
    <link rel="apple-touch-icon-precomposed" sizes="144x144" href="/static/ico/apple-touch-icon-144-precomposed.png">
    <link rel="apple-touch-icon-precomposed" sizes="114x114" href="/static/ico/apple-touch-icon-114-precomposed.png">
    <link rel="apple-touch-icon-precomposed" sizes="72x72" href="/static/ico/apple-touch-icon-72-precomposed.png">
    <link rel="apple-touch-icon-precomposed" href="/static/ico/apple-touch-icon-57-precomposed.png">
    
    <style type="text/css" media='screen and (min-width:980px)'>
    .navbar-inner {
        opacity: 0.5;
        transition: opacity 0.5s ease-in-out;
        -webkit-transition: opacity 0.5s ease-in-out;
    }

    .navbar-inner ul{
        opacity: 0.5;
        transition: opacity 0.5s ease-in-out;
        -webkit-transition: opacity 0.5s ease-in-out;
    }

    body{
        padding-top:50px;
    }

    </style>
    <style type="text/css" >
    .imgwrap {
        text-align: center;
    }
    .input_area{
        padding: 0.4em;
    }
    div.input_area > div.highlight > pre {
        margin: 0px;
    }

    .navbar-inner:hover {
        opacity: 1.0;
    }

    .navbar-inner:hover ul{
        opacity: 1.0;
    }

    </style>
    
    
    <link href="/static/css/pygments.css" rel="stylesheet">
    
    <script src="https://c328740.ssl.cf1.rackcdn.com/mathjax/latest/MathJax.js?config=TeX-AMS_HTML"type="text/javascript">
    </script>
    <script type="text/javascript">
    init_mathjax = function() {
        if (window.MathJax) {
            // MathJax loaded
            MathJax.Hub.Config({
                tex2jax: {
                    inlineMath: [ ['$','$'], ["\\(","\\)"] ],
                    displayMath: [ ['$$','$$'], ["\\[","\\]"] ]
                },
                displayAlign: 'left', // Change this to 'center' to center equations.
                "HTML-CSS": {
                    styles: {'.MathJax_Display': {"margin": 0}}
                }
            });
            MathJax.Hub.Queue(["Typeset",MathJax.Hub]);
        }
    }
    init_mathjax();
    </script>
    
  </head>

  <body data-spy="scroll" data-target=".subnav" data-offset="50">


  <!-- Navbar
  ================================================== -->
    <div class="navbar navbar-fixed-top">
      <div class="navbar-inner">
        <div class="container">
          <button type="button"class="btn btn-navbar" data-toggle="collapse" data-target=".nav-collapse">
            <span class="icon-bar"></span>
            <span class="icon-bar"></span>
            <span class="icon-bar"></span>
          </button>
          <div class="nav-collapse collapse">
            <ul class="nav">
              <li>
                <a href="/">Home</a>
              </li>
              <li>
                <a href="/faq">FAQ</a>
              </li>
              <li class="">
                <a href="http://www.ipython.org">IPython</a>
              </li>
              <li>
              <a href="http://penandpants.com/2012/10/16/open-in-nbviewer-bookmarklet/">Bookmarklet</a>
              </li>
              

            </ul>
              
    <ul class="nav pull-right"> 
        <li class="">
            <a href="http://github.com/ipython/ipython/raw/master/examples/notebooks/Part 4 - Markdown Cells.ipynb" download="Part 4 - Markdown Cells.ipynb">Download Notebook</a>
        </li>
    </ul>
    
          </div>
        </div>
      </div>
    </div>
    <div class="container">


    
<div class="text_cell_render border-box-sizing rendered_html">
<h1>
  Markdown Cells
</h1>
</div>

<div class="text_cell_render border-box-sizing rendered_html">
<p>Text can be added to IPython Notebooks using Markdown cells.  Markdown is a popular markup language that is a superset of HTML. Its specification can be found here:</p>
<p><a href="http://daringfireball.net/projects/markdown/">http://daringfireball.net/projects/markdown/</a></p>
</div>
<div class="text_cell_render border-box-sizing rendered_html">
<h2>
  Markdown basics
</h2>
</div>

<div class="text_cell_render border-box-sizing rendered_html">
<p>You can make text <em>italic</em> or <strong>bold</strong>.</p>
</div>
<div class="text_cell_render border-box-sizing rendered_html">
<p>You can build nested itemized or enumerated lists:</p>
<ul>
<li>One<ul>
<li>Sublist<ul>
<li>This</li>
</ul>
</li>
</ul>
</li>
<li>Sublist
        - That
        - The other thing</li>
<li>Two</li>
<li>Sublist</li>
<li>Three</li>
<li>Sublist</li>
</ul>
<p>Now another list:</p>
<ol>
<li>Here we go<ol>
<li>Sublist</li>
<li>Sublist</li>
</ol>
</li>
<li>There we go</li>
<li>Now this</li>
</ol>
</div>
<div class="text_cell_render border-box-sizing rendered_html">
<p>You can add horizontal rules:</p>
<hr />
</div>
<div class="text_cell_render border-box-sizing rendered_html">
<p>Here is a blockquote:</p>
<blockquote>
<p>Beautiful is better than ugly.
Explicit is better than implicit.
Simple is better than complex.
Complex is better than complicated.
Flat is better than nested.
Sparse is better than dense.
Readability counts.
Special cases aren't special enough to break the rules.
Although practicality beats purity.
Errors should never pass silently.
Unless explicitly silenced.
In the face of ambiguity, refuse the temptation to guess.
There should be one-- and preferably only one --obvious way to do it.
Although that way may not be obvious at first unless you're Dutch.
Now is better than never.
Although never is often better than <em>right</em> now.
If the implementation is hard to explain, it's a bad idea.
If the implementation is easy to explain, it may be a good idea.
Namespaces are one honking great idea -- let's do more of those!</p>
</blockquote>
</div>
<div class="text_cell_render border-box-sizing rendered_html">
<p>And shorthand for links:</p>
<p><a href="http://ipython.org">IPython's website</a></p>
</div>
<div class="text_cell_render border-box-sizing rendered_html">
<h2>
  Headings
</h2>
</div>

<div class="text_cell_render border-box-sizing rendered_html">
<p>If you want, you can add headings using Markdown's syntax:</p>
<h1>Heading 1</h1>
<h1>Heading 2</h1>
<h2>Heading 2.1</h2>
<h2>Heading 2.2</h2>
</div>
<div class="text_cell_render border-box-sizing rendered_html">
<p><strong>BUT most of the time you should use the Notebook's Heading Cells to organize your Notebook content</strong>, as they provide meaningful structure that can be interpreted by other tools, not just large bold fonts.</p>
</div>
<div class="text_cell_render border-box-sizing rendered_html">
<h2>
  Embedded code
</h2>
</div>

<div class="text_cell_render border-box-sizing rendered_html">
<p>You can embed code meant for illustration instead of execution in Python:</p>
<pre><code>def f(x):
    """a docstring"""
    return x**2
</code></pre>
<p>or other languages:</p>
<pre><code>if (i=0; i&lt;n; i++) {
  printf("hello %d\n", i);
  x += 4;
}
</code></pre>
</div>
<div class="text_cell_render border-box-sizing rendered_html">
<h2>
  LaTeX equations
</h2>
</div>

<div class="text_cell_render border-box-sizing rendered_html">
<p>Courtesy of MathJax, you can include mathematical expressions both inline: 
$e^{i\pi} + 1 = 0$  and displayed:</p>
<p>$$e^x=\sum_{i=0}^\infty \frac{1}{i!}x^i$$</p>
</div>
<div class="text_cell_render border-box-sizing rendered_html">
<h2>
  General HTML
</h2>
</div>

<div class="text_cell_render border-box-sizing rendered_html">
<p>Because Markdown is a superset of HTML you can even add things like HTML tables:</p>
<table>
<tr>
<th>Header 1</th>
<th>Header 2</th>
</tr>
<tr>
<td>row 1, cell 1</td>
<td>row 1, cell 2</td>
</tr>
<tr>
<td>row 2, cell 1</td>
<td>row 2, cell 2</td>
</tr>
</table>
</div>
<div class="text_cell_render border-box-sizing rendered_html">
<h2>
  Local files
</h2>
</div>

<div class="text_cell_render border-box-sizing rendered_html">
<p>If you have local files in your Notebook directory, you can refer to these files in Markdown cells via relative URLs that are prefixed with <code>files/</code>:</p>
<pre><code>files/[subdirectory/]&lt;filename&gt;
</code></pre>
<p>For example, in the example Notebook folder, we have the Python logo:</p>
<pre><code>&lt;img src="files/python-logo.svg" /&gt;
</code></pre>
<p><img src="files/python-logo.svg" /></p>
<p>and a video with the HTML5 video tag:</p>
<pre><code>&lt;video controls src="files/animation.m4v" /&gt;
</code></pre>
<video controls src="files/animation.m4v" />

These do not embed the data into the notebook file, and require that the files exist when you are viewing the notebook.
</div>
<div class="text_cell_render border-box-sizing rendered_html">
<h3>
  Security of local files
</h3>
</div>

<div class="text_cell_render border-box-sizing rendered_html">
<p>Note that this means that the IPython notebook server also acts as a generic file server
for files inside the same tree as your notebooks.  Access is not granted outside the
notebook folder so you have strict control over what files are visible, but for this
reason it is highly recommended that you do not run the notebook server with a notebook
directory at a high level in your filesystem (e.g. your home directory).</p>
<p>When you run the notebook in a password-protected manner, local file access is restricted
to authenticated users unless read-only views are active.</p>
</div>


     <!-- Footer
     ================================================== -->
      <footer class="footer">
      <p class="pull-right"><a href="#">Back to top</a></p>
      <p>More info on <a href='http://ipython.org'> IPython website </a></p>
      <p><a href="https://github.com/ipython/nbviewer">The code for this site</a> is licensed under the <a href="http://www.apache.org/licenses/LICENSE-2.0" target="_blank">Apache License v2.0</a>.
          Documentation licensed under <a href="http://creativecommons.org/licenses/by/3.0/">CC BY 3.0</a>.</p>
      <p>Some icons from <a href="http://glyphicons.com">Glyphicons Free</a>, built thanks to <a href="http://twitter.github.com/bootstrap/"> Twitter Bootstrap</a>, licensed under <a href="http://creativecommons.org/licenses/by/3.0/">CC BY 3.0</a>.</p>
      <p>This web site does not host notebooks, it only renders notebooks available on other websites.</p>
      <p>Thanks to <a href="https://github.com/v923z">Zoltàn Vörös</a> for his help</p>
      </footer>
    </div><!-- /container -->



    <!-- Le javascript
    ================================================== -->
    <!-- Placed at the end of the document so the pages load faster -->

    <!--<script type="text/javascript" src="http://platform.twitter.com/widgets.js"></script>-->
    <script src="/static/js/jquery.js"></script>
    <!--<script src="/static/js/google-code-prettify/prettify.js"></script>-->
    <!--<script src="/static/js/bootstrap-transition.js"></script>-->
    <!--<script src="/static/js/bootstrap-alert.js"></script>-->
    <!--<script src="/static/js/bootstrap-modal.js"></script>-->
    <!--<script src="/static/js/bootstrap-dropdown.js"></script>-->
    <!--<script src="/static/js/bootstrap-scrollspy.js"></script>-->
    <!--<script src="/static/js/bootstrap-tab.js"></script>-->
    <!--<script src="/static/js/bootstrap-tooltip.js"></script>-->
    <!--<script src="/static/js/bootstrap-popover.js"></script>-->
    <!--<script src="/static/js/bootstrap-button.js"></script>-->
    <script src="/static/js/bootstrap-collapse.js"></script>
    <!--<script src="/static/js/bootstrap-carousel.js"></script>-->
    <!--<script src="/static/js/bootstrap-typeahead.js"></script>-->
    <!--<script src="/static/js/application.js"></script>-->


    <!-- Analytics
    ================================================== -->
    <script type="text/javascript">
      var _gaq = _gaq || [];
      _gaq.push(['_setAccount', 'UA-38683231-2']);
      _gaq.push(['_trackPageview']);

      (function() {
        var ga = document.createElement('script'); ga.type = 'text/javascript'; ga.async = true;
        ga.src = ('https:' == document.location.protocol ? 'https://ssl' : 'http://www') + '.google-analytics.com/ga.js';
        var s = document.getElementsByTagName('script')[0]; s.parentNode.insertBefore(ga, s);
      })();

    </script>
    <!--NEW RELIC Stop Perf Measurement-->
    <script type="text/javascript">if(!NREUMQ.f){NREUMQ.f=function(){NREUMQ.push(["load",new Date().getTime()]);var e=document.createElement("script");e.type="text/javascript";e.src=(("http:"===document.location.protocol)?"http:":"https:")+"//"+"d1ros97qkrwjf5.cloudfront.net/42/eum/rum.js";document.body.appendChild(e);if(NREUMQ.a)NREUMQ.a();};NREUMQ.a=window.onload;window.onload=NREUMQ.f;};NREUMQ.push(["nrfj","beacon-3.newrelic.com","7c83165904","1528310","Y1YAMUFQXEZYUEcIVlocJBBdUkZcVl0cBlBHR1gXVl9WUEtsRhNV",17,348,new Date().getTime(),"","","","",""]);</script>
    <!--NEW RELIC End-->
  </body>
</html>