<!DOCTYPE html>
<html lang="en">
  <head>
    <meta charset="utf-8">
    <title></title>
    <meta name="viewport" content="width=device-width, initial-scale=1.0">
    <meta name="description" content="">
    <meta name="author" content="">
    <!--NEW RELIC Start Perf Measurement-->
    <script type="text/javascript">var NREUMQ=NREUMQ||[];NREUMQ.push(["mark","firstbyte",new Date().getTime()]);</script>
    <!--NREND-->

    <!-- Le styles -->
    <!--<link href="/static/css/bootstrap.css" rel="stylesheet">-->
    <link href="/static/css/docs.css" rel="stylesheet">
    <link href="/static/js/google-code-prettify/prettify.css" rel="stylesheet">
    <link href="/static/style.min.css" rel="stylesheet">
    <link href="/static/css/bootstrap-responsive.css" rel="stylesheet">

    <!-- Le HTML5 shim, for IE6-8 support of HTML5 elements -->
    <!--[if lt IE 9]>
      <script src="http://html5shim.googlecode.com/svn/trunk/html5.js"></script>
    <![endif]-->

    <!-- Le fav and touch icons -->
    <link rel="shortcut icon" href="/static/ico/ipynb_icon_16x16.png">
    <link rel="apple-touch-icon-precomposed" sizes="144x144" href="/static/ico/apple-touch-icon-144-precomposed.png">
    <link rel="apple-touch-icon-precomposed" sizes="114x114" href="/static/ico/apple-touch-icon-114-precomposed.png">
    <link rel="apple-touch-icon-precomposed" sizes="72x72" href="/static/ico/apple-touch-icon-72-precomposed.png">
    <link rel="apple-touch-icon-precomposed" href="/static/ico/apple-touch-icon-57-precomposed.png">
    
    <style type="text/css" media='screen and (min-width:980px)'>
    .navbar-inner {
        opacity: 0.5;
        transition: opacity 0.5s ease-in-out;
        -webkit-transition: opacity 0.5s ease-in-out;
    }

    .navbar-inner ul{
        opacity: 0.5;
        transition: opacity 0.5s ease-in-out;
        -webkit-transition: opacity 0.5s ease-in-out;
    }

    body{
        padding-top:50px;
    }

    </style>
    <style type="text/css" >
    .imgwrap {
        text-align: center;
    }
    .input_area{
        padding: 0.4em;
    }
    div.input_area > div.highlight > pre {
        margin: 0px;
    }

    .navbar-inner:hover {
        opacity: 1.0;
    }

    .navbar-inner:hover ul{
        opacity: 1.0;
    }

    </style>
    
    
    <link href="/static/css/pygments.css" rel="stylesheet">
    
    <script src="https://c328740.ssl.cf1.rackcdn.com/mathjax/latest/MathJax.js?config=TeX-AMS_HTML"type="text/javascript">
    </script>
    <script type="text/javascript">
    init_mathjax = function() {
        if (window.MathJax) {
            // MathJax loaded
            MathJax.Hub.Config({
                tex2jax: {
                    inlineMath: [ ['$','$'], ["\\(","\\)"] ],
                    displayMath: [ ['$$','$$'], ["\\[","\\]"] ]
                },
                displayAlign: 'left', // Change this to 'center' to center equations.
                "HTML-CSS": {
                    styles: {'.MathJax_Display': {"margin": 0}}
                }
            });
            MathJax.Hub.Queue(["Typeset",MathJax.Hub]);
        }
    }
    init_mathjax();
    </script>
    
  </head>

  <body data-spy="scroll" data-target=".subnav" data-offset="50">


  <!-- Navbar
  ================================================== -->
    <div class="navbar navbar-fixed-top">
      <div class="navbar-inner">
        <div class="container">
          <button type="button"class="btn btn-navbar" data-toggle="collapse" data-target=".nav-collapse">
            <span class="icon-bar"></span>
            <span class="icon-bar"></span>
            <span class="icon-bar"></span>
          </button>
          <div class="nav-collapse collapse">
            <ul class="nav">
              <li>
                <a href="/">Home</a>
              </li>
              <li>
                <a href="/faq">FAQ</a>
              </li>
              <li class="">
                <a href="http://www.ipython.org">IPython</a>
              </li>
              <li>
              <a href="http://penandpants.com/2012/10/16/open-in-nbviewer-bookmarklet/">Bookmarklet</a>
              </li>
              

            </ul>
              
    <ul class="nav pull-right"> 
        <li class="">
            <a href="https://github.com/ipython/ipython/raw/master/examples/notebooks/Part%201%20-%20Running%20Code.ipynb" download="Part 1 - Running Code.ipynb">Download Notebook</a>
        </li>
    </ul>
    
          </div>
        </div>
      </div>
    </div>
    <div class="container">


    
<div class="text_cell_render border-box-sizing rendered_html">
<h1>
  Running Code in the IPython Notebook
</h1>
</div>

<div class="text_cell_render border-box-sizing rendered_html">
<p>First and foremost, the IPython Notebook is an interactive environment for writing and running Python code.</p>
</div>
<div class="text_cell_render border-box-sizing rendered_html">
<h2>
  Code cells allow you to enter and run Python code
</h2>
</div>

<div class="text_cell_render border-box-sizing rendered_html">
<p>Run a code cell using <code>Shift-Enter</code> or pressing the "Play" button in the toolbar above:</p>
</div>
<div class="cell border-box-sizing code_cell vbox">
<div class="input hbox">
<div class="prompt input_prompt">In&nbsp;[10]:</div>
<div class="input_area box-flex1">
<div class="highlight"><pre><span class="n">a</span> <span class="o">=</span> <span class="mi">10</span>
</pre></div>

</div>
</div>
</div>
<div class="cell border-box-sizing code_cell vbox">
<div class="input hbox">
<div class="prompt input_prompt">In&nbsp;[11]:</div>
<div class="input_area box-flex1">
<div class="highlight"><pre><span class="k">print</span><span class="p">(</span><span class="n">a</span><span class="p">)</span>
</pre></div>

</div>
</div>
<div class="vbox output_wrapper">
<div class="hbox output_area">
<div class="prompt output_prompt"></div>
<div class="output vbox">
<div class="box-flex1 output_subarea output_stream output_stdout">
<pre>10
</pre>
</div>
</div>

</div>
</div>
</div>
<div class="text_cell_render border-box-sizing rendered_html">
<h2>
  Managing the IPython Kernel
</h2>
</div>

<div class="text_cell_render border-box-sizing rendered_html">
<p>Code is run in a separate process called the IPython Kernel.  The Kernel can be interrupted or restarted.  Try running the following cell and then hit the "Stop" button in the toolbar above.</p>
</div>
<div class="cell border-box-sizing code_cell vbox">
<div class="input hbox">
<div class="prompt input_prompt">In&nbsp;[16]:</div>
<div class="input_area box-flex1">
<div class="highlight"><pre><span class="kn">import</span> <span class="nn">time</span>
<span class="n">time</span><span class="o">.</span><span class="n">sleep</span><span class="p">(</span><span class="mi">10</span><span class="p">)</span>
</pre></div>

</div>
</div>
<div class="vbox output_wrapper">
<div class="hbox output_area">
<div class="prompt output_prompt"></div>
<div class="output vbox">
<div class="box-flex1 output_subarea output_pyerr">
<pre>
<span class="ansired">---------------------------------------------------------------------------</span>
<span class="ansired">KeyboardInterrupt</span>                         Traceback (most recent call last)
<span class="ansigreen">&lt;ipython-input-16-d7b436e260d5&gt;</span> in <span class="ansicyan">&lt;module&gt;</span><span class="ansiblue">()</span>
<span class="ansigreen">      1</span> <span class="ansigreen">import</span> time<span class="ansiblue"></span>
<span class="ansigreen">----&gt; 2</span><span class="ansired"> </span>time<span class="ansiblue">.</span>sleep<span class="ansiblue">(</span><span class="ansicyan">10</span><span class="ansiblue">)</span><span class="ansiblue"></span>

<span class="ansired">KeyboardInterrupt</span>: </pre>
</div>
</div>

</div>
</div>
</div>
<div class="text_cell_render border-box-sizing rendered_html">
<p>If the Kernel dies you will be prompted to restart it. Here we call the low-level system libc.time routine with the wrong argument via
ctypes to segfault the Python interpreter:</p>
</div>
<div class="cell border-box-sizing code_cell vbox">
<div class="input hbox">
<div class="prompt input_prompt">In&nbsp;[*]:</div>
<div class="input_area box-flex1">
<div class="highlight"><pre><span class="kn">import</span> <span class="nn">sys</span>
<span class="kn">from</span> <span class="nn">ctypes</span> <span class="kn">import</span> <span class="n">CDLL</span>
<span class="c"># This will crash a Linux or Mac system; equivalent calls can be made on Windows</span>
<span class="n">dll</span> <span class="o">=</span> <span class="s">&#39;dylib&#39;</span> <span class="k">if</span> <span class="n">sys</span><span class="o">.</span><span class="n">platform</span> <span class="o">==</span> <span class="s">&#39;darwin&#39;</span> <span class="k">else</span> <span class="s">&#39;so.6&#39;</span>
<span class="n">libc</span> <span class="o">=</span> <span class="n">CDLL</span><span class="p">(</span><span class="s">&quot;libc.</span><span class="si">%s</span><span class="s">&quot;</span> <span class="o">%</span> <span class="n">dll</span><span class="p">)</span> 
<span class="n">libc</span><span class="o">.</span><span class="n">time</span><span class="p">(</span><span class="o">-</span><span class="mi">1</span><span class="p">)</span>  <span class="c"># BOOM!!</span>
</pre></div>

</div>
</div>
</div>
<div class="text_cell_render border-box-sizing rendered_html">
<h2>
  All of the goodness of IPython works
</h2>
</div>

<div class="text_cell_render border-box-sizing rendered_html">
<p>Here are two system aliases:</p>
</div>
<div class="cell border-box-sizing code_cell vbox">
<div class="input hbox">
<div class="prompt input_prompt">In&nbsp;[4]:</div>
<div class="input_area box-flex1">
<div class="highlight"><pre><span class="n">pwd</span>
</pre></div>

</div>
</div>
<div class="vbox output_wrapper">
<div class="hbox output_area">
<div class="prompt output_prompt">Out[4]:</div>
<div class="output vbox">
<div class="box-flex1 output_subarea output_pyout">

<pre>u&apos;/Users/bgranger/Documents/Computation/IPython/code/ipython/examples/notebooks&apos;</pre>
</div>
</div>

</div>
</div>
</div>
<div class="cell border-box-sizing code_cell vbox">
<div class="input hbox">
<div class="prompt input_prompt">In&nbsp;[2]:</div>
<div class="input_area box-flex1">
<div class="highlight"><pre><span class="n">ls</span>
</pre></div>

</div>
</div>
<div class="vbox output_wrapper">
<div class="hbox output_area">
<div class="prompt output_prompt"></div>
<div class="output vbox">
<div class="box-flex1 output_subarea output_stream output_stdout">
<pre>01_notebook_introduction.ipynb        Octave Magic.ipynb
Animations Using clear_output.ipynb   PyLab and Matplotlib.ipynb
Basic Output.ipynb                    R Magics.ipynb
Custom Display Logic.ipynb            Running Code.ipynb
Cython Magics.ipynb                   Script Magics.ipynb
Data Publication API.ipynb            SymPy Examples.ipynb
Display System.ipynb                  Trapezoid Rule.ipynb
JS Progress Bar.ipynb                 Typesetting Math Using MathJax.ipynb
Local Files.ipynb                     animation.m4v
Markdown Cells.ipynb                  python-logo.svg
Notebook Tour.ipynb
</pre>
</div>
</div>

</div>
</div>
</div>
<div class="text_cell_render border-box-sizing rendered_html">
<p>Any command line program can be run using <code>!</code> with string interpolation from Python variables:</p>
</div>
<div class="cell border-box-sizing code_cell vbox">
<div class="input hbox">
<div class="prompt input_prompt">In&nbsp;[]:</div>
<div class="input_area box-flex1">
<div class="highlight"><pre><span class="n">message</span> <span class="o">=</span> <span class="s">&#39;The IPython notebook is great!&#39;</span>
<span class="c"># note: the echo command does not run on Windows, it&#39;s a unix command.</span>
<span class="o">!</span><span class="nb">echo</span> <span class="nv">$message</span>
</pre></div>

</div>
</div>
</div>
<div class="text_cell_render border-box-sizing rendered_html">
<p>Tab completion works:</p>
</div>
<div class="cell border-box-sizing code_cell vbox">
<div class="input hbox">
<div class="prompt input_prompt">In&nbsp;[9]:</div>
<div class="input_area box-flex1">
<div class="highlight"><pre><span class="kn">import</span> <span class="nn">numpy</span>
<span class="n">numpy</span><span class="o">.</span><span class="n">random</span><span class="o">.</span>
</pre></div>

</div>
</div>
</div>
<div class="text_cell_render border-box-sizing rendered_html">
<p>Tab completion after <code>(</code> brings up a tooltip with the docstring:</p>
</div>
<div class="cell border-box-sizing code_cell vbox">
<div class="input hbox">
<div class="prompt input_prompt">In&nbsp;[]:</div>
<div class="input_area box-flex1">
<div class="highlight"><pre><span class="n">numpy</span><span class="o">.</span><span class="n">random</span><span class="o">.</span><span class="n">rand</span><span class="p">(</span>
</pre></div>

</div>
</div>
</div>
<div class="text_cell_render border-box-sizing rendered_html">
<p>Adding <code>?</code> opens the docstring in the pager below:</p>
</div>
<div class="cell border-box-sizing code_cell vbox">
<div class="input hbox">
<div class="prompt input_prompt">In&nbsp;[8]:</div>
<div class="input_area box-flex1">
<div class="highlight"><pre><span class="n">magic</span><span class="err">?</span>
</pre></div>

</div>
</div>
</div>
<div class="text_cell_render border-box-sizing rendered_html">
<p>Exceptions are formatted nicely:</p>
</div>
<div class="cell border-box-sizing code_cell vbox">
<div class="input hbox">
<div class="prompt input_prompt">In&nbsp;[15]:</div>
<div class="input_area box-flex1">
<div class="highlight"><pre><span class="n">x</span> <span class="o">=</span> <span class="mi">1</span>
<span class="n">y</span> <span class="o">=</span> <span class="mi">4</span>
<span class="n">z</span> <span class="o">=</span> <span class="n">y</span><span class="o">/</span><span class="p">(</span><span class="mi">1</span><span class="o">-</span><span class="n">x</span><span class="p">)</span>
</pre></div>

</div>
</div>
<div class="vbox output_wrapper">
<div class="hbox output_area">
<div class="prompt output_prompt"></div>
<div class="output vbox">
<div class="box-flex1 output_subarea output_pyerr">
<pre>
<span class="ansired">---------------------------------------------------------------------------</span>
<span class="ansired">ZeroDivisionError</span>                         Traceback (most recent call last)
<span class="ansigreen">&lt;ipython-input-15-dc39888fd1d2&gt;</span> in <span class="ansicyan">&lt;module&gt;</span><span class="ansiblue">()</span>
<span class="ansigreen">      1</span> x <span class="ansiblue">=</span> <span class="ansicyan">1</span><span class="ansiblue"></span>
<span class="ansigreen">      2</span> y <span class="ansiblue">=</span> <span class="ansicyan">4</span><span class="ansiblue"></span>
<span class="ansigreen">----&gt; 3</span><span class="ansired"> </span>z <span class="ansiblue">=</span> y<span class="ansiblue">/</span><span class="ansiblue">(</span><span class="ansicyan">1</span><span class="ansiblue">-</span>x<span class="ansiblue">)</span><span class="ansiblue"></span>

<span class="ansired">ZeroDivisionError</span>: integer division or modulo by zero</pre>
</div>
</div>

</div>
</div>
</div>
<div class="text_cell_render border-box-sizing rendered_html">
<h2>
  Working with external code
</h2>
</div>

<div class="text_cell_render border-box-sizing rendered_html">
<p>There are a number of ways of getting external code into code cells.</p>
</div>
<div class="text_cell_render border-box-sizing rendered_html">
<p>Pasting code with <code>&gt;&gt;&gt;</code> prompts works as expected:</p>
</div>
<div class="cell border-box-sizing code_cell vbox">
<div class="input hbox">
<div class="prompt input_prompt">In&nbsp;[1]:</div>
<div class="input_area box-flex1">
<div class="highlight"><pre><span class="o">&gt;&gt;&gt;</span> <span class="n">the_world_is_flat</span> <span class="o">=</span> <span class="mi">1</span>
<span class="o">&gt;&gt;&gt;</span> <span class="k">if</span> <span class="n">the_world_is_flat</span><span class="p">:</span>
<span class="o">...</span>     <span class="k">print</span><span class="p">(</span><span class="s">&quot;Be careful not to fall off!&quot;</span><span class="p">)</span>
</pre></div>

</div>
</div>
<div class="vbox output_wrapper">
<div class="hbox output_area">
<div class="prompt output_prompt"></div>
<div class="output vbox">
<div class="box-flex1 output_subarea output_stream output_stdout">
<pre>Be careful not to fall off!
</pre>
</div>
</div>

</div>
</div>
</div>
<div class="text_cell_render border-box-sizing rendered_html">
<p>The <code>%load</code> magic lets you load code from URLs or local files:</p>
</div>
<div class="cell border-box-sizing code_cell vbox">
<div class="input hbox">
<div class="prompt input_prompt">In&nbsp;[14]:</div>
<div class="input_area box-flex1">
<div class="highlight"><pre><span class="o">%</span><span class="k">load</span><span class="err">?</span>
</pre></div>

</div>
</div>
</div>
<div class="cell border-box-sizing code_cell vbox">
<div class="input hbox">
<div class="prompt input_prompt">In&nbsp;[2]:</div>
<div class="input_area box-flex1">
<div class="highlight"><pre><span class="o">%</span><span class="k">pylab</span> <span class="n">inline</span>
</pre></div>

</div>
</div>
<div class="vbox output_wrapper">
<div class="hbox output_area">
<div class="prompt output_prompt"></div>
<div class="output vbox">
<div class="box-flex1 output_subarea output_stream output_stdout">
<pre>
Welcome to pylab, a matplotlib-based Python environment [backend: module://IPython.kernel.zmq.pylab.backend_inline].
For more information, type &apos;help(pylab)&apos;.
</pre>
</div>
</div>

</div>
</div>
</div>
<div class="cell border-box-sizing code_cell vbox">
<div class="input hbox">
<div class="prompt input_prompt">In&nbsp;[3]:</div>
<div class="input_area box-flex1">
<div class="highlight"><pre><span class="o">%</span><span class="k">load</span> <span class="n">http</span><span class="p">:</span><span class="o">//</span><span class="n">matplotlib</span><span class="o">.</span><span class="n">sourceforge</span><span class="o">.</span><span class="n">net</span><span class="o">/</span><span class="n">mpl_examples</span><span class="o">/</span><span class="n">pylab_examples</span><span class="o">/</span><span class="n">integral_demo</span><span class="o">.</span><span class="n">py</span>
</pre></div>

</div>
</div>
</div>
<div class="cell border-box-sizing code_cell vbox">
<div class="input hbox">
<div class="prompt input_prompt">In&nbsp;[]:</div>
<div class="input_area box-flex1">
<div class="highlight"><pre><span class="c">#!/usr/bin/env python</span>

<span class="c"># implement the example graphs/integral from pyx</span>
<span class="kn">from</span> <span class="nn">pylab</span> <span class="kn">import</span> <span class="o">*</span>
<span class="kn">from</span> <span class="nn">matplotlib.patches</span> <span class="kn">import</span> <span class="n">Polygon</span>

<span class="k">def</span> <span class="nf">func</span><span class="p">(</span><span class="n">x</span><span class="p">):</span>
    <span class="k">return</span> <span class="p">(</span><span class="n">x</span><span class="o">-</span><span class="mi">3</span><span class="p">)</span><span class="o">*</span><span class="p">(</span><span class="n">x</span><span class="o">-</span><span class="mi">5</span><span class="p">)</span><span class="o">*</span><span class="p">(</span><span class="n">x</span><span class="o">-</span><span class="mi">7</span><span class="p">)</span><span class="o">+</span><span class="mi">85</span>

<span class="n">ax</span> <span class="o">=</span> <span class="n">subplot</span><span class="p">(</span><span class="mi">111</span><span class="p">)</span>

<span class="n">a</span><span class="p">,</span> <span class="n">b</span> <span class="o">=</span> <span class="mi">2</span><span class="p">,</span> <span class="mi">9</span> <span class="c"># integral area</span>
<span class="n">x</span> <span class="o">=</span> <span class="n">arange</span><span class="p">(</span><span class="mi">0</span><span class="p">,</span> <span class="mi">10</span><span class="p">,</span> <span class="mf">0.01</span><span class="p">)</span>
<span class="n">y</span> <span class="o">=</span> <span class="n">func</span><span class="p">(</span><span class="n">x</span><span class="p">)</span>
<span class="n">plot</span><span class="p">(</span><span class="n">x</span><span class="p">,</span> <span class="n">y</span><span class="p">,</span> <span class="n">linewidth</span><span class="o">=</span><span class="mi">1</span><span class="p">)</span>

<span class="c"># make the shaded region</span>
<span class="n">ix</span> <span class="o">=</span> <span class="n">arange</span><span class="p">(</span><span class="n">a</span><span class="p">,</span> <span class="n">b</span><span class="p">,</span> <span class="mf">0.01</span><span class="p">)</span>
<span class="n">iy</span> <span class="o">=</span> <span class="n">func</span><span class="p">(</span><span class="n">ix</span><span class="p">)</span>
<span class="n">verts</span> <span class="o">=</span> <span class="p">[(</span><span class="n">a</span><span class="p">,</span><span class="mi">0</span><span class="p">)]</span> <span class="o">+</span> <span class="nb">zip</span><span class="p">(</span><span class="n">ix</span><span class="p">,</span><span class="n">iy</span><span class="p">)</span> <span class="o">+</span> <span class="p">[(</span><span class="n">b</span><span class="p">,</span><span class="mi">0</span><span class="p">)]</span>
<span class="n">poly</span> <span class="o">=</span> <span class="n">Polygon</span><span class="p">(</span><span class="n">verts</span><span class="p">,</span> <span class="n">facecolor</span><span class="o">=</span><span class="s">&#39;0.8&#39;</span><span class="p">,</span> <span class="n">edgecolor</span><span class="o">=</span><span class="s">&#39;k&#39;</span><span class="p">)</span>
<span class="n">ax</span><span class="o">.</span><span class="n">add_patch</span><span class="p">(</span><span class="n">poly</span><span class="p">)</span>

<span class="n">text</span><span class="p">(</span><span class="mf">0.5</span> <span class="o">*</span> <span class="p">(</span><span class="n">a</span> <span class="o">+</span> <span class="n">b</span><span class="p">),</span> <span class="mi">30</span><span class="p">,</span>
     <span class="s">r&quot;$\int_a^b f(x)\mathrm{d}x$&quot;</span><span class="p">,</span> <span class="n">horizontalalignment</span><span class="o">=</span><span class="s">&#39;center&#39;</span><span class="p">,</span>
     <span class="n">fontsize</span><span class="o">=</span><span class="mi">20</span><span class="p">)</span>

<span class="n">axis</span><span class="p">([</span><span class="mi">0</span><span class="p">,</span><span class="mi">10</span><span class="p">,</span> <span class="mi">0</span><span class="p">,</span> <span class="mi">180</span><span class="p">])</span>
<span class="n">figtext</span><span class="p">(</span><span class="mf">0.9</span><span class="p">,</span> <span class="mf">0.05</span><span class="p">,</span> <span class="s">&#39;x&#39;</span><span class="p">)</span>
<span class="n">figtext</span><span class="p">(</span><span class="mf">0.1</span><span class="p">,</span> <span class="mf">0.9</span><span class="p">,</span> <span class="s">&#39;y&#39;</span><span class="p">)</span>
<span class="n">ax</span><span class="o">.</span><span class="n">set_xticks</span><span class="p">((</span><span class="n">a</span><span class="p">,</span><span class="n">b</span><span class="p">))</span>
<span class="n">ax</span><span class="o">.</span><span class="n">set_xticklabels</span><span class="p">((</span><span class="s">&#39;a&#39;</span><span class="p">,</span><span class="s">&#39;b&#39;</span><span class="p">))</span>
<span class="n">ax</span><span class="o">.</span><span class="n">set_yticks</span><span class="p">([])</span>
<span class="n">show</span><span class="p">()</span>
</pre></div>

</div>
</div>
</div>


     <!-- Footer
     ================================================== -->
      <footer class="footer">
      <p class="pull-right"><a href="#">Back to top</a></p>
      <p>More info on <a href='http://ipython.org'> IPython website </a></p>
      <p><a href="https://github.com/ipython/nbviewer">The code for this site</a> is licensed under the <a href="http://www.apache.org/licenses/LICENSE-2.0" target="_blank">Apache License v2.0</a>.
          Documentation licensed under <a href="http://creativecommons.org/licenses/by/3.0/">CC BY 3.0</a>.</p>
      <p>Some icons from <a href="http://glyphicons.com">Glyphicons Free</a>, built thanks to <a href="http://twitter.github.com/bootstrap/"> Twitter Bootstrap</a>, licensed under <a href="http://creativecommons.org/licenses/by/3.0/">CC BY 3.0</a>.</p>
      <p>This web site does not host notebooks, it only renders notebooks available on other websites.</p>
      <p>Thanks to <a href="https://github.com/v923z">Zoltàn Vörös</a> for his help</p>
      </footer>
    </div><!-- /container -->



    <!-- Le javascript
    ================================================== -->
    <!-- Placed at the end of the document so the pages load faster -->

    <!--<script type="text/javascript" src="http://platform.twitter.com/widgets.js"></script>-->
    <script src="/static/js/jquery.js"></script>
    <!--<script src="/static/js/google-code-prettify/prettify.js"></script>-->
    <!--<script src="/static/js/bootstrap-transition.js"></script>-->
    <!--<script src="/static/js/bootstrap-alert.js"></script>-->
    <!--<script src="/static/js/bootstrap-modal.js"></script>-->
    <!--<script src="/static/js/bootstrap-dropdown.js"></script>-->
    <!--<script src="/static/js/bootstrap-scrollspy.js"></script>-->
    <!--<script src="/static/js/bootstrap-tab.js"></script>-->
    <!--<script src="/static/js/bootstrap-tooltip.js"></script>-->
    <!--<script src="/static/js/bootstrap-popover.js"></script>-->
    <!--<script src="/static/js/bootstrap-button.js"></script>-->
    <script src="/static/js/bootstrap-collapse.js"></script>
    <!--<script src="/static/js/bootstrap-carousel.js"></script>-->
    <!--<script src="/static/js/bootstrap-typeahead.js"></script>-->
    <!--<script src="/static/js/application.js"></script>-->


    <!-- Analytics
    ================================================== -->
    <script type="text/javascript">
      var _gaq = _gaq || [];
      _gaq.push(['_setAccount', 'UA-38683231-2']);
      _gaq.push(['_trackPageview']);

      (function() {
        var ga = document.createElement('script'); ga.type = 'text/javascript'; ga.async = true;
        ga.src = ('https:' == document.location.protocol ? 'https://ssl' : 'http://www') + '.google-analytics.com/ga.js';
        var s = document.getElementsByTagName('script')[0]; s.parentNode.insertBefore(ga, s);
      })();

    </script>
    <!--NEW RELIC Stop Perf Measurement-->
    <script type="text/javascript">if(!NREUMQ.f){NREUMQ.f=function(){NREUMQ.push(["load",new Date().getTime()]);var e=document.createElement("script");e.type="text/javascript";e.src=(("http:"===document.location.protocol)?"http:":"https:")+"//"+"d1ros97qkrwjf5.cloudfront.net/42/eum/rum.js";document.body.appendChild(e);if(NREUMQ.a)NREUMQ.a();};NREUMQ.a=window.onload;window.onload=NREUMQ.f;};NREUMQ.push(["nrfj","beacon-3.newrelic.com","7c83165904","1528310","Y1YAMUFQXEZYUEcIVlocJBBdUkZcVl0cBlBHR1gXVl9WUEtsRhNVRw==",83,2564,new Date().getTime(),"","","","",""]);</script>
    <!--NEW RELIC End-->
  </body>
</html>