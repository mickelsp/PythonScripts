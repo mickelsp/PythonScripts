<!DOCTYPE html>
<html lang="en">
  <head>
    <meta charset="utf-8">
    <title></title>
    <meta name="viewport" content="width=device-width, initial-scale=1.0">
    <meta name="description" content="">
    <meta name="author" content="">
    <!--NEW RELIC Start Perf Measurement-->
    <script type="text/javascript">var NREUMQ=NREUMQ||[];NREUMQ.push(["mark","firstbyte",new Date().getTime()]);</script>
    <!--NREND-->

    <!-- Le styles -->
    <!--<link href="/static/css/bootstrap.css" rel="stylesheet">-->
    <link href="/static/css/docs.css" rel="stylesheet">
    <link href="/static/js/google-code-prettify/prettify.css" rel="stylesheet">
    <link href="/static/style.min.css" rel="stylesheet">
    <link href="/static/css/bootstrap-responsive.css" rel="stylesheet">

    <!-- Le HTML5 shim, for IE6-8 support of HTML5 elements -->
    <!--[if lt IE 9]>
      <script src="http://html5shim.googlecode.com/svn/trunk/html5.js"></script>
    <![endif]-->

    <!-- Le fav and touch icons -->
    <link rel="shortcut icon" href="/static/ico/ipynb_icon_16x16.png">
    <link rel="apple-touch-icon-precomposed" sizes="144x144" href="/static/ico/apple-touch-icon-144-precomposed.png">
    <link rel="apple-touch-icon-precomposed" sizes="114x114" href="/static/ico/apple-touch-icon-114-precomposed.png">
    <link rel="apple-touch-icon-precomposed" sizes="72x72" href="/static/ico/apple-touch-icon-72-precomposed.png">
    <link rel="apple-touch-icon-precomposed" href="/static/ico/apple-touch-icon-57-precomposed.png">
    
    <style type="text/css" media='screen and (min-width:980px)'>
    .navbar-inner {
        opacity: 0.5;
        transition: opacity 0.5s ease-in-out;
        -webkit-transition: opacity 0.5s ease-in-out;
    }

    .navbar-inner ul{
        opacity: 0.5;
        transition: opacity 0.5s ease-in-out;
        -webkit-transition: opacity 0.5s ease-in-out;
    }

    body{
        padding-top:50px;
    }

    </style>
    <style type="text/css" >
    .imgwrap {
        text-align: center;
    }
    .input_area{
        padding: 0.4em;
    }
    div.input_area > div.highlight > pre {
        margin: 0px;
    }

    .navbar-inner:hover {
        opacity: 1.0;
    }

    .navbar-inner:hover ul{
        opacity: 1.0;
    }

    </style>
    
    
    <link href="/static/css/pygments.css" rel="stylesheet">
    
    <script src="https://c328740.ssl.cf1.rackcdn.com/mathjax/latest/MathJax.js?config=TeX-AMS_HTML"type="text/javascript">
    </script>
    <script type="text/javascript">
    init_mathjax = function() {
        if (window.MathJax) {
            // MathJax loaded
            MathJax.Hub.Config({
                tex2jax: {
                    inlineMath: [ ['$','$'], ["\\(","\\)"] ],
                    displayMath: [ ['$$','$$'], ["\\[","\\]"] ]
                },
                displayAlign: 'left', // Change this to 'center' to center equations.
                "HTML-CSS": {
                    styles: {'.MathJax_Display': {"margin": 0}}
                }
            });
            MathJax.Hub.Queue(["Typeset",MathJax.Hub]);
        }
    }
    init_mathjax();
    </script>
    
  </head>

  <body data-spy="scroll" data-target=".subnav" data-offset="50">


  <!-- Navbar
  ================================================== -->
    <div class="navbar navbar-fixed-top">
      <div class="navbar-inner">
        <div class="container">
          <button type="button"class="btn btn-navbar" data-toggle="collapse" data-target=".nav-collapse">
            <span class="icon-bar"></span>
            <span class="icon-bar"></span>
            <span class="icon-bar"></span>
          </button>
          <div class="nav-collapse collapse">
            <ul class="nav">
              <li>
                <a href="/">Home</a>
              </li>
              <li>
                <a href="/faq">FAQ</a>
              </li>
              <li class="">
                <a href="http://www.ipython.org">IPython</a>
              </li>
              <li>
              <a href="http://penandpants.com/2012/10/16/open-in-nbviewer-bookmarklet/">Bookmarklet</a>
              </li>
              

            </ul>
              
    <ul class="nav pull-right"> 
        <li class="">
            <a href="http://github.com/ipython/ipython/raw/master/examples/notebooks/Part 5 - Rich Display System.ipynb" download="Part 5 - Rich Display System.ipynb">Download Notebook</a>
        </li>
    </ul>
    
          </div>
        </div>
      </div>
    </div>
    <div class="container">


    
<div class="text_cell_render border-box-sizing rendered_html">
<h1>
  IPython's Rich Display System
</h1>
</div>

<div class="text_cell_render border-box-sizing rendered_html">
<p>In Python, objects can declare their textual representation using the <code>__repr__</code> method.  IPython expands on this idea and allows objects to declare other, richer representations including:</p>
<ul>
<li>HTML</li>
<li>JSON</li>
<li>PNG</li>
<li>JPEG</li>
<li>SVG</li>
<li>LaTeX</li>
</ul>
<p>A single object can declare some or all of these representations; all are handled by IPython's <em>display system</em>. This Notebook shows how you can use this display system to incorporate a broad range of content into your Notebooks.</p>
</div>
<div class="text_cell_render border-box-sizing rendered_html">
<h2>
  Basic display imports
</h2>
</div>

<div class="text_cell_render border-box-sizing rendered_html">
<p>The <code>display</code> function is a general purpose tool for displaying different representations of objects. Think of it as <code>print</code> for these rich representations.</p>
</div>
<div class="cell border-box-sizing code_cell vbox">
<div class="input hbox">
<div class="prompt input_prompt">In&nbsp;[8]:</div>
<div class="input_area box-flex1">
<div class="highlight"><pre><span class="kn">from</span> <span class="nn">IPython.display</span> <span class="kn">import</span> <span class="n">display</span>
</pre></div>

</div>
</div>
</div>
<div class="text_cell_render border-box-sizing rendered_html">
<p>A few points:</p>
<ul>
<li>Calling <code>display</code> on an object will send <strong>all</strong> possible representations to the Notebook.</li>
<li>These representations are stored in the Notebook document.</li>
<li>In general the Notebook will use the richest available representation.</li>
</ul>
<p>If you want to display a particular representation, there are specific functions for that:</p>
</div>
<div class="cell border-box-sizing code_cell vbox">
<div class="input hbox">
<div class="prompt input_prompt">In&nbsp;[11]:</div>
<div class="input_area box-flex1">
<div class="highlight"><pre><span class="kn">from</span> <span class="nn">IPython.display</span> <span class="kn">import</span> <span class="n">display_pretty</span><span class="p">,</span> <span class="n">display_html</span><span class="p">,</span> <span class="n">display_jpeg</span><span class="p">,</span> <span class="n">display_png</span><span class="p">,</span> <span class="n">display_json</span><span class="p">,</span> <span class="n">display_latex</span><span class="p">,</span> <span class="n">display_svg</span>
</pre></div>

</div>
</div>
</div>
<div class="text_cell_render border-box-sizing rendered_html">
<h2>
  Images
</h2>
</div>

<div class="text_cell_render border-box-sizing rendered_html">
<p>To work with images (JPEG, PNG) use the <code>Image</code> class.</p>
</div>
<div class="cell border-box-sizing code_cell vbox">
<div class="input hbox">
<div class="prompt input_prompt">In&nbsp;[2]:</div>
<div class="input_area box-flex1">
<div class="highlight"><pre><span class="kn">from</span> <span class="nn">IPython.display</span> <span class="kn">import</span> <span class="n">Image</span>
</pre></div>

</div>
</div>
</div>
<div class="cell border-box-sizing code_cell vbox">
<div class="input hbox">
<div class="prompt input_prompt">In&nbsp;[5]:</div>
<div class="input_area box-flex1">
<div class="highlight"><pre><span class="n">i</span> <span class="o">=</span> <span class="n">Image</span><span class="p">(</span><span class="n">filename</span><span class="o">=</span><span class="s">&#39;logo/logo.png&#39;</span><span class="p">)</span>
</pre></div>

</div>
</div>
</div>
<div class="text_cell_render border-box-sizing rendered_html">
<p>Returning an <code>Image</code> object from an expression will automatically display it:</p>
</div>
<div class="cell border-box-sizing code_cell vbox">
<div class="input hbox">
<div class="prompt input_prompt">In&nbsp;[6]:</div>
<div class="input_area box-flex1">
<div class="highlight"><pre><span class="n">i</span>
</pre></div>

</div>
</div>
<div class="vbox output_wrapper">
<div class="hbox output_area">
<div class="prompt output_prompt">Out[6]:</div>
<div class="output vbox">
<div class="box-flex1 output_subarea output_pyout">

<img src="data:image/png;base64,iVBORw0KGgoAAAANSUhEUgAAAggAAABDCAYAAAD5/P3lAAAABHNCSVQICAgIfAhkiAAAAAlwSFlz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"></img>
</div>
</div>

</div>
</div>
</div>
<div class="text_cell_render border-box-sizing rendered_html">
<p>Or you can pass it to <code>display</code>:</p>
</div>
<div class="cell border-box-sizing code_cell vbox">
<div class="input hbox">
<div class="prompt input_prompt">In&nbsp;[9]:</div>
<div class="input_area box-flex1">
<div class="highlight"><pre><span class="n">display</span><span class="p">(</span><span class="n">i</span><span class="p">)</span>
</pre></div>

</div>
</div>
<div class="vbox output_wrapper">
<div class="hbox output_area">
<div class="prompt output_prompt"></div>
<div class="output vbox">
<div class="box-flex1 output_subarea output_display_data">

<img src="data:image/png;base64,iVBORw0KGgoAAAANSUhEUgAAAggAAABDCAYAAAD5/P3lAAAABHNCSVQICAgIfAhkiAAAAAlwSFlz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"></img>
</div>
</div>

</div>
</div>
</div>
<div class="text_cell_render border-box-sizing rendered_html">
<p>An image can also be displayed from raw data or a url</p>
</div>
<div class="cell border-box-sizing code_cell vbox">
<div class="input hbox">
<div class="prompt input_prompt">In&nbsp;[2]:</div>
<div class="input_area box-flex1">
<div class="highlight"><pre><span class="n">Image</span><span class="p">(</span><span class="n">url</span><span class="o">=</span><span class="s">&#39;http://python.org/images/python-logo.gif&#39;</span><span class="p">)</span>
</pre></div>

</div>
</div>
<div class="vbox output_wrapper">
<div class="hbox output_area">
<div class="prompt output_prompt">Out[2]:</div>
<div class="output vbox">
<div class="box-flex1 output_subarea output_pyout">
<div class="output_html rendered_html">
<img src="http://python.org/images/python-logo.gif" />
</div>
</div>
</div>

</div>
</div>
</div>
<div class="text_cell_render border-box-sizing rendered_html">
<p>SVG images are also supported out of the box (since modern browsers do a good job of rendering them):</p>
</div>
<div class="cell border-box-sizing code_cell vbox">
<div class="input hbox">
<div class="prompt input_prompt">In&nbsp;[3]:</div>
<div class="input_area box-flex1">
<div class="highlight"><pre><span class="kn">from</span> <span class="nn">IPython.display</span> <span class="kn">import</span> <span class="n">SVG</span>
<span class="n">SVG</span><span class="p">(</span><span class="n">filename</span><span class="o">=</span><span class="s">&#39;python-logo.svg&#39;</span><span class="p">)</span>
</pre></div>

</div>
</div>
<div class="vbox output_wrapper">
<div class="hbox output_area">
<div class="prompt output_prompt">Out[3]:</div>
<div class="output vbox">
<div class="box-flex1 output_subarea output_pyout">
<svg height="115.02pt" id="svg2" inkscape:version="0.43" sodipodi:docbase="/home/sdeibel" sodipodi:docname="logo-python-generic.svg" sodipodi:version="0.32" version="1.0" width="388.84pt" xmlns="http://www.w3.org/2000/svg" xmlns:cc="http://web.resource.org/cc/" xmlns:dc="http://purl.org/dc/elements/1.1/" xmlns:inkscape="http://www.inkscape.org/namespaces/inkscape" xmlns:rdf="http://www.w3.org/1999/02/22-rdf-syntax-ns#" xmlns:sodipodi="http://inkscape.sourceforge.net/DTD/sodipodi-0.dtd" xmlns:svg="http://www.w3.org/2000/svg" xmlns:xlink="http://www.w3.org/1999/xlink">
  <metadata id="metadata2193">
    <rdf:RDF>
      <cc:Work rdf:about="">
        <dc:format>image/svg+xml</dc:format>
        <dc:type rdf:resource="http://purl.org/dc/dcmitype/StillImage"/>
      </cc:Work>
    </rdf:RDF>
  </metadata>
  <sodipodi:namedview bordercolor="#666666" borderopacity="1.0" id="base" inkscape:current-layer="svg2" inkscape:cx="243.02499" inkscape:cy="71.887497" inkscape:pageopacity="0.0" inkscape:pageshadow="2" inkscape:window-height="543" inkscape:window-width="791" inkscape:window-x="0" inkscape:window-y="0" inkscape:zoom="1.4340089" pagecolor="#ffffff"/>
  <defs id="defs4">
    <linearGradient id="linearGradient2795">
      <stop id="stop2797" offset="0" style="stop-color:#b8b8b8;stop-opacity:0.49803922"/>
      <stop id="stop2799" offset="1" style="stop-color:#7f7f7f;stop-opacity:0"/>
    </linearGradient>
    <linearGradient id="linearGradient2787">
      <stop id="stop2789" offset="0" style="stop-color:#7f7f7f;stop-opacity:0.5"/>
      <stop id="stop2791" offset="1" style="stop-color:#7f7f7f;stop-opacity:0"/>
    </linearGradient>
    <linearGradient id="linearGradient3676">
      <stop id="stop3678" offset="0" style="stop-color:#b2b2b2;stop-opacity:0.5"/>
      <stop id="stop3680" offset="1" style="stop-color:#b3b3b3;stop-opacity:0"/>
    </linearGradient>
    <linearGradient id="linearGradient3236">
      <stop id="stop3244" offset="0" style="stop-color:#f4f4f4;stop-opacity:1"/>
      <stop id="stop3240" offset="1" style="stop-color:#ffffff;stop-opacity:1"/>
    </linearGradient>
    <linearGradient id="linearGradient4671">
      <stop id="stop4673" offset="0" style="stop-color:#ffd43b;stop-opacity:1"/>
      <stop id="stop4675" offset="1" style="stop-color:#ffe873;stop-opacity:1"/>
    </linearGradient>
    <linearGradient id="linearGradient4689">
      <stop id="stop4691" offset="0" style="stop-color:#5a9fd4;stop-opacity:1"/>
      <stop id="stop4693" offset="1" style="stop-color:#306998;stop-opacity:1"/>
    </linearGradient>
    <linearGradient gradientTransform="translate(100.2702,99.61116)" gradientUnits="userSpaceOnUse" id="linearGradient2987" x1="224.23996" x2="-65.308502" xlink:href="#linearGradient4671" y1="144.75717" y2="144.75717"/>
    <linearGradient gradientTransform="translate(100.2702,99.61116)" gradientUnits="userSpaceOnUse" id="linearGradient2990" x1="172.94208" x2="26.670298" xlink:href="#linearGradient4689" y1="77.475983" y2="76.313133"/>
    <linearGradient gradientTransform="translate(100.2702,99.61116)" gradientUnits="userSpaceOnUse" id="linearGradient2587" x1="172.94208" x2="26.670298" xlink:href="#linearGradient4689" y1="77.475983" y2="76.313133"/>
    <linearGradient gradientTransform="translate(100.2702,99.61116)" gradientUnits="userSpaceOnUse" id="linearGradient2589" x1="224.23996" x2="-65.308502" xlink:href="#linearGradient4671" y1="144.75717" y2="144.75717"/>
    <linearGradient gradientTransform="translate(100.2702,99.61116)" gradientUnits="userSpaceOnUse" id="linearGradient2248" x1="172.94208" x2="26.670298" xlink:href="#linearGradient4689" y1="77.475983" y2="76.313133"/>
    <linearGradient gradientTransform="translate(100.2702,99.61116)" gradientUnits="userSpaceOnUse" id="linearGradient2250" x1="224.23996" x2="-65.308502" xlink:href="#linearGradient4671" y1="144.75717" y2="144.75717"/>
    <linearGradient gradientTransform="matrix(0.562541,0,0,0.567972,-11.5974,-7.60954)" gradientUnits="userSpaceOnUse" id="linearGradient2255" x1="224.23996" x2="-65.308502" xlink:href="#linearGradient4671" y1="144.75717" y2="144.75717"/>
    <linearGradient gradientTransform="matrix(0.562541,0,0,0.567972,-11.5974,-7.60954)" gradientUnits="userSpaceOnUse" id="linearGradient2258" x1="172.94208" x2="26.670298" xlink:href="#linearGradient4689" y1="76.176224" y2="76.313133"/>
    <radialGradient cx="61.518883" cy="132.28575" fx="61.518883" fy="132.28575" gradientTransform="matrix(1,0,0,0.177966,0,108.7434)" gradientUnits="userSpaceOnUse" id="radialGradient2801" r="29.036913" xlink:href="#linearGradient2795"/>
    <linearGradient gradientTransform="matrix(0.562541,0,0,0.567972,-9.399749,-5.305317)" gradientUnits="userSpaceOnUse" id="linearGradient1475" x1="150.96111" x2="112.03144" xlink:href="#linearGradient4671" y1="192.35176" y2="137.27299"/>
    <linearGradient gradientTransform="matrix(0.562541,0,0,0.567972,-9.399749,-5.305317)" gradientUnits="userSpaceOnUse" id="linearGradient1478" x1="26.648937" x2="135.66525" xlink:href="#linearGradient4689" y1="20.603781" y2="114.39767"/>
    <radialGradient cx="61.518883" cy="132.28575" fx="61.518883" fy="132.28575" gradientTransform="matrix(2.382716e-8,-0.296405,1.43676,4.683673e-7,-128.544,150.5202)" gradientUnits="userSpaceOnUse" id="radialGradient1480" r="29.036913" xlink:href="#linearGradient2795"/>
  </defs>
  <g id="g2303">
    <path d="M 184.61344,61.929363 C 184.61344,47.367213 180.46118,39.891193 172.15666,39.481813 C 168.85239,39.325863 165.62611,39.852203 162.48754,41.070593 C 159.98254,41.967323 158.2963,42.854313 157.40931,43.751043 L 157.40931,78.509163 C 162.72147,81.842673 167.43907,83.392453 171.55234,83.148783 C 180.25649,82.573703 184.61344,75.507063 184.61344,61.929363 z M 194.85763,62.533683 C 194.85763,69.931723 193.12265,76.072393 189.63319,80.955683 C 185.7441,86.482283 180.35396,89.328433 173.46277,89.484393 C 168.26757,89.650093 162.91642,88.022323 157.40931,84.610843 L 157.40931,116.20116 L 148.50047,113.02361 L 148.50047,42.903043 C 149.96253,41.109583 151.84372,39.569543 154.12454,38.263433 C 159.42696,35.173603 165.86978,33.584823 173.45302,33.506853 L 173.57973,33.633563 C 180.50991,33.545833 185.85132,36.391993 189.60395,42.162263 C 193.10315,47.454933 194.85763,54.238913 194.85763,62.533683 z " id="path46" style="fill:#646464;fill-opacity:1"/>
    <path d="M 249.30487,83.265743 C 249.30487,93.188283 248.31067,100.05998 246.32227,103.88084 C 244.32411,107.7017 240.52275,110.75254 234.90842,113.02361 C 230.35653,114.81707 225.43425,115.79178 220.15133,115.95748 L 218.67952,110.34316 C 224.05016,109.61213 227.83204,108.88109 230.02513,108.15006 C 234.34309,106.688 237.30621,104.44617 238.93397,101.44406 C 240.24008,98.997543 240.88339,94.328693 240.88339,87.418003 L 240.88339,85.098203 C 234.79146,87.866373 228.40711,89.240713 221.73036,89.240713 C 217.34417,89.240713 213.47457,87.866373 210.14107,85.098203 C 206.39818,82.086343 204.52674,78.265483 204.52674,73.635623 L 204.52674,36.557693 L 213.43558,33.506853 L 213.43558,70.828453 C 213.43558,74.815013 214.7222,77.885353 217.29543,80.039463 C 219.86866,82.193563 223.20217,83.226753 227.2862,83.148783 C 231.37023,83.061053 235.74667,81.482023 240.39603,78.392203 L 240.39603,34.851953 L 249.30487,34.851953 L 249.30487,83.265743 z " id="path48" style="fill:#646464;fill-opacity:1"/>
    <path d="M 284.08249,88.997033 C 283.02006,89.084753 282.04535,89.123743 281.14862,89.123743 C 276.10937,89.123743 272.18129,87.924853 269.37413,85.517323 C 266.57671,83.109793 265.17314,79.786033 265.17314,75.546053 L 265.17314,40.456523 L 259.07146,40.456523 L 259.07146,34.851953 L 265.17314,34.851953 L 265.17314,19.968143 L 274.07223,16.800333 L 274.07223,34.851953 L 284.08249,34.851953 L 284.08249,40.456523 L 274.07223,40.456523 L 274.07223,75.302373 C 274.07223,78.645623 274.96896,81.014163 276.76243,82.398253 C 278.30247,83.538663 280.74899,84.191723 284.08249,84.357423 L 284.08249,88.997033 z " id="path50" style="fill:#646464;fill-opacity:1"/>
    <path d="M 338.02288,88.266003 L 329.11404,88.266003 L 329.11404,53.878273 C 329.11404,50.379063 328.29528,47.367213 326.66753,44.852463 C 324.78634,42.006313 322.17411,40.583233 318.82112,40.583233 C 314.73708,40.583233 309.6296,42.737343 303.4987,47.045563 L 303.4987,88.266003 L 294.58985,88.266003 L 294.58985,6.0687929 L 303.4987,3.2616329 L 303.4987,40.700203 C 309.191,36.557693 315.40963,34.481563 322.16436,34.481563 C 326.88196,34.481563 330.70282,36.070333 333.62694,39.238143 C 336.56082,42.405943 338.02288,46.353513 338.02288,51.071103 L 338.02288,88.266003 L 338.02288,88.266003 z " id="path52" style="fill:#646464;fill-opacity:1"/>
    <path d="M 385.37424,60.525783 C 385.37424,54.930953 384.31182,50.310833 382.19669,46.655673 C 379.68195,42.201253 375.77337,39.852203 370.49044,39.608523 C 360.72386,40.173863 355.85032,47.172273 355.85032,60.584263 C 355.85032,66.734683 356.86401,71.871393 358.91089,75.994413 C 361.52312,81.248093 365.44145,83.840823 370.66589,83.753103 C 380.47146,83.675123 385.37424,75.935933 385.37424,60.525783 z M 395.13109,60.584263 C 395.13109,68.547643 393.09395,75.175663 389.02941,80.468333 C 384.5555,86.394563 378.37584,89.367423 370.49044,89.367423 C 362.67328,89.367423 356.58135,86.394563 352.18541,80.468333 C 348.19885,75.175663 346.21044,68.547643 346.21044,60.584263 C 346.21044,53.098503 348.36455,46.801883 352.67276,41.674913 C 357.22466,36.236033 363.20937,33.506853 370.6074,33.506853 C 378.00545,33.506853 384.02914,36.236033 388.66877,41.674913 C 392.97697,46.801883 395.13109,53.098503 395.13109,60.584263 z " id="path54" style="fill:#646464;fill-opacity:1"/>
    <path d="M 446.20583,88.266003 L 437.29699,88.266003 L 437.29699,51.928853 C 437.29699,47.942293 436.0981,44.832973 433.70032,42.591133 C 431.30253,40.359053 428.10549,39.277123 424.11893,39.364853 C 419.8887,39.442833 415.86314,40.826913 412.04229,43.507363 L 412.04229,88.266003 L 403.13345,88.266003 L 403.13345,42.405943 C 408.26042,38.672813 412.97801,36.236033 417.28621,35.095623 C 421.35076,34.033193 424.93769,33.506853 428.02752,33.506853 C 430.14264,33.506853 432.13104,33.711543 434.00248,34.120913 C 437.50169,34.929923 440.34783,36.430973 442.54093,38.633823 C 444.98744,41.070593 446.20583,43.994723 446.20583,47.415943 L 446.20583,88.266003 z " id="path56" style="fill:#646464;fill-opacity:1"/>
    <path d="M 60.510156,6.3979729 C 55.926503,6.4192712 51.549217,6.8101906 47.697656,7.4917229 C 36.35144,9.4962267 34.291407,13.691825 34.291406,21.429223 L 34.291406,31.647973 L 61.103906,31.647973 L 61.103906,35.054223 L 34.291406,35.054223 L 24.228906,35.054223 C 16.436447,35.054223 9.6131468,39.73794 7.4789058,48.647973 C 5.0170858,58.860939 4.9078907,65.233996 7.4789058,75.897973 C 9.3848341,83.835825 13.936449,89.491721 21.728906,89.491723 L 30.947656,89.491723 L 30.947656,77.241723 C 30.947656,68.391821 38.6048,60.585475 47.697656,60.585473 L 74.478906,60.585473 C 81.933857,60.585473 87.885159,54.447309 87.885156,46.960473 L 87.885156,21.429223 C 87.885156,14.162884 81.755176,8.7044455 74.478906,7.4917229 C 69.872919,6.7249976 65.093809,6.3766746 60.510156,6.3979729 z M 46.010156,14.616723 C 48.779703,14.616723 51.041406,16.915369 51.041406,19.741723 C 51.041404,22.558059 48.779703,24.835473 46.010156,24.835473 C 43.23068,24.835472 40.978906,22.558058 40.978906,19.741723 C 40.978905,16.91537 43.23068,14.616723 46.010156,14.616723 z " id="path1948" style="fill:url(#linearGradient1478);fill-opacity:1"/>
    <path d="M 91.228906,35.054223 L 91.228906,46.960473 C 91.228906,56.191228 83.403011,63.960472 74.478906,63.960473 L 47.697656,63.960473 C 40.361823,63.960473 34.291407,70.238956 34.291406,77.585473 L 34.291406,103.11672 C 34.291406,110.38306 40.609994,114.65704 47.697656,116.74172 C 56.184987,119.23733 64.323893,119.68835 74.478906,116.74172 C 81.229061,114.78733 87.885159,110.85411 87.885156,103.11672 L 87.885156,92.897973 L 61.103906,92.897973 L 61.103906,89.491723 L 87.885156,89.491723 L 101.29141,89.491723 C 109.08387,89.491723 111.98766,84.056315 114.69765,75.897973 C 117.49698,67.499087 117.37787,59.422197 114.69765,48.647973 C 112.77187,40.890532 109.09378,35.054223 101.29141,35.054223 L 91.228906,35.054223 z M 76.166406,99.710473 C 78.945884,99.710476 81.197656,101.98789 81.197656,104.80422 C 81.197654,107.63057 78.945881,109.92922 76.166406,109.92922 C 73.396856,109.92922 71.135156,107.63057 71.135156,104.80422 C 71.135158,101.98789 73.396853,99.710473 76.166406,99.710473 z " id="path1950" style="fill:url(#linearGradient1475);fill-opacity:1"/>
    <path d="M 463.5544,26.909383 L 465.11635,26.909383 L 465.11635,17.113143 L 468.81648,17.113143 L 468.81648,15.945483 L 459.85427,15.945483 L 459.85427,17.113143 L 463.5544,17.113143 L 463.5544,26.909383 M 470.20142,26.909383 L 471.53589,26.909383 L 471.53589,17.962353 L 474.4323,26.908259 L 475.91799,26.908259 L 478.93615,17.992683 L 478.93615,26.909383 L 480.39194,26.909383 L 480.39194,15.945483 L 478.46605,15.945483 L 475.16774,25.33834 L 472.35477,15.945483 L 470.20142,15.945483 L 470.20142,26.909383" id="text3004" style="font-size:15.16445827px;font-style:normal;font-weight:normal;line-height:125%;fill:#646464;fill-opacity:1;stroke:none;stroke-width:1px;stroke-linecap:butt;stroke-linejoin:miter;stroke-opacity:1;font-family:Bitstream Vera Sans"/>
    <path d="M 110.46717 132.28575 A 48.948284 8.6066771 0 1 1  12.570599,132.28575 A 48.948284 8.6066771 0 1 1  110.46717 132.28575 z" id="path1894" style="opacity:0.44382019;fill:url(#radialGradient1480);fill-opacity:1;fill-rule:nonzero;stroke:none;stroke-width:20;stroke-miterlimit:4;stroke-dasharray:none;stroke-opacity:1" transform="matrix(0.73406,0,0,0.809524,16.24958,27.00935)"/>
  </g>
</svg>
</div>
</div>

</div>
</div>
</div>
<div class="text_cell_render border-box-sizing rendered_html">
<h2>
  Links to local files
</h2>
</div>

<div class="text_cell_render border-box-sizing rendered_html">
<p>If we want to create a link to one of them, we can call use the <code>FileLink</code> object.</p>
</div>
<div class="cell border-box-sizing code_cell vbox">
<div class="input hbox">
<div class="prompt input_prompt">In&nbsp;[2]:</div>
<div class="input_area box-flex1">
<div class="highlight"><pre><span class="kn">from</span> <span class="nn">IPython.display</span> <span class="kn">import</span> <span class="n">FileLink</span><span class="p">,</span> <span class="n">FileLinks</span>
<span class="n">FileLink</span><span class="p">(</span><span class="s">&#39;Part 1 - Running Code.ipynb&#39;</span><span class="p">)</span>
</pre></div>

</div>
</div>
<div class="vbox output_wrapper">
<div class="hbox output_area">
<div class="prompt output_prompt">Out[2]:</div>
<div class="output vbox">
<div class="box-flex1 output_subarea output_pyout">
<div class="output_html rendered_html">
<a href='files/Part 1 - Running Code.ipynb' target='_blank'>Part 1 - Running Code.ipynb</a><br>
</div>
</div>
</div>

</div>
</div>
</div>
<div class="text_cell_render border-box-sizing rendered_html">
<p>Alternatively, if we want to link to all of the files in a directory, we can use the <code>FileLinks</code> object, passing <code>'.'</code> to indicate that we want links generated for the current working directory. Note that if there were other directories under the current directory, <code>FileLinks</code> would work in a recursive manner creating links to files in all sub-directories as well.</p>
</div>
<div class="cell border-box-sizing code_cell vbox">
<div class="input hbox">
<div class="prompt input_prompt">In&nbsp;[3]:</div>
<div class="input_area box-flex1">
<div class="highlight"><pre><span class="n">FileLinks</span><span class="p">(</span><span class="s">&#39;.&#39;</span><span class="p">)</span>
</pre></div>

</div>
</div>
<div class="vbox output_wrapper">
<div class="hbox output_area">
<div class="prompt output_prompt">Out[3]:</div>
<div class="output vbox">
<div class="box-flex1 output_subarea output_pyout">
<div class="output_html rendered_html">
./<br>
&nbsp;&nbsp;<a href='files/./Animations Using clear_output.ipynb' target='_blank'>Animations Using clear_output.ipynb</a><br>
&nbsp;&nbsp;<a href='files/./Custom Display Logic.ipynb' target='_blank'>Custom Display Logic.ipynb</a><br>
&nbsp;&nbsp;<a href='files/./SymPy Examples.ipynb' target='_blank'>SymPy Examples.ipynb</a><br>
&nbsp;&nbsp;<a href='files/./Part 2 - Basic Output.ipynb' target='_blank'>Part 2 - Basic Output.ipynb</a><br>
&nbsp;&nbsp;<a href='files/./Frontend-Kernel Model.ipynb' target='_blank'>Frontend-Kernel Model.ipynb</a><br>
&nbsp;&nbsp;<a href='files/./Part 5 - Rich Display System.ipynb' target='_blank'>Part 5 - Rich Display System.ipynb</a><br>
&nbsp;&nbsp;<a href='files/./animation.m4v' target='_blank'>animation.m4v</a><br>
&nbsp;&nbsp;<a href='files/./Trapezoid Rule.ipynb' target='_blank'>Trapezoid Rule.ipynb</a><br>
&nbsp;&nbsp;<a href='files/./Part 4 - Markdown Cells.ipynb' target='_blank'>Part 4 - Markdown Cells.ipynb</a><br>
&nbsp;&nbsp;<a href='files/./R Magics.ipynb' target='_blank'>R Magics.ipynb</a><br>
&nbsp;&nbsp;<a href='files/./Part 1 - Running Code.ipynb' target='_blank'>Part 1 - Running Code.ipynb</a><br>
&nbsp;&nbsp;<a href='files/./Typesetting Math Using MathJax.ipynb' target='_blank'>Typesetting Math Using MathJax.ipynb</a><br>
&nbsp;&nbsp;<a href='files/./Part 3 - Pylab and Matplotlib.ipynb' target='_blank'>Part 3 - Pylab and Matplotlib.ipynb</a><br>
&nbsp;&nbsp;<a href='files/./Script Magics.ipynb' target='_blank'>Script Magics.ipynb</a><br>
&nbsp;&nbsp;<a href='files/./Octave Magic.ipynb' target='_blank'>Octave Magic.ipynb</a><br>
&nbsp;&nbsp;<a href='files/./Cell Magics.ipynb' target='_blank'>Cell Magics.ipynb</a><br>
&nbsp;&nbsp;<a href='files/./python-logo.svg' target='_blank'>python-logo.svg</a><br>
&nbsp;&nbsp;<a href='files/./Data Publication API.ipynb' target='_blank'>Data Publication API.ipynb</a><br>
&nbsp;&nbsp;<a href='files/./Progress Bars.ipynb' target='_blank'>Progress Bars.ipynb</a><br>
&nbsp;&nbsp;<a href='files/./Cython Magics.ipynb' target='_blank'>Cython Magics.ipynb</a><br>
</div>
</div>
</div>

</div>
</div>
</div>
<div class="text_cell_render border-box-sizing rendered_html">
<h3>
  Embedded vs Non-embedded Images
</h3>
</div>

<div class="text_cell_render border-box-sizing rendered_html">
<p>By default, image data is embedded in the Notebook document so that the images can be viewed offline. However it is also possible to tell the <code>Image</code> class to only store a <em>link</em> to the image. Let's see how this works using a webcam at Berkeley.</p>
</div>
<div class="cell border-box-sizing code_cell vbox">
<div class="input hbox">
<div class="prompt input_prompt">In&nbsp;[4]:</div>
<div class="input_area box-flex1">
<div class="highlight"><pre><span class="kn">from</span> <span class="nn">IPython.display</span> <span class="kn">import</span> <span class="n">Image</span>

<span class="c"># by default Image data are embedded</span>
<span class="n">Embed</span>      <span class="o">=</span> <span class="n">Image</span><span class="p">(</span>    <span class="s">&#39;http://scienceview.berkeley.edu/view/images/newview.jpg&#39;</span><span class="p">)</span>

<span class="c"># if kwarg `url` is given, the embedding is assumed to be false</span>
<span class="n">SoftLinked</span> <span class="o">=</span> <span class="n">Image</span><span class="p">(</span><span class="n">url</span><span class="o">=</span><span class="s">&#39;http://scienceview.berkeley.edu/view/images/newview.jpg&#39;</span><span class="p">)</span>

<span class="c"># In each case, embed can be specified explicitly with the `embed` kwarg</span>
<span class="c"># ForceEmbed = Image(url=&#39;http://scienceview.berkeley.edu/view/images/newview.jpg&#39;, embed=True)</span>
</pre></div>

</div>
</div>
</div>
<div class="text_cell_render border-box-sizing rendered_html">
<p>Here is the embedded version. Note that this image was pulled from the webcam when this code cell was originally run and stored in the Notebook. Unless we rerun this cell, this is not todays image.</p>
</div>
<div class="cell border-box-sizing code_cell vbox">
<div class="input hbox">
<div class="prompt input_prompt">In&nbsp;[5]:</div>
<div class="input_area box-flex1">
<div class="highlight"><pre><span class="n">Embed</span>
</pre></div>

</div>
</div>
<div class="vbox output_wrapper">
<div class="hbox output_area">
<div class="prompt output_prompt">Out[5]:</div>
<div class="output vbox">
<div class="box-flex1 output_subarea output_pyout">

<img src="data:image/jpeg;base64,/9j/4AAQSkZJRgABAQEAtAC0AAD//gAdQ29weXJpZ2h0IDIwMTIgVS5DLiBSZWdlbnRz/+Ef/kV4
aWYAAElJKgAIAAAACgAOAQIAIAAAAIYAAAAPAQIABgAAAKYAAAAQAQIAFAAAAKwAAAASAQMAAQAA
AAEAAAAaAQUAAQAAAMwAAAAbAQUAAQAAANQAAAAoAQMAAQAAAAIAAAAyAQIAFAAAANwAAAATAgMA
AQAAAAIAAABphwQAAQAAAPAAAADuDAAAICAgICAgICAgICAgICAgICAgICAgICAgICAgICAgIABD
YW5vbgBDYW5vbiBQb3dlclNob3QgRzEwAAAAAAAAAAAAAAAAALQAAAABAAAAtAAAAAEAAAAyMDEy
OjA3OjE2IDExOjEzOjI1ACAAmoIFAAEAAAB2AgAAnYIFAAEAAAB+AgAAJ4gDAAEAAABQAAAAAJAH
AAQAAAAwMjIxA5ACABQAAACGAgAABJACABQAAACaAgAAAZEHAAQAAAABAgMAApEFAAEAAACuAgAA
AZIKAAEAAAC2AgAAApIFAAEAAAC+AgAABJIKAAEAAADGAgAABZIFAAEAAADOAgAAB5IDAAEAAAAF
AAAACZIDAAEAAAAQAAAACpIFAAEAAADWAgAAfJIHALoIAADeAgAAhpIHAAgBAACYCwAAAKAHAAQA
AAAwMTAwAaADAAEAAAABAAAAAqADAAEAAAAgCgAAA6ADAAEAAACYBwAABaAEAAEAAACgDAAADqIF
AAEAAADWDAAAD6IFAAEAAADeDAAAEKIDAAEAAAACAAAAF6IDAAEAAAACAAAAAKMHAAEAAAADAAAA
AaQDAAEAAAAAAAAAAqQDAAEAAAAAAAAAA6QDAAEAAAAAAAAABKQFAAEAAADmDAAABqQDAAEAAAAA
AAAAAAAAAAEAAABAAQAAKAAAAAoAAAAyMDEyOjA3OjE2IDExOjEzOjI1ADIwMTI6MDc6MTYgMTE6
MTM6MjUABQAAAAEAAAAKAQAAIAAAAIAAAAAgAAAAAAAAAAMAAABrAAAAIAAAADgmAADoAwAAGQAB
AAMAMAAAABwEAAACAAMABAAAAHwEAAADAAMABAAAAIQEAAAEAAMAIgAAAIwEAAAAAAMABgAAANAE
AAAGAAIAFwAAANwEAAAHAAIAFgAAAPwEAAAIAAQAAQAAAIBjFAAJAAIAIAAAABQFAAANAAQAogAA
ADQFAAAQAAQAAQAAAAAASQImAAMAMAAAALwHAAATAAMABAAAABwIAAAYAAEAAAEAACQIAAAZAAMA
AQAAAAEAAAAcAAMAAQAAAAAAAAAdAAMAEAAAACQJAAAeAAQAAQAAAAABAgEfAAMARQAAAEQJAAAi
AAMA0AAAAM4JAAAjAAQAAgAAAG4LAAAnAAMABQAAAHYLAAAoAAEAEAAAAIALAADQAAQAAQAAAAAA
AAAtAAQAAQAAAAAAAAAAAAAAAAAAAAAAAAAAAAAAYAACAAAABQAAAAAAAAAEAP//AQAGAAEAAAAA
AAAAAAAPAAMAAQABQAEA/3///yR31BfoA2sAwAAAAAAAAAAAAAAAAAAAAAAAQBFAEQAAAAD//wAA
/3//fwAAAAD//zIAAgA4JisB4AAAAAAAAAAAAEQA8/+gAB0BgAAKAQAAAAAAAAAABQAAAAAAAAAA
AAAAAAAAAAMAmRkAAIAACwEAAAAAAAD6AAAAAAAAAAAAAAAAAAAAAAAAAAAAAAAAAAAASU1HOlBv
d2VyU2hvdCBHMTAgSlBFRwAAAAAAAAAAAABGaXJtd2FyZSBWZXJzaW9uIDEuMDIAAABTY2llbmNl
VmlldwAAAAAAAAAAAAAAAAAAAAAAAAAAAAMAAABzAQAAmwEAAAAAAAAAAAAAAAAAAIABAAAjAwAA
2P///wAAAAAAAAAAAAAAAAAAAABBAgAAMQMAAKX///8AAAAAAAAAAPb///8nAAAAAAAAACcAAAD+
////AAAAAAAAAABzAAAAAAAAAFcDAAAwAwAARAMAAIABAADoAwAApf///wAAAAAAAAAAMAMAAEQD
AAAAAAAAAAAAAAEAAAACAAAABQAAAAAAAAAAAAAAAAAAAAAAAAAAAAAAAAAAAAAAAAAAAAAAAAAA
AKwAAAAABAAAAAQAAAMAAABSAQAAAAAAAAAAAAAAAAAAAAAAAAAAAAAAAAAAGwEAAAAAAAAPAAAA
VQEAAAAAAAAAAAAAAAAAAAAAAAAAAAAAAAAAAD8EAAANBAAAMQQAAD0FAAAAAAAADwAAAFUBAABJ
AAAA5QMAAIkGAACfBgAA5QMAAAAAAAAAAAAAAAAAAAEAAACBAQAAEgQAAFcDAACTAgAApf///wIA
AABAAAAAwAEAAD8AAAAAAAAACwQAAAEAAAAAAAAAfwQAAAAAAAAAAAAAAAAAAAAAAABAAAAAAAAA
AFT+//8QBAAAfgQAAFIEAAAOBAAAEQQAAA4EAAANBAAADwQAAA0EAAALBAAA//8AAAAAAADABQAA
FAEAAFQBAABBAAAAbwQAANcAAAAJAQAAMgAAAAAAAAAAAAAAAwAAAAMAAAACAAAAAAAAAAAAAAAA
AAAAAAAAAAAAAAAAAAAAAAAAAAAAAAAAAAAA//8AAAAAAAAAAAAAAAAAAAAAAAAAAAAAAAAAAAAA
AAAAAAAAAAAAAAAAAAAAAAAAAAAAAAAAAAAAAAAAAAAAABkAAAAKAAAAU0d28WAABAAJAAkAIAqY
B2QAZAASABIAEgASABIAEgASABIAEgASABIAEgASABIAEgASABIAEgDu/wAAEgDu/wAAEgDu/wAA
EgDu/+7/7v8AAAAAAAASABIAEgCAAAAAAAAHAAAAAAAAAAAAAAAAAAAAAAAAAAAAAAAAAAAAAAAA
AAAAAAAAAAAAAAAAAAAAAAAAAAAAAAAAAAAAAAAAAAAAAAAAAAAAAAAAAAAAAAAAAAAAAAAAAAAA
AAAAAAAAAAAAAAAAAAAAAAAAAAAAAAAAAAAAAAAAAAAAAAAAAAAAAAAAAAAAAAAAAAAAAAAAAAAA
AAAAAAAAAAAAAAAAAAAAAAAAAAAAAAAAAAAAAAAAAAAAAAAAAAAAAAAAAAAAAAAAAAAAAAAAAAAA
AAAAAAAAAAAAAAAAAAAAAAAAAAAAAAAAAAAAAAAAAAAAAAAAAAAAAAAAAAAAAAAAAAAAAAAAAAAA
AAAAAAAAACAAAQAAAAIAAgACAAIAAAAAAAAAAAAAAAAAAAAAAAAAigABAAAABAAIAAAAAAAAAAAA
AAAAAAAAAAAAAAAAAAAAAAAAAAAAAAAAAAAAAAAAAAAAAAAAAAAAAAAAAAAAAAAAAAAAAAAAAAAA
AAAAAAAAAAAAAAAAAAAAAAAAAAAAAAAAAAAAAAAAAAAAAAAAAAAAAAAAAAAAAAAAAAAAAAAAAAAA
AAAAAAAAoAEAAAAAEAAIAAEAAQCAAuABAAAAAAAAAAAAAAgAgAEAAAAAAAAAAAAAAAAAAAAAAAAA
AAAAAAAAAAAAAAAAAAAAAAAAAAAAAAAAAAAAAAAAAAAAAAAAAAAAAAAAAAAAAAAAAAAAAAAAAAAA
AAAAAAAAAAAAAAAAAAAAAAAAAAAAAAAAAAAAAAAAAAAAAAAAAAAAAAAAAAAAAAAAAAAAAAAAAAAA
AAAAAAAAAAAAAAAAAAAAAAAAAAAAAAAAAAAAAAAAAAAAAAAAAAAAAAAAAAAAAAAAAAAAAAAAAAAA
AAAAAAAAAAAAAAAAAAAAAAAAAAAAAAAAAAAAAAAAAAAAAAAAAAAAAAAAAAAAAAAAAAAAAAAAAAAA
AAAAAAAAAAAAAAAAAAAAAAAAAAAAAAAAAAAAAAAAAAAAAAAAAAAAAAAAAAAAAAAAAAAAAAAAAAAA
AAAAAAAAAAAAAAAAAAAAAAAAAAAAAAAAAAAAAAAAAAAAAAAAAAAAAAAAAAAAAAAAAAAAAAAAAAAA
AAAAAAAAAAAAAAAAAAAAAAAAAAAAAAAIAAAAAAAAAAoAAAAAAAAAAABJNz0ciOBUJVCJsJVgaq7+
SUkqAN4CAAAAAAAAAAAAAAAAAAAAAAAAAAAAAAAAAAAAAAAAAAAAAAAAAAAAAAAAAAAAAAAAAAAA
AAAAAAAAAAAAAAAAAAAAAAAAAAAAAAAAAAAAAAAAAAAAAAAAAAAAAAAAAAAAAAAAAAAAAAAAAAAA
AAAAAAAAAAAAAAAAAAAAAAAAAAAAAAAAAAAAAAAAAAAAAAAAAAAAAAAAAAAAAAAAAAAAAAAAAAAA
AAAAAAAAAAAAAAAAAAAAAAAAAAAAAAAAAAAAAAAAAAAAAAAAAAAAAAAAAAAAAAAAAAAAAAAAAAAA
AAAAAAAAAAAAAAAAAAAAAAAAAAAAAAAAAAAAAAAAAAAAAAAAAAAAAAAAAAAEAAEAAgAEAAAAUjk4
AAIABwAEAAAAMDEwMAEQAwABAAAAIAoAAAIQAwABAAAAmAcAAAAAAAAAjScAJAEAAMCpHQDbAAAA
QBEAAEARAAAGAAMBAwABAAAABgAAABoBBQABAAAAPA0AABsBBQABAAAARA0AACgBAwABAAAAAgAA
AAECBAABAAAA9BMAAAICBAABAAAA1QoAAAAAAAC0AAAAAQAAALQAAAABAAAAAAAAAAAAAAAAAAAA
AAAAAAAAAAAAAAAAAAAAAAAAAAAAAAAAAAAAAAAAAAAAAAAAAAAAAAAAAAAAAAAAAAAAAAAAAAAA
AAAAAAAAAAAAAAAAAAAAAAAAAAAAAAAAAAAAAAAAAAAAAAAAAAAAAAAAAAAAAAAAAAAAAAAAAAAA
AAAAAAAAAAAAAAAAAAAAAAAAAAAAAAAAAAAAAAAAAAAAAAAAAAAAAAAAAAAAAAAAAAAAAAAAAAAA
AAAAAAAAAAAAAAAAAAAAAAAAAAAAAAAAAAAAAAAAAAAAAAAAAAAAAAAAAAAAAAAAAAAAAAAAAAAA
AAAAAAAAAAAAAAAAAAAAAAAAAAAAAAAAAAAAAAAAAAAAAAAAAAAAAAAAAAAAAAAAAAAAAAAAAAAA
AAAAAAAAAAAAAAAAAAAAAAAAAAAAAAAAAAAAAAAAAAAAAAAAAAAAAAAAAAAAAAAAAAAAAAAAAAAA
AAAAAAAAAAAAAAAAAAAAAAAAAAAAAAAAAAAAAAAAAAAAAAAAAAAAAAAAAAAAAAAAAAAAAAAAAAAA
AAAAAAAAAAAAAAAAAAAAAAAAAAAAAAAAAAAAAAAAAAAAAAAAAAAAAAAAAAAAAAAAAAAAAAAAAAAA
AAAAAAAAAAAAAAAAAAAAAAAAAAAAAAAAAAAAAAAAAAAAAAAAAAAAAAAAAAAAAAAAAAAAAAAAAAAA
AAAAAAAAAAAAAAAAAAAAAAAAAAAAAAAAAAAAAAAAAAAAAAAAAAAAAAAAAAAAAAAAAAAAAAAAAAAA
AAAAAAAAAAAAAAAAAAAAAAAAAAAAAAAAAAAAAAAAAAAAAAAAAAAAAAAAAAAAAAAAAAAAAAAAAAAA
AAAAAAAAAAAAAAAAAAAAAAAAAAAAAAAAAAAAAAAAAAAAAAAAAAAAAAAAAAAAAAAAAAAAAAAAAAAA
AAAAAAAAAAAAAAAAAAAAAAAAAAAAAAAAAAAAAAAAAAAAAAAAAAAAAAAAAAAAAAAAAAAAAAAAAAAA
AAAAAAAAAAAAAAAAAAAAAAAAAAAAAAAAAAAAAAAAAAAAAAAAAAAAAAAAAAAAAAAAAAAAAAAAAAAA
AAAAAAAAAAAAAAAAAAAAAAAAAAAAAAAAAAAAAAAAAAAAAAAAAAAAAAAAAAAAAAAAAAAAAAAAAAAA
AAAAAAAAAAAAAAAAAAAAAAAAAAAAAAAAAAAAAAAAAAAAAAAAAAAAAAAAAAAAAAAAAAAAAAAAAAAA
AAAAAAAAAAAAAAAAAAAAAAAAAAAAAAAAAAAAAAAAAAAAAAAAAAAAAAAAAAAAAAAAAAAAAAAAAAAA
AAAAAAAAAAAAAAAAAAAAAAAAAAAAAAAAAAAAAAAAAAAAAAAAAAAAAAAAAAAAAAAAAAAAAAAAAAAA
AAAAAAAAAAAAAAAAAAAAAAAAAAAAAAAAAAAAAAAAAAAAAAAAAAAAAAAAAAAAAAAAAAAAAAAAAAAA
AAAAAAAAAAAAAAAAAAAAAAAAAAAAAAAAAAAAAAAAAAAAAAAAAAAAAAAAAAAAAAAAAAAAAAAAAAAA
AAAAAAAAAAAAAAAAAAAAAAAAAAAAAAAAAAAAAAAAAAAAAAAAAAAAAAAAAAAAAAAAAAAAAAAAAAAA
AAAAAAAAAAAAAAAAAAAAAAAAAAAAAAAAAAAAAAAAAAAAAAAAAAAAAAAAAAAAAAAAAAAAAAAAAAAA
AAAAAAAAAAAAAAAAAAAAAAAAAAAAAAAAAAAAAAAAAAAAAAAAAAAAAAAAAAAAAAAAAAAAAAAAAAAA
AAAAAAAAAAAAAAAAAAAAAAAAAAAAAAAAAAAAAAAAAAAAAAAAAAAAAAAAAAAAAAAAAAAAAAAAAAAA
AAAAAAAAAAAAAAAAAAAAAAAAAAAAAAAAAAAAAAAAAAAAAAAAAAAAAAAAAAAAAAAAAAAAAAAAAAAA
AAAAAAAAAAAAAAAAAAAAAAAAAAAAAAAAAAAAAAAAAAAAAAAAAAAAAAAAAAAAAAAAAAAAAAAAAAAA
AAAAAAAAAAAAAAAAAAAAAAAAAAAAAAAAAAAAAAAAAAAAAAAAAAAAAAAAAAAAAAAAAAAAAAAAAAAA
AAAAAAAAAAAAAAAAAAAAAAAAAAAAAAAAAAAAAAAAAAAAAAAAAAAAAAAAAAAAAAAAAAAAAAAAAAAA
AAAAAAAAAAAAAAAAAAAAAAAAAAAAAAAAAAAAAAAAAAAAAAAAAAAAAAAAAAAAAAAAAAAAAAAAAAAA
AAAAAAAAAAAAAAAAAAAAAAAAAAAAAAAAAAAAAAAAAAAAAAAAAAAA/9j/2wCEAAkGBggGBQkIBwgK
CQkLDRYPDQwMDRwTFRAWIR0jIiEcIB8kKTQsJCcxJx4fLT0tMTY3Ojo6Iio/RD44QjM3OTYBCQkJ
DAoMFAwMFA8KCgoPGhoKChoaTxoaGhoaT09PT09PT09PT09PT09PT09PT09PT09PT09PT09PT09P
T09PT//AABEIAHgAoAMBIQACEQEDEQH/xAGiAAABBQEBAQEBAQAAAAAAAAAAAQIDBAUGBwgJCgsB
AAMBAQEBAQEBAQEAAAAAAAABAgMEBQYHCAkKCxAAAgEDAwIEAwUFBAQAAAF9AQIDAAQRBRIhMUEG
E1FhByJxFDKBkaEII0KxwRVS0fAkM2JyggkKFhcYGRolJicoKSo0NTY3ODk6Q0RFRkdISUpTVFVW
V1hZWmNkZWZnaGlqc3R1dnd4eXqDhIWGh4iJipKTlJWWl5iZmqKjpKWmp6ipqrKztLW2t7i5usLD
xMXGx8jJytLT1NXW19jZ2uHi4+Tl5ufo6erx8vP09fb3+Pn6EQACAQIEBAMEBwUEBAABAncAAQID
EQQFITEGEkFRB2FxEyIygQgUQpGhscEJIzNS8BVictEKFiQ04SXxFxgZGiYnKCkqNTY3ODk6Q0RF
RkdISUpTVFVWV1hZWmNkZWZnaGlqc3R1dnd4eXqCg4SFhoeIiYqSk5SVlpeYmZqio6Slpqeoqaqy
s7S1tre4ubrCw8TFxsfIycrS09TV1tfY2dri4+Tl5ufo6ery8/T19vf4+fr/2gAMAwEAAhEDEQA/
AO4UU8CmA4CnAUALilFIYoFPAoAeBS0AFBFADSKQigBDTTQAUUCENNagCutSLTAeBTsUDDFKBSAc
BT1FADiKKAFxSE0AJTSaAEpKACkoEJimkUAV1qRaYDxTxQMWlxSAUCnjigAJpc0DAmmk0CEJppNA
BRQAhNFABTT0oEVlqVRTAeBTwKQxcUtACg0uaADNJmkMQtSFqBCZpM0AGaM0wDdSFqAE3UhagRCq
4qVaAJBTqBhmlzSATNLuoAaWozQMTNJmgAzSE0CGlqaXoATzKQyUwGmXFNM1AiUGnCgCRBnrUgUY
zmgYhHpTScUAN30b6AFDCnbhQAAr60oCdzQA8eUOpFDGPtSAifaegqFsdqYETEiomc0ARs5pjOaB
EwuVHU4/GnC8QDO6gVx63qsODT/tQ7mnYdxftA9f1oM496LBcVZlPXNDSJnjNFguJ5qigyD1osFw
8wetJ5nvRYLgXPqKb5jDuKLBcQzmjzCaLBcTfntRuB7CgBPwFIwGPuigDJWdWYhSCR1xzij7ZGCA
Hjz05OKCSRLyNhxInHXDU/7Qp43qce9ACeevXcv50onBHDD86LgOE2P4v1pfOP8AeP50XATz/wDb
/Wk+0nPU/nTuFhGvdh53/gM0LfK38ePqcUXCw83YH/LRf++qPtg5+cHHpzRcLMBdZGQaXz2xntS5
kPlYouCe4/OgzsP/ANdO9xWsNNw3pSG5PoaBHIpqb4x5rj3NH9pMM/vCM9uTUlXHrqWMZnIJzkY6
U5dUOwgTnHXGMg0tewDjqrAZ8zG70XFIdWeQYVmwD24oHca2ojAZSDjqDk006gxyRgD0piFa/lXm
TcPc04XrO3Vvr6UAS/a1QHMrE/pUMmoAA/OccYOBQME1FmGRLjFPOqShciU49gKLILsR9Ymjbarl
gehxQmtTKQokIOM4KiiwrjhrUrMV8z8cYxThrEmdpcOR2BoGB1pV6luBnJNMGt5OAzc+h6UCOTi8
V20jJ5tsFzgHB4H5c1s2n2a/jL20jOmT8wQjmpuOyLDQW0YKywSJz945x+dMdrSEh8hFHBwSf8aL
sdkR2+s6fFKd9t5o7bxkflTLWTzpTlFbc3BHGB+FMNDaTR4EtSWi3NnIBfH9arS6cIiomXCnnCHl
aXMFkRiFFOWDCPsruCWP5cU6a1ma2lubdfkXguTjnHT9aLhYp+ROR5Sxs553bRuOfYik/sy7Mqxt
E5dh8qY5NPmFYcmnzYwwJGMhQMZHYj2p02nXH7kENiTn5RkD0FTzoOUa9hcuZBHHuEbYOWwR+dVb
iOe2KNLtBPbeOP8APpTUrg0yFnY5OeVOCVORTo2kC8IxPbAzx3qriGvIyICV+XPJyf8AP/66je5U
A72CjaSD6elAHG7yW5Naul3kkSMn2pkHGAGwKljO30jS1udMWWaaW5MwyI1zuUj0A5P16U/Wfsel
qDJZKyBB+8PI3dwe47fnU3v5LoUtPNnLXWr2UzlUEceGyCi449OlS2s/2hFFqzyEZ4XJx+Hane3+
ZL1f6GxBeyQqFG6REGZAzg4PtzVI+I5bbcsThRk7iTnHPWptf59C3K3y6mxb+K1EIieJXEhBJU7i
T7/4VFHdX8k48y3YIz5dS+0YFG2vbqF29F1H33iOe2CLE67FyRH5W0DnHPvx1qOPxPdMHuL6Ur+6
McbBRuB98/X0o5eu4XZQTUpRbquJY7d2yrISC/GDyetQSXuoINzGZ0AClGJxn+vFVpsTcde3L28Q
MmNrqH2nOV5+71qmmsyy485VkjUkrH0VQfQUXAhfUA+yMRiMKRyp6+59/pVp9QVHIVgBxwhP5inc
RW1G+JTy0kV0wPm/i/E1lXF9LIoXeWA9aNwM3bgdfwqRWAHWhgdPpU8ItoG2hJEOepFZt9bPfXMj
LO7tno/T6Vim03fVI1cU0raNmdNZXMBJaMlR1IGajju5rXcscjxhhhsHGRWqtLzM2mvIb9pcty55
96UEepbPWnYRf0/UJ7CZWhfauevXFdC+tyRqSJFHmdT15qG+j6jTt6jbXWbYOxvYjMTyhVsYPqcU
uo6pHc38TxxtFAAOM7j74zQgvp+ZBdX8UpTDP5ajAU4G31x2FVbzUpp440UskSdFDcA+tNbhcqy3
kk6gyuTgYAx2qKS5Pl8NTsAJdFNrZOQexpzanK00kjEEyAg5GaLAV3mzmodwLU0Ia+WlwSD709EQ
EZpAWxcFJI1j3bRw2DW0gLW48oAEjgkVjPT9TaGt/wACNZDGNpADdwDwaiuoBLAv+jxyYHpzSWjv
t5lNXXcz5bCzMRYM0LDqhGcGqOyNMjfn6VqpN/5mMklt80KJFUcD8aV58oMHIBp2JGic9S1WjeOA
oJzxge1JoRIZQyjnB9KY7AH5iPoaF+IETy8khgo6VEzlQATnPftVIYgYgZ7UhfjNUBZ0+wuNUmMV
uASBkknAFWJvDmoWrjzI0OemHHNAFKXGTtJx61FyDmpQFq1b5lJPB6gDpWhJqAiUInYd6ykrs0jK
yGNqBdxhDn+HaeanfVIonIYEMvXBBpcrY1PqzEvr0zyl+cGqwz1YfnWyVkZt3d+47/ZB60BSUPWm
IA4TjtTlbOSxoAlV/wC8Rj0p52O2Sxx2HpUgQywPnKndn3p0DNHkOAB7ih6rzAez/MSgwPSnW1ws
NwsuxWZT0YAj8qF/w4jbtvEq2UDCK1hV2I3Mqhc9euKZc639vl81owzAbVG7oKL667DuYauSe2fT
FKQzdV4p7ALG4jwc/hTZXZ5N27d6ZFKwyZGBwBxSmNSCuSTip1Qio6lc4HA9abncDlc1YDVQqcnk
elSBwRhTQwK03yvxSeYwHNUA5ZM+tTSq0KI25CGGflYE/wD1qLARs5YdSKcHOMHNADg49aeME8Gp
YCxoN7bjwc1YiCgcHHFTIR//2QAlYyIySoGRSVYY+fjBJ4/HHJrNu72Se6hhRd4kdY1ZBuErnACn
PHPU4wPzJqfZ207EXvJor+I/EdnawNbvYwiS5gMLwOGdZckg9CdpPTk++BWx4F063u9Dt7eWOWzk
eRmzIXRoyfug9iPce46UvZSpUHJ632FP3bNm7/whsMusaSl/qEFlp94Eu2neFna0YE7iR0OMHIHU
8Z7hEkjt3l0Oa2tb+wFywDRhvlChgqg/wjDEjIAyfbjgjXVeyWluppTi6j027nam5tYdO02S6aaG
F9ttcqNj5AXHRRjrgZ69e9WZLeaXTnh01bOZJ4VhtHjPllkxghuzHPfj+Zrgrxakr7N6lQlypX2P
IvC/hPU7fXZhJElvb6nY3lpdStM2FlQCQIQeAcoMc84w/9j/2wBDAAMCAgICAgMCAgIDAwMDBAYE
BAQEBAgGBgUGCQgKCgkICQkKDA8MCgsOCwkJDRENDg8QEBEQCgwSExIQEw8QEBD/2wBDAQMDAwQD
BAgEBAgQCwkLEBAQEBAQEBAQEBAQEBAQEBAQEBAQEBAQEBAQEBAQEBAQEBAQEBAQEBAQEBAQEBAQ
EBD/wAARCAHgAoADASEAAhEBAxEB/8QAHQAAAgMBAQEBAQAAAAAAAAAAAQIAAwQFBgcICf/EAEUQ
AAIBAwMCBAQDBwMDAwMCBwECAwAEEQUSIQYxE0FRYQcUInEygZEIFSNCobHwUsHRFjPhJGLxF1Ny
gpIlNGOyQ1ST/8QAGQEBAQEBAQEAAAAAAAAAAAAAAAECAwQF/8QAMhEAAgICAgEEAgECBQMFAAAA
AAECEQMhEjFBBCJRYRMycUKhFCOBkcGx0fAFFUPh8f/aAAwDAQACEQMRAD8A/UCrx3qxRXXwZQ4F
MBjtULQQKZagodadc0KOBRxg1AECoPbNAHzphRgIFHA96AmKao0WifnR/Oj2Eie2aIz60oUEUw4q
Cg5oj2NC0MKYD3oKGx60w9KlAcCmFUDD1phQo1GoCAfejzQhDUxQpMCjQEoY96EJilIoAHPlQIoA
YqEeVOigxzQOaEBnmh596UKD70DVBDSmgoU/eh+tQgKU1SAo1KAKlUBqYoCYxUHNECYqH70BOaFC
Cn1oH0qgUgUCKChGqtqCjjIOKsAroBqYVEUYCiB5VAOB5irF+9AMBmjigIBRoVBx6UwFAEcUaF8h
o0BKhGagJ70w470QQRRpRQjOaYCoBhTAVAMKYd6AYU4oBhxTUAwqD7UAalATzqVATzqVQEVKhA4o
MtEUXbmgRiqCEUpFQEoH1qgXBoYoCUD6UADQJ96AU0MY5oQBoHOKAWoaECKnFATyqYoQn51BnvQB
4oH3oAVM1QKaBoBTxSmgEPekbz4qEZx17Zqxa6hDAU4HpQo2PamAqAYCnAqAYUaAIFEZoUOOaYCg
QagHNC9jYqUCJU5oCCmAqFD+VEe9AHFMtQDeVMKgGFMBQDAU49aAaiKAYUaAn50fKgBUoCYo0BOP
KjgUAaBoBanegBigRQAIoYzQAIFAgUAtQ0AtDFAA4oc0IAihQCmp9qEZKlACiOKEDUzQC1KAlLnz
qghNCqBSaU1EBCaU0IcVO1WrXQIsApwKhQinAoBgKcAioAgUwoAgUQPShdBAPFHFC6DgnvRwKFDi
gRQEo4oA4ogVASjj0oBhTCowMAKYA1AMBTqKAcCmA8qAOKNAMOO9QGgJRoCVMedASpQBxUoA9qFA
DFTAoAEUp4oCUCPOgARilNAClNAD7UCKAHepQAIpcUIA+1D3oQh/pU78UDJzjvQFCEqfahbJUqkB
QzQAoc0AD2pDRMCkUhFAcZPKrV9a6ERaKYVKKMKcUA9EduKgGHamAoUIFMBQUMFpttCohHpUxQpO
e1SoAY9KIFAGjj+tAHFSngBAzzTgVAMKcD1oBgPamFQFiinC5FATFQDFAE1BQEo0BKIFATFQCgDj
yqYoCVMc0BKWgAaFATzqUADzSEUApzSGgJQNATHpU96ABpSKEARUoKBj1qfahPJMe1A+tCExQNCk
Joc1aIA+tCgITilNEAHNKaoAfOkYVKIcZBVq1sIsB8qajKFTVgP50AwpxUAQKcChRgKYChRsU3FC
k8qmKAGKhoCURUBMUcUBO9HFQDAUw9TRgYU4qAcUyjzoCxfU04FAQipxQtANQUIECp7CgJimFCkG
amMUIGhQEqUBKBFALQNACpmgJSMaAQ0OKAFSgBipQAoGgBjNQ0IDjtUoCGhQAoVUQlAmgAaBqkBj
9aGPKp2CYoEetUC4pCKgOMhqwVsiHHNMKFGH2pxUA60wFAWAcCnAFCoYDypgKFG9qgoAgUaFAR7U
CDmgIB7UagJRoAgUajAwFECoBhTCgHFOBQDgU4oBqBHFC2KagoBqnGaANShBhRx7UACKWgJUzUAC
fOpmqBSaHc0BO4oGgATxSGgEJoE0AM1AaAhqd/OgBihigJQIz3oCedTtQgDQ7+VAwGhVIDy70MVA
T7VDVID7Cpj2owQihigFbtVbUYOInAqxa2RDinFGUcUwFQDqPWrBQqHApxQoRTUKEUQaAYfepUBD
7VMZoA4HeoaAGKgFANj0ogVkDAUQKAfFHFAMKsFANVijihRqBNCCtSgioBgaIPnVKGoKAYUaEATS
kjtQAzQJ9agFzzQzVKTPvUz70ITPFAmgFZqQmgFJxSlqAFQH3oCUQRQEoUBKgoCUKAHFChAGgeKA
X2o1UQmD6VCBihAYo44xQExxQxUAhBFVtxQHDU8U/euiIixfvTgZoUcDzNOBUA6irVHrQowog0KM
DTChQ1M0AQfamAqAOKNRAnNCqCVAKgGxgUe1AEUw4qAcUR7igCOasFCoZasFB5GpSagFJpc0ARzT
VS0EYphQMOBRqGRCcUpoAE0pPNGEAmhmqAE+tTNCgLVM1CdCn0pTVApNA0AufWj+VATPrRoA0DQA
x7UaAlAmgAaBNALQOaEJQ/OhAipQEqVSEzigCaAUiqmFQHDXt2p1roTssWrBUKOv2px3oB1zVgNC
hBo+dCjimFChxUANSwMKYDFAGj5UABRxUBMUQMVAGpjNWwMBimAFQDCjzQDAU4oVDijQoaU+9QgD
QxSwEU1Cko5qkGBxUJ9KjQFJpScUApNITQgCagPFGEQmhmhRS1KWqgmaBIoQFAmgADUoAg0R3oA1
MUBOKBoCdhSmgAaU0ISpQAxzRwe9AAc0aEJzU4oQhoUADVTUBwVxVg9a2RFi04FXopYKYVAOOKda
FDmiKFHHHFMp5qFGGTTflQBHemoAioRUYIPSmxUBMVDxQEAo4NAMBTYoA4pgKFHA9KNAhhRqFITQ
JqgFGoAj2qE8UsAzRBp0Bs0M+9QgCewpTVKKe/elNGyUChmgJmlJoBSamapAZoZoAZqUAKNAEUft
QBqeVAT86hoAUuRQCn2od6AOKmKEJihQEqUAKmaEBnnioTQgCfvVTHzFAcJe1OtbIi1KsFCjA804
oVDimGfTNC9DdvKmFANgUwBzUKOKOKnYCKagCM1MUAQKYVAGh3oCAUwoBu1EChRgKbFAGj+VQIOa
meKAmahNAQUc0KSgTmoCVM1QQmpmoCZoEigAaQmrYFz60CahmiZpTV7LQKGaJk6AfehmqCVCcUAM
0cjyoA5og0Ac+9TNATNTIoAE0uaAU1AaANTNAAmpQgM1N1BQMmhmhKJnFLuoQDN71W1AcNPKrFrQ
RYKsGaoGBqxaAcUwqGhu9MPahRwKcD2owMo7U+OKgBijjFAEUeagJTCgCBUIoCAUwHtQDVBQo1MD
moQNHNGaRM0M0shM0allJ2qZoCZqZFAT8qhPNADNTdQA3UC1EBS1LmlkFJ9KmT60BM0CaIWKT71M
0IA0KvYJQJoAflRqgIPNHNADNENQEB96OagFyaFUAzRoCZoZoAE1M0BM0MigATQzzQnYC3lQ3UIx
ScUjGhDiKfarV+1aBYuacVQOtWLUKWDnimA9qpRgOKIqFLEqwCowOBTqKgARzU7+VAGpQEFNigDj
NQ0AAaYGgDRFDQaINRkDuok+lASoKhSUc4oCA1M0AM+tDNAHPGaG6oAbsVCc1RQpNAmhAZoE0KLm
puoQGalCsGaGfahAE0M4oiE/OoaoBkUc0QJn3qZ5pZA1KpQZqZoCZqZoAE1KAGamaAG40M8UBC1K
WoCbvI1M0IAnilLUIAmkY1GQ4y1YprQLQTVi1QOoqxRQqLAKcAUKOFz3o7QallGC48qcGoBgasHr
QBxUAoA4oEUBAKag7JmgfWheiAUcUHQaIPnQMYdqlSwHOKIqFQalASgTQAzUzUBPvUJqgGaBPpQA
z6VM0ACaUmoAFvLNDOaABNTJoQBNTNCgzQJoAVM1SMmfWpmqSiUCaUOiZqZoA5qZ4qWAGhuqoEzi
puoCZ9qGaoJmgWoBd1Qn3oAFqG71oCbqmaEIT50pNCAJzSMeD7UIchO2TVimqEWLz/8ANWqPOqgX
LzTqKWaRYq5qwD2oUcCiBUA2KIWoBwoFMOPKgGH2qUAwFQgVC9gxg80fsaWKBg1CKFJzUzTsjJnm
iDQMYVM81LKT3ojNCDA+dTOKhQZoE0AM1N1ATNTNATPlSknPegFJobqAhNKW96oBnNDPvUBM1M1Q
DNTNQAzUzQAzUzQiASRUzVBM1C1WyC5og0Ac4qbqgFLUCaIEzipuqgm6gWoAFqBbNUAzQ3UAC1Dd
50Ac0N1CMBagWoQG7yJpHfg81LIcte1WqOOKoLU4q1apUWr2qxT50RUWIRVimhRxTCoBgPanUUAT
Uz5VAMMCjiiKHsKBNGSwZpgaFGoVCgNA0ADRHehFscVCaFIKNQUTPNAmgBuoFqAXNHdQE3UN1ATd
QLUApbNLmqCZxzS5qAmTmpmqCZ8qmagBUzzQUTPpQzQAzQoKJnmpmqQmc0pal6DJuqbqCybqG6ng
iAWHkaG6iAN3vU3ir4BN9AvQA3UC1ADdQLVQTdQ30IDfQL0DAX96BehOhS/vSs/FRkMajirVHpVC
LFHtTjigLVNOvPnVNItSrFqFLFp1FANTA0Ac1BUBM0QfenRUHNBvaoWieVMODQg45qGhRTxxQz70
IwVM0KMD7VCfagCDUzioAE+eaBNAAnNAmgBmoTQC5qZoAZ96hb+lAKTUzQAzUzQAzQzQEzUzQEzU
zQAzULYoAE0M0BM0M0IQtSk80AN1Dd71QDfQL0Apfyob6EJvHrQ3+VXwGTxPehv96IE8Shv96AG/
1oF6oFL1N/FAAyUDJ3oQUycUDJ70IwGQVW0nHeoyAVeBVoWqC1RxRC0KWAU6ihaLF4q0UKOpxVoo
AiiD/SoA1KMWHvTACoUhPrS0BM+VEHmgsbdUJ9KDoGSahOKMIBzU/pQpM0c1BYQcedAtQAJobqEB
uoZoUm6huoAE0M80BMmhmgFJzUBqgmamagJmgTQEzxQz6UBM0CeaEZM0AapfIMmgTUBCfKgTVCFL
e9Lv96EF30N9CCl6BfNAAvSlqqAN1DfToA30d9UA31N9ALvoF/egFMlAycd6EAZPelMnvQC+JSmX
zzQyAy0jSiowb0TirFTigQ4WjtI8qpR8dqYYFCodTVgNAOGFWBs0KNuqA0A2famFQIh71NxFQtgJ
qZpQBn3pgcVSEzRzUL/IS1LuBoLJu5qZoLATUBoSw5qUKDvQoAUD71ADvUoWwVKAhFA0AMVMGqTo
OKG2lBMmKGMUoWA0MUHgO2htqkJtOKmw+lSipkKHtih4ZohYpjYcUpQ+hq0QUofSkKmqBCKU5FAK
c+dLzUoE5oc1QSlP96AXnNQZPNAQmlLAUIDfSF6AUvSGT3oBDLS+L70MgMnlmlMlAKZfekaXg80D
PQL2og4rKAQaOc9sVoowqZoBg2aYNQo4arFahRg1OpzQDijzQDChipQIVqAH0oCEYxk0CaAmT5VN
xqiwbjmp+dAHOamalAGc1KjAfeiDQAJFDPpRIXZKBBpRbJiiF9qAOzFTbV/ghNlDw6gAVxQ20Adv
HehiqAEelKc9qAAUnvVgiJ8qoD4R9KYQk+VTsDCA9sVYttngigG+Vyfw0/yQVckVAUGABiMUvy+T
2qoCtaZ8qpe2x5VQUNDjyqpoTQCGKgY+O1AKUxSkYoBGpCaABqFsUBWz+9Vs9CCGSlMnvQWVtJVb
SVWRlbS0N9CCmT0pTJUADL71W0vfmhlnqx271MVEaCM01UB71MGhRlApqFCDTgnyqgsUZrRHHnmo
UsEf3qxYhjmgJ4YoiPJxigCYgPOkZMcg80BQ7EHk0m4nsKAYZoCgIT6UN1ATd70N/lQE3ijv8qAm
+pvqAm/PnUD1QENRzQBFMOagHGKHaqAg5qYJqChCvtUC0Q+htlKUOO1AKEOe1Wrbk+VUIsW0xVvg
4HapYoZYM9xVq24qWWi1LUfrVngKo4AzQUI0Y7YpGU4xQdFTRAnNDwttCAZRjk1mlAziqgZ2UedU
OB6VQIyikIGMUBUwFUvxQFLNVZYVaApekZ8URCpn96Rn9aAqaSkZ6EK2kPrSl6ArZ+c5pd/mTQgp
ehu96UBS1Vs3HeoRnsgcedOOcCs2UZiMcUAa0BwamRntQDUCx7VQFMk4rQiE1DSNCRnPNaV2gcAU
KEMPSrByKAcIuOardlUECsrYEDHv5VW7+laBSVZzxTbAtAK7Y/DS5OM5oBC/NAuDQCFqG/zoCbqm
/wB6AniVPENAHdRD0Awem30IEP60yuKFG8T3o7x60BBJTCQVATePWmUj1omXsYEetEBT3qAsCr6V
Yu0c1Cjq60Q4B5NAWoy+lWBlNCFgkGKRpl9aFKzKPUUjSqaEoqaYA1WZ+O9AVtLnzqln571qiWVM
3vVTVQVMRSE96ArY1RIaAoY1W1VEKmaq2Y0HZWzVWzedPonkqZvPNVsfvQCFjmlJNOiCMaXPlQCk
0N3vTwRilveq2bNRk7PaK2R3pgwFQ0HfTBqoGDUyAt2owXBCDil2gttoaL4kVfKr1xj2oB93pRD8
YFCjo2cVesgArLBDOMEZrO8gznNEGEOGHNTauM5rQISqjA86RgDwDQCYAGTzSMfagKn70poQBPlS
85qgODUwKUUhC0Mj1oQmRRyKFBvqeJUAyue1OHwKAm+j4lUA8Q0fF8s1AQS896cT4FSgL8z704uz
SgMLwg8mmN4cYzSii/ON3zRF8fWlEscahgZBojUCOd1SgA6k5/mpDqDE8mrQGW+J7mibvd/NSgIb
gk96gm470oCmY+tKZfeqBTJ70jSUBUz+9IWoCstVZ5qgRkzVbJxSiFDKRVbKc8U8gqZD3xVbJmqR
srKH3pCh9KUQQxH0oeC3pQCNE3pVbRkHtSgKUJ8qUxNilEsVo2qpkao0Q9WsjYqwP71lBMIlPrTC
WqaHEma0JPtUKKAcS7jg1YpAqdGkyxXU9iKtDgDvQAEwHnQM4HnVAwm571Z44A5as0UpknPkar8Y
981olhE5FOLnHFAAzgnJJqC496AJuOO1VmXPnRICFx60C/rVIQOKO7txREIWxSFyTjBoUG56BJHe
qiimSp4pxUQJ4maIY+9WijBiKYMTWQNk4pS+POqBTLil8XnmoCCWp4h9aAm4mnU4FAAyYzih4reV
ADxCO9HxDQEL+9TxPerQAX96XxaUCeN70wnPrUAwmPfNOs3FARpaBk96AVpscZpDLzQCmQUpk96o
FL0N4oiE3A1CRiqCpgKTw89vOhGKYfKlNvjyoQUwDPal+W57UBDbjyFTwMDgUAhtcnJFQ2S+dLAP
kl9KQ2Y9KWQT5IHjFI1igoyG9eBijyawiDhT604UmqaGAOe1OpPbFCjhiPamEtBYVuV3Y3cjyqwz
gj8VKFg3jyaiDn+YUAwPmXo5GPxmgD9Pm1QBfWqCZHkagx61AH6fWoCPbFCjcY7gUhHuKq0QBGPO
p5e9UDKOc4pgD5ioBljXPNaI0hGPpqWaRZ8vE4yAKyzQKCQKiZWZzEg8qmxB5VohMKPKp9I8hSyk
3LR39gO9QELeRqp25qgUgmiI/MmgAVHlQxQEJOKmWqAmfWgWA86UCbuKBkGKtEB4gHelMvnVrQsR
pue9IZaABm470RP70AfmPenS5A86jFjfMqfOgbkeRqArNxnzoeOPWrQB4/vQ8fPnVBPFqbx60ARL
xmmEgxyagIHU03iKPOqQHirUMgNQCmRTS+Io86eQIZBREgxQgfEHc1C4PnQEDDHNQsPaoBCwqtmW
hlmKOSQFvUHmrPFkDAM3fnvV0ZQ8Mskwd1Y4TvVnjbA2ZQGU4x5080XxYsUs8xO1gAp7k4zWmGZZ
2dhIiqg7ZPJ88Uf0ajvspFyWeSFpiGGSpxnPtUS6Z4mcMcqMnmtGSkXgRjIWyTV6XpcBgT71pryS
w/OsByacXbcHPBFRo0EXjdsj3plu3IzkYpQssa52rnxRn0ANIt8pGTIA3IwT51ErBo8YNCjwsWYj
LDyFI07r55z6c1EUJncfi4z2zxSreFjgAjJxya0lZLC92UbaSD9jQN6feqoksnztT54+tOI5DC/P
rTrfn1qcRyLVv+eavS8jz3/WsuPwaUi9byML+MZrPJdqT+LNZpmuRU1yp86Xx1PnWuLJYBMvlQMo
PNKFk8SiJ8VKLYwmJ54oNJilFsHjYFDxSatCyeLjtQDZPelEsJbyoFiPOlCxdx8jU785pTJZCB5G
l25NAQRBj+LFH5fJ/EKbLYjW+D34pWiAoQrMRzxQML+VAKYX7iqmEg8sUAniOPWp4rULZBIxqbmN
BYd7Hyqbnz2NAMHYdgc0DI1BYRIR3NTxjQhPFPvU8VqFsniNUEhpRCAu3IzUIbzq1QsgDcUxVgMi
pRLIAc1CSvaqUTew5oeI1SiWAu2KQs2KhGcZZ3BYmQHd6k0xuSAXZ0Axz5VqjmpUIdbK26xwxuXD
nLZGCOMf571kk1W5cjc6Ljz7mkYLyOV9CLeyHJad2HoM4q2C4HO3xG9sVuiI0wrMIZpASg2/zHB7
1iW8fJxIee/Peidleh1vplH4sj3rYNenLMzRrlueOOc1WrIpUXx6skxBlcggHuOK1LeRMMht3GB5
YqUaUhxfIOOAPXHNBZPEjdzLKTjggcY9/SpVFuxDfQrgreAnsQwwB/Wit5bSbjJOGL+hq010S0aY
7uFExFI4P2zTR6hHGxV7whT/AKkBJrPFvs1zQ51S1fiWaPafw/T/AOara7tpMLHKCM+Zzn8qKLRH
JMYSxHHY4qwSw+ZOPtV2E0Vlo/J2pSUzxI361pEZBsz/AN1qtR4zwZQPuDQg6uh43GmDr/qqCw+K
B/NQ8cA9xQti+MPMip432oLCJj5Y/Wj4jen9aaFimaQHAQY+9EzS9wKUWxluJccp/WiZm9KlIWTx
z6VPHPpVpCyeOaHzB96ULIbk0DcGlCwC4+9ET+pNKFh8f3qeOPWo0LD8x70fmP8A3VUhYfHH+qgZ
h/qqULB4q981PGX/AF4q0WyGZQMlxVT3EfbOacRZQ0iHmpuSpxLyAWX1qCVVpxFjLOoPlVqXcYGD
GDV4k5E+aiznwxQaeJv5APzqcS8isupPAFOkkYGGTNOJOQxlhxwmKVpIiBhacRZFeLPIzTCSIHla
UTkMJ4h2GKhkgPnShYVeLGQwoGePtxShYBcR+flTpJAxweCajQsLLCTjIA+9OIrfbw6k1l2Wyp44
V7sKpLRDsRiiRG6PCCS4OOJTz5AD+4p83DDBikIOc5f/AOK2ckFI5hn/ANMnljJz/c1couByiRrn
PYD/AIpo1Y4W5Y5aUD7VYElIwZfL1NRULFFmp/FLxjyH/mtCW9qi48JT9+a1YosHgqMCJP8A9tPv
j4xGg/8A0ioUgkUdlX9BRMqkYAA+wFUguAX8QuxOc4Pb9K2y6vfSwmCW4Zoyu0qQMY/SsuMZdlUm
tI5/hW/P8IUAkK/hT1Ga2TY6yBFKrkDOcZ70hcM24gAYxwfL7UFilIyckv8AYNxVu9Mg4IKjgjyq
iyeOA2PrJ75PNXfPS/yu69+AeP0qUVSaJ84+8uSTnuCxwaVbtUJbZuzxgsacRyZDdqxLMhBI/wBR
4pxfhRgA8duaUORZHqagHMec+Z8qYainmpH51eJOQRqSemfuaX94rnzqcRYfn1PkKI1BfQfpVphM
hv09v0ofPL6jH2pQsb59PUfpU+fSlCyfPr6gfrR+fA/mH60oWMNQ/wDd/WmGpeXH60oWH95Cp+8g
fKpxFk/eOfL+tT94e1KFg+fHfFT58eYpQsPz6f6RRF9H5rV4lsIvocZ2/wBab5+3PdT+tKZLJ89b
+hqfPW3bBqcWORPnbb3qfN2vmDV4sckT5u09DQNzaHyNSmOSAbi0Pnip49of56tMckTxbM9pKUvb
eT0pltA8S3/1miJLbPLGmxaG8S1x+Op4lt/9wUpiyBrf/wC6Kbdb9/F/rSmS0AtD5SD9aGY/9X9a
FsgaNeQR+tQzDPcfrQlg8UeoqeID5igsnij1H60viDzI/WgsBdaXxB3BoQnicck/rQEnuf1qFshk
z/q/WlZx70Zmzy4umx3pvmTjBrmUR9Tt42KyTxqwGTlscVI9VtJFLJcxMB3w44oC2LUbabcsc8bl
PxYYce5q1bqFs4lQ444arsDLeW7cpNGeM8MKcXUR4EifrQtlgmB5GKPi1CoglqeLjzq2CeL/AO/+
lTxv/f8A0oQnjH1FTxT6illJ4vqRU8Ueoq2CGUeZFTxB/qWiYJ4n/uFHeccMKtigl8+YoZz6UslE
xx3FT/8AUKWWg5PqtTPuKWSiH1yKntkVbFA48jUI9xV5CiY9KmMDzqWWiZ9zU/M1bFEyfWjuPrSx
RNxz3qb2Hc5pyFB8UbsZxnyqeIfWlihhIanimliieKfWiJTmpYoPin1qeKfWqmTiTxSe9TxqWOJB
LR8X7VbsnEgmFHxh7UUhxIZRnvU8YetLHEnjCp4o9KvInEUzL6UPGXzpZeJPGWmE6e/61LHEInTz
JphNF6mljiHx4vImoZ4velscSeNH6miJ4/WliiGdDxuFDxV7b1qXQom9f9af/uobh5Mv/wC4VORU
ibh/8GpuHY7qWKCXGf5qUyD/AN1LFC+KmPxEVPHjz+M1LZKJ48eOXNRriL/7tLYPOrDaFi0kKvn/
AFDNWFbNic26H2OTXG2dCr5HSmOTZx/pV0UNhGNo0u0YejL/AOKNughtkGMC1tsY28gnI9KV9N0e
RADYwh/bIH96JtdDT8GSbp7TpWyiJF5YQN/zQj6W03B3Syn7HFbU2ZpGiPQdNhdZI5p0dfNZMGum
rIoxuLY8zj/ajbZUkg7096m9T5VLBNw9KORSwQso9KXenpSwDenlxQ3x+9UA3oOxqBkzil0Sibk9
TRDr5ZpYCHXGeTR3jHegIGX/AFGjuHkxpYJuH+qjvU+dCk3j1oh186D+Sbl9f6Udy+tLBNwHvQ3j
jg0spPEHkDU3jHBq2TsyXesWNkgeabOewUFs/pUTWdNkjEgulAPqCPLNFdAH780nIHz0Zzzwcgff
0pk1nS5IxIl7FtJK5JxyPvVpgEutaSuRJdxMAecHcP6VnfqXRYVBW83A84wxx9+OKU2LJH1Vo0iM
zzlNue4PP2q6PqDRpYfGF6gHmGOCPypTQLP3vppK4voTvO0fX50/7wsdnifNxbS23O8Yz6ZqbAo1
WwJYfORDY/htl8Yb0rT4gPIOR271bYBv9+3rR35GRzUsB3MecZoZP+k05AP1ehqHcPI05AOGPkaG
D5k05CiEHP4j+lT/APUavIUVtNGpw0qg5C4LefpQ8QE4EgJHkDTkQOWqZf1pyKTL+ZqfX5mryJsO
X8xU3P6UsbQN7e9Te1WyWAyMKBkk8h/WnZLF8aTzpTM2aCwGU96Hin1P61SNimU+poGZv9RoLCLg
j+Zh9jUNx6u360JZPmv/AOo4/wD1Ur3B5/it+tCNs8ueoJNzqltJgHCuY+D743ZxXn06z6hjuzE8
EU+Dyipk4/I8VxglI7vVHtLKx12+EDzXsVpJcKGWAQklc9gSex+9WXemalbl4BrEKzrlcujHafsD
isXs1R5nUuo9ZsvCht5Ybk7vqeOMjOPIg8YPtVP/AFN1I024wxorgBQACF9+/J/Ouiijny2U6n1H
1QIJEciKLsXRQD+uT/Sujp3WmpR2EMt3ZJKDlfFMyozY/wDaf71Wo0VN2Yk6y6iMTxqkbytJvU4U
4UD8IA/+a0RfEO7DwK9kj7iTMADkDPAX3x/erxi+iW1pnfj620BnCNNKuccmI8fpVN715o1rIqRp
NcIc7nVcAfbPescG2btVZtbqO3l0ibWLCznuYoV3NhCuOcck/fyzVGj9aaZqY2NDNDIACQYyw/Ue
WfXFSrT+h5osh6rtJ782vyV5HFg4naM7TjOeO+OK1Sa/pEcjRSXQXau7cwIB+3rV4vwNLbMCdadP
PdtaG5KEHAkZfoP2P/Na/wDqHQ96x/vW3y3Ybv8AMUqSCpk/6i0QT/KnUoN/3+n9e1US9WaFCzKb
osVJH0ocE5xwcYNKbGiyx6p0W+SaSK5CiBdz+INvHqPWrodd0eeMSpqMIU5/Edp478HmpTQpDx6z
pErrHFqMDs/YBxzVj6lpscwga6iEn+ncM02KQf3npyyNCbyAOoyVLgY/zNXvNFGu+R1Qdsk4GabQ
oRruzjkMTzxqwXeQz4wM4zSrf2TMypdQFkyXAcErj19Klii8ODyCMeWKPiAdzSxxAt1B4ogEieIR
uCbhuIHnikkvkQlTBNgefhMR/allSsrOp2q/i8Qe3hN/xS/vewB2tK4PoY2/4pZeLA2r6eCf4xJH
JGxs0V1eyPIk/VSP9qtjiytr3RmyHSA+uU/8VDfaFtCyLaEeWVH/ABUscWKt304q/THZkdsLg/0q
yO90BBj5SMrnH0rmjkVQb6CbjpojBtogPQhhVF/baNd27RafDZxSuCFdmbj7VFL7K4P4OVB0/ctb
vEY9NkcAgSANuGfzx+orDJ07e2qySz31sixjaRkE5I7Y9a6KRhxKE065RIrlb2CaLcCqlTg+WK3f
9S6XbTyxS9O2JVTgKjSDGCPMk5/Spy59aK1w72bF6x6VLb5OmYPFJz9I7n17j+1Nb6/0nEqO9rOS
rByjOwUnvg478n+manuXkXF/RuXqvp+ZXNvoaeEXDEq7lh65Gef960ydWaJJGynTZImTlNkJ+oY4
HJ9hWLp9m+NrRzD1bEwk8PS7gY/ASAoPPmfLjJ86Nh1Vclt8mjwFslS5mcIV9cAnnjv71XKPyZjG
TfRdfdVTOIvk9AtwVbMu+SQ59gQR+v8ASsUms399DHFBYNa3EZDK4uZCrN9myMVFKPyb4Pqi+2bU
hcteR6dcyLkja0+Q3kc5X+3byqi80zVpZDLbwXIDndtMvKk/i5x9scVtfJzfwHT4eqrS4W5mLS5H
hsjYxtA4P3966viaoT//ACisM5O4Kf7msZIuTuJvHKMVsvS4vSrpJpNuckHISMHPrVC28wbemnRx
nnkbQf6V51hnF6Z3eaDXRfCJI33S2jMB/wD1sZ/rW0m0mzvR4sgcBgaSx5fDLDJhXaKrhNnEU7sO
3cD/AHqhLm+hXbHaq/uWGf71I48jWzTy4U9CnUNVClWtIn9225/uKMV/qePqsIuP/cOfyya2sEl0
2cpZsb7QyX9+H/iaapUD/UOf61rjvEcEtZGMj1IP9jXdKXlnnko/0kN1GeRCP71W88ZP/bx+VaV/
JzorM0A/FuFTx7PzZ/0q2yUgeLZd9x/OhutSf+8o++aXIUhWS3PadKrKwf8A3cVeTJxJsh/++P0N
Vsq5wJKvJjiKyf8AuBpTGacyNHz6z6ssfCMEkN2r5PMeFAAH0k4Gfvg1ZpfV+lWDlpLKeVXXc6xy
bCZD5lipJHl6+9cUpHVPdm+HrfTzPFdWieC7KyyRfXKGbOAeSMYx5e9UX/XNxHC8Ed+wD/UxXKuo
8gC2f8NRR3s3WjFN1dtt/l7qJ2IXgkhWyfMnH+1VxapazlZIYYFZNsgxdiLBUn1Xkn0BrfRjydjT
+tRqUDWet4mgLbvCURBVUZ7kqdx7en/HNuNb0drppLHTLjwEG3PileP/ANOMfasrT10auy256g01
YLV47dmtiXV8pHncB2UnJOCecmn07VLhbYTzSaesRUbnkljR2+ykg+vYeVad0E0mWQdU3KNGYmCK
AxjdvpTGee/fsP1FbJtZv55TcXM0VrCsavFuVZFMgOVA3uBnJHrjFZ6LafWjK+s32sSQxx6/KszI
fExDEkaqM5Y7HOTjzwK6fT/Uum6GLjwr6Sa4aMIA8mY1CnOc7cDPpTxxQTp2zZqHXmh9QQwwX736
GEgDw5oo09zkoW7ZrlonS8bJ87rFyHnfBXCSlATjlt4xxjkqMZ4zUTlFUjTUZbZ2X6X6MeAvuEPB
G9hgk+uTkfpXFih02KbZpF863xQj6IRuIHcYUe3esxySa3s04JPR3Ej0GzuBqM9ne38sagSfNWTs
px5cAgeXYjOe4zXKk6r0i6mS0uINGMIysnjpOMemAFCjn2rSuW0ZtLRstLjoG2jupobOG6uGQRJ4
Q/hnIycq5+kZCkH2I+9mka70rLaS3L9MW9wsBbc3gqxxjA4xtHmfby9anve2x7ekcjW+o+l7iO4t
YLK3tEG6SJobVPEUkLwMY81bz/m9sUtt1ZodrFsGgxyOCrE5KArjH1Nyck88fYVt8l5MPj8HIu9a
ttUMhnsYYo0K4jhcIcY8iQS3Yf1p5NR0r5YW9vZxmVgu7xmdyuB3ypAOPTH/AJ1yflmUjIt3arcP
81DFLljtVmYZ9u+ft3rZZ29pLbtO9tDGZQdqmd8kZ7ADPoe/c47VOdFUUVouorLLFYS3TQ/9vBlb
Cr25I4plv9RwVu2nn4Eg8S5OcdhtAPJzVckXfkSO805ds9rb3SXcPJYTck+ZzjI9ae5ureZrcRz3
7Zw0iTXQIAB5APlx6isuewqOtb9WXMEUlvNJcQlYtke2YSAjsCcYPbzB5rmy6voo1GK6N3qEC+GI
5HSTfI/AHG7sMe5pB30VtMS71DT4Lp5Y9W1YxtsZJJMbnwMgHnyzirhrMLRNdHU9VEwUrg7SDyMA
c5B98Vq7GuiybqK2ji3QX2qvMF3IGKBNxAwHyOR6/aq9SuOn5LN3sTeyTgHJBzt58+3eibGmUS3c
LrFDJb34iK4dkUqxYeQ4PPByPeomu2VvCYZ1vFweYzwMjjOSc59vc1aonIaPXNHjWaGaW9clVKKz
EEZHIGDg49/t70LHWdNt5wZzcTQZG2LxGU53cbjnGMenpTj8muX2XTdT6fBc3HhQ3VswyESO43L3
4yTkkd/Omg1jpoujtFM8zHe6u5G7jPHHtj86nF/0scleyzT7uwignewDNEzfwY5WP4/Xy86X922U
qyXl/LOsjENJhQ33JGRjFXrZNMvmm6W063t2ku0YSKVLLC2dwAzkhzjGcdhXPWfSklR9I1ZjvO1x
Jghsk9geQeO/uOawk32tFuKNQmsb6UW9reTQqxxmScgrgc/UQFxwe+PTPNXRappdpL8ndy3DSK21
nZ0kQ57Fdh8/XJ7VlwtV5NqaQb/UbewcSQXnzCM58RPCcbFAGe4H9a1adrmmTxb7jWbC0ULuKFZG
bjgjgADt5E8Vh4bNLNTOhZXGj3Fv+8JuorRbdgVUhJEO77EdvepHrOgxspPUkQyp4ZO/cjuSedvA
xzlfUZw8DOizhPVC20Vw0F4ZlMfi27GyfEjZwU4xg5wM4x+dVQ9YPc2Ecnz0KXBfEqeGFZQeRtB7
+YPeu0VJR0cJOMpWD/q1op3cX4kUHAXaOO38o5/rW2fq7Tb/AGQWeqW8MnZ5ZoCq/kM4H5+lVKfy
RqKG+euZYw9pf2EoyAX5KjHDA48yeR5YqpdZnRme5hjSMv4aN4hAJ9c458uOO9T3+GFGJyj1TciV
Lg6ram3aZ4fD2+eeAT39OcYr09rHdT2Zupr21t2BUKkiNznzznt257VZSlFWRQTdAt7qGIwJql0i
Gc4HhgYUZ75LYPl2NbZIrFrgxQahbhP9Usioe2fImuUss60jX4l4eznw3+l3EXjRXhdfEaIYVgSw
9iM+VRNR0gQmSe9eNtrMq7hnA9R5f5xUWTL8GfxMS+vzZWvzSxXDxYBDiOXaQe31bNo7jzrJL1Ha
QNHBdeNFLKcLG8bBj+q12Um+ivHWwz9RadamPxGnlEnbwF3HOO3OOea6qXVjJZvcxNcRoVU+JcqU
8M/6SFJOefSry1szw2cFNdvpJ2gMJcqSpCEn/wDH+1Pe6vJZ7N42lhuYMhyo9/z+9b0Zp2UrrpuW
22U1u/cHIII9OO5+2K1CfUfB3GKNG9WTjn/27s/1o2l2RKyk6zLtOxImKoS2Im5PqOe1S21eWbb/
ABLYlchxkISfLALZ/vQvES71ySNyniRRleWDJk49e4xUXXIgT40yoCMpxgkedQnEvS8mcjCHBGRz
yR64qia/1BHIFg5HYZYZJ/zNLROPwfF4rm7a5eKNmX6i24r2I9faulZ3+rQYmQPsQbXbw8r6c57d
6jaJGx7nXGuZw8szJIrAhYlGMAeQ9P8Amq1u1dkuIiv8ElmD4O4+mP1/Wpeiplx6gaNy1xBBOW3K
m9QVjB74Hb1+2eMVhGtXU06SeLBDHsAZe6EDtlaqWg5bL7XWLuy/iRwxlcMdxQbZB5H6uD9sUlr1
FqVrMJrV3SU/iEZx9PmABRRTJyaBdXm3w7xwkW6QkLuJ5Pc4yT+vetUvgXUoM16kqFQPF3ZI8+3/
ADWtrYXwJNKUiPiXCOEGIyDzj7dqR75bmSPbId4xsUtlVXOcdj6miH0bIFuJ5yunWEkjqD9Kxk5X
zPYeVJYXt4J2trMbWuD4LgZAwT/MBxjODzxxUv5NbRZJrVvYyyg6fa+LbuEA8IShmHfOTjBwecGs
ct6JY3kxHJOxBAjARR6jbgdvatca2zLlfRut9Z1e3lhuYtMKS2ic+KjuDkY3Ybjvk9sUkl/qU8wX
VrpYInLSF1UPgkDj6TgA4FZqK2a5Sf8ABZGgihBs5ru9nY72WGJtqKDxu5B5J7+X50ZzbTXUbyQT
RfMj6zuZlByOcYyfPgE/7Vm/gv0dKXUI9Js57c6ZsN0US3maDYwUFvrBYE7fXPOQBnihb63bSWkd
sYo90aqqSHGJSOwIY45OOMHgVKb2a5U6MEl7IkjrqdglvLHmNMkIC27swX2yMjHlzVdtLp8ksYa6
YRSovi7VO6NwvPfvk/3/AEVXRnV7OnDeaUtu9wEmliEe0kbfofcQMnlgO3kO+Kfx9JjTx2eSRXjG
Sqr9J2njkgkg7fLHI7dq5SjLo2mmcbU9XR7yB7mYzssUXijgEYIGAcd8HP510dQ6zutQvIpJIN0M
arHCDhBsUjH4QBnA5OO/NdXjujCnxsuvtZ1p9LfRNKtbi3MB3XBhlYqysAeftjk5xgdu+ePb6zqK
2piklvJ5YiBHtbKoB3z39vSqoRrYlJ3osn60129SK0vdQdIkjEUa/wAqoSCBge/P35qhtcuJPEj8
AKj/AEELwucf37+fnT8cURzb7KRf3pnKr9LBApww5zgYHr3/AL01ubuS4aKTAYAHbgBgPQAkZNb4
xSJbNdzDdCaK3d02fi3bkPdQewOf8PGaFvJ4UySxztGrMF8Uggcj1HbisNqqN15NM0F9NdRRW0jX
McrBA6FiD5AZIGTjyrDbw3c9zIoeJUDNGpZ8Asozj9PPtVVMjtGuNLuKyaW6hnWIKGEgT6RkZwW8
uMccnmhYabqWtRzXFrp95KkWVEkMTyKD6EjsfarbSsd6FurPUbQRw3VrOqyDKiSF1yc+6j71uttP
vNZKEzafaI0ghRWcLlvP6Rlh2zlsUbpWVI6Nr0hJd28T3l54a+IwEg2sjntncceY7YP/ABj1rWEh
U2Au1vXiPDggeG/PYgYwOOBxXPlyaS8G64K2c+G1ulKW1zcMglG+3VT/ANw+v/8AcM+vFYVvreQT
W128qTKG8RicgMM+nfsveuqd7RzrjSZu1DRYtJ0+F5eoLQTXcAuUt8ODsO3HOMZ+rOM9gax3lpd2
0aSpLash43RSBsnPNXmr2Th8A+bnlVo4V+t2Cl0/nJOB9+9W6jZWVjaWjQ6o7XMqgzRPCU8PgHKt
k7h3GcDtS6JVmWzZJJFL3Epfk4AzurQmyD+JCrylQQw3Dt6+farYS8kmkvJLV03MYg6nnBI79ifX
/isqOpdD84Y0fAL7cgDOP0Aq3RWjd87qFopRFLRSxlGl8Y/xAD3Az9vKssV7PGVVrks68hsk7TnP
Gaymg7NMd7fIzzRybPmBhsLjPJ59B/asa31xaGJYnuYrhDuLlyPqznIxVtdEd+Trydb6zdEFdRmg
ZExtW4cKxByCcscn/wAVj/6l19Z/Hlv7jwm4EXzLOpUDGGGTxjyNZSikVybM63Tszzy2gUOcgqpC
g+ZGPTBq20mtDcJFqGpTW8XiF5WiUkY2nbj1O7g/eqRWzPPrpM8aJIwii5RmIyG4yePetM+t6hbu
zLNcGNm8SIPLkHIxyB51eKHJl41bUNMY29vebXLK/ih1bacHgMD255HqPainUOqCZbm+1ByshJVy
VYZHcDzXjPbHlWdM1b6Rvg616k+l01pHRSoAcDaw/wDxI/zFY7jVdfvb6C/kmZriA5SVFwVAJ5Hp
+lFxTDbaon72v7e6F0L2R5dzSgqRnxG75B4yfM96ttb3Vby3Dteqsu/YGcg5bzz649eRSooW7Ny9
Q3OllbeW+hmB3IywQhiDnjn+bv8Aaukl7c3VsZGu7S4R4ziNvDhcngLxkcZ9/wBay0uzSfgW30fV
dSkSa5FlDEo3eIURQfLhgccexq2907UhGVs7yW4cOGjMMRZWx5Ej7H+aommWqVjwaZrFxFcC9hii
jKsMHcJO3YkqRjn1rPca/punRqZI5/nUDIY51Lqq+WCOAPyPer3pD7Zmm1Sw19FCW7NNCMobeLdk
cdweeP8ABWGZ9JikT96Q3QmZC8hZjH4hJ4LLzwD6YrW+kYbi9nUOniW1MemajMrxH8C3eVX8s8Yr
BeWd1aRLNc9Q3sTyAj6rhQO3IBL8+dLXSRji/DPC3PUSW0l1KumWhjl4TxV3FSO2B+n6UdN6nG0R
6gkbwIhCRRRqQR5lvPPvWFDWuwpK+tGmPULFflry/wBOjjt5ASfCOwsC2cjPHbj0+1Wi3tLmNZrK
xWRCCuZbkZRie/fDeeBjnFZqjepdGDT1kmuJhd2MM0ewqArBCCOzefr+ftVyylQ4EEKpDmQpCxfA
UZJIYHPFHK3SM9K2dFLoXyRXNhZtHCbZXIkmRfq34YgLjIyfTOOTkVzkNwbhy9qbkNES7iQqFxyC
TwOMDvUU6dWJfRZp19o0l3Db3m+ePBXbHJj6yPp5KnjJ8gc9sjvXqD0va3Dtp8LSboo/ELySBFiG
0mQtnsBtI57kds4rnPLPH4NRgpbOFps+i2Lz6hepa6jp8YKmCS5dGlOMZBXDDnnH/muvbXHTmoXg
1OXQ/k7GdN8EdtdM0lrEufNt24bQScqewPFSc8n7J/X+pqPDVo5lzd9HrOi2MkjGQuGkmkKqRnI4
Hby7+dC6ntUb5rZHCM4VxMS39DkcVyk/UOS5OjlKk7j0d4ar0w8Vu17ptxOskUcjKLlY8yBikjqQ
pyrBPTIPJ9+dcz9NW1yZbeGGaLwxjdIcpx2whXJBJ5I5x2osmZaO03DtIW81np+8RFgtobdFARhG
7byfUM3Hr5fr3qD933rr8zfGInEayTrtRTzkuSDnP2/OtvJkVe0xafRRqup2egWotbHU47q4UEBo
tpQqexOBkH2z/eob/RL+zhu5dRnlmhjXxD4irsJ5KgYy2ORu+3tXVymo8uOxyXTZIes9LF8txHJc
DPBDqjZAGArbuDwfMHPpXOHUGlCR7UNd/LykHb9O3fnucAYA9APOtqE09hzTKZtWiup4lFmyrCQu
AARj8+/OeK0G6tms1toLRWlM5fxmIGRnhSewHqM+daWjNmi11PTrN8yqLkMwKwRoDnkZUk+X5Gul
HaQalbwz3Gn38JmO3bZ6fIyqwLfTk9+SvbPGPPis1J7ZtU9Hn7oT219LDLHJbADZsmBVu/mMZ8qy
vdmF/EYiJlIICcgcHsc+XFbXizDsu8eYwBbeaOeWYKWMkgGwqScfUcdv7fel8S6MyReLHhyTtBCq
CfI44/weVa1RKZZHMJkSCfwYWlcgSkn6V4/FgHj7c0qXEUqsjxCMAFAVckNg/ixTrRV9lF1f6gY7
eNEUxQsTGQoyc+vmfzoRXEYRDJK+7OCvY984BrWq0T+TQt9JHFcXFqkqIsfhv4g3EBwQecY8+O3t
zVdtqU8kAtyXZ4Buiyw2gY57+3YCsqPyU3Q6/J4JSHT/AJl45Fll8aViuAQCoVdpUHsTnOOARVcr
3MpOzSYrWVjwd7nAPoGYj+9NR7Zq7FuNbvJ5LiJZjKbhgzqzDy7DPpwP0rrSX2q38ltYLw4iIe1t
FWMIW5BYDjJwM8eVZpeSptvR6S306ySxkvr3Uby1TEnhpMw3sqKp4+5OBWbTOptM0jUra+M01xaz
NiaGQ8RqCMEkEE/bzwaxJclSOnPi7ZhmuNT6g1Zv4E1tbQs2yJYvBRYi24KueMc4zye3fFW3Orad
Cy2tppdhHeMsayTzuzhZAMNIc/Qc88f3oo0lRFTdsN11ReKEgms9M1Ke2YqLspuBGQcDPl3HHGCc
Y715+21KyV7vUZhHJJIzKYVGADuDHz7UhJvZiXdfHn5LvnItdtzqusX0u21jEVuM734HAHbAB9j3
7cVjtHt7qKW4ivUjhALNvI5b2Bxya3b/AFXSJ2Jqc/y7xS2OpNcbedxbG3j0PmBgV0RYafexxNDq
0DSzAIBJKhZcDuTwFH3IrV6tIVboMyWFvcstgEdvE2oqT7yvococf3HepFDIS8xmjdIjm4fGQrZP
c+YrLfyEt0VtqMEl7JKIrYxKpPhkFQwxyV54PkK1vsj0Twb3TltxdYW3lVVZ1AJPIyCM47ny8qKW
6LXyZ4p/kHN3FdKfCygIUFUwMk5P59vb1rGdevJZ2tWvReR3TBmV41Xwz4mQMntwBnywa1SlsjbS
o9L1Fr19qdtaaSZrcKHLRQwR4RQo/FuPkQx4yTXldR1OGygWK4jO9JSo4ByOCe/by8vOswi0yzaZ
yBrMkIwjOYJHEm3PAYdvY1cmvSNdR3JKjYwJXAAYDyxjzrq47s48joRdRrdPDDuCpEZI90ajLBj9
WR58dj7Cg+sn5wWtw3hQKpVmVdpZTgjdzzjHFZSrs2pWjVZazY3cz552A5jYABk82HuOTirb3qdo
LjdZyxyxEeEzyp9Uibs4+st9P2A+1Z3Zq0lZVfauupRxu1tZWkMrFMxQBBnyywGc0p1i2Q/LWNxa
fw2A8c/Rn6dpH24745yalNKhyp2jNJrDWbbIjB4ikjxeWBHbtxn24r0PT0ep649tbQ6UkksjHawt
GbxMZJ4UdgOe/apJJK2E22c2VdXvbuTT5prbEcsiLFuSLbt7kbsADAPGck+9O+mmaYJp7pcfLxAP
JCAU287mIJByM457+XlTnFaRadlNta3F24ubeJSIlbedrFuB+Ij0HfiuelybSL5qaYOCCFjKbh6c
58vtmqpKWjNeTt2moXi6YF0y/cw3EebiOQAIFyd2M55GPLntWC41cwxPPPc/XnC7ZGRymMZ2kc+W
O3aqvgttLs1W97LcWbXVvq10r8eErhsZxnhgdoHlzzTjqHUF8S3nZGeRCTKLhw5cDl1YHGR2xj1r
Ohfkw22qoIriWSzkvSR/DkmkZShzndw2D+dX6jrttDNIbaERT4UqGbxF3ffcMH2INa6MX5OOmr6t
dRo087O+0qMvgtz2x3NdS16i1+zcRrLdxwYG9D9eSRgld2ceZ4o6MXLs8iovZdOMHiQxqX3MHkX+
5ptLS1lt5IJJ2S5OSrK/lj7ZNW9UaSV7BFp8rWogN3GnffvO3bzxjOM961HVYIrFbXwd8KshfbIw
Duq4ywz/AO5sceZrLYXtBb6pbxpcC3mdXUA2+ZDlW55yMHI4rLc3uoSu8lxfhmITxE5LyYHBzjHY
+ZpFqw22im3BmwplkRVRiCRx6hRj1NPaNcyia2hjcMTu5/mUenrzjitUTzRov7cWWmRXkbXRSZ9u
Xg2J2PY5POP71mfWNRLZW+l24w2GIyKJJ9mm+PRX+8BcQSCRMYAwqDBIrorrGpXek/KW940aW2I4
4VzuIbORkeXfP5UpJUyJvdGFbzwGt2uIYmMP4o3XAbnzxgmt931DqGrmOyllWWCBMRDw1BA8xnuf
zJq0pbIn4GS5u7aMXNtdxqY1aHwyx3bWB3AZ8iCc4PnWeO6e5WW4u5kMsg2qCg7AYH2/TyrKSWzT
+B7WH5lREJscgGbH0qcZx/grs389nfXe6eVblBGTuhQq0nnliR3ORzziju9D6OGReXt21xZ2jeGi
MHwoVFAGe/bOKsMV2LF2ltZ0hABZxGQobtzxj1Fb7MpGWZooQsZgbxATuDE59uKvgNjJD/GaQSA8
xjAIPHOT5e1LfgqSvZ3INNjksoYdIWS6u5iS20lTF9jnB/T1rNPp98s0OntaTxhowVdFXLg92Jzy
O3c4rPJHRxZgF9DDZXNrLPckrLhFRlCbv9Td89u39afSuoHZxaFwgZAiu2eDnlu+O3Hpj9arVown
TNF4mpRxm2ivIHtnG+MiVAHyfTOQfY1lvTNIwTdHBuRT+DYh2gc+596JIrt6ZotGv7q5trODU4pL
ifK53dgATjkY7CpLNFAVt76Ri0blZI938wPB7cflUaS6QN95qunLp9xEbBVuAoMckUxAA7YK45Pf
zH2rmaZd2Fyz/P30sAEe87YxIXbd+HBI8ufyqJOm2NN0el/6cs7qyNxd34tYpI8wyTR+GjYGTypO
7jHnmscfT2lwCFL/AFmKSKUkxeEpOTjIIYngdu4rKnXtOv4r2Zpk0/RGlgS8+beQDkrhQPQ+p9xX
Im1AwSSO+JAclTjGPIH/AMVU+TMTXHR17K40OS5ih1bV5obSS3MzyIgO2bH4doPP59/aqYLzSRdS
nStUkXwwDDNdEoXYg5wFOFx7k0jB30TS3Zf+7LWyg/eUmrQzhCsqywSZ3FhkKQeQQQe4HnXSjmvt
YljnsZruYjEbAvnIxn8IHbnzzSTtnSKpUuynXfFs9Ks9T1GZjcKfCeCTersdxIZs8dh5e2artCmt
6bdJaQW8V54Y2RfXmRS3cE5UEe5HtntUg9XQkt0+2hbq/wBat1+c1iJ0dFSKNWOTgKRjHocA59qr
vNctXhF27ypHhUFt4eIwxGSeDg/fANa4p9Gb1srs9fJ0q7aG+toHLKkkT/8AddR2KsQaxvJHL4Ml
rbIpY/iSUsc+4HbgZ/Wqo0zPaQ+rXp05h4d5HcocAtAMYyTuHI7/APNcYXUMSOLSZ92cgMe+R6et
IRVWvJJd0B7qa9Qu1wzPtCtvPmPQ1t0ue3tIyLqHxZsFVO8gLxWm/wClGV3bO1pN3H4c7NEzy7Sq
hf5eMHnH+9U3GuEReBcwPHFGmAUQLuOQ3fzI7Zrlx2dFpaFsNWOtPcIA0jsy43HDMDk+gA5575/r
WpbmS4gjV7mQeCx5/Hv4weexHHb0FXjx7Cdka6jtoJdLdUhZ1IJniC7gWHY8kdscVyZbmwJVZ/HY
F1BKcEcYb15JB79s1U30SVUbr6bS3uLOGN9RtlZzsM9yJSB37Ki7c8VouDJfG6tbuBIQpDidkOFP
Yc/l3796Kyrujzl1bfJSzwXlypxhwImDAjBwc/p+tbrSO41PTktJmh8K3heWEQmMSH/8uxPP3Nbc
tWjCjToex0m7sVe7lRNpi3xyk5TfnlVZcgHGf/Fc/WV1adf3lcWHgxSuR4nfc3c59/P9aKab2X8b
SK9M1W2tN0JshdSSEJnxChGeOD25zXcSLTLqB5zaqZ7efZIGZgvly2PLGe2KNNbC2qOfq3ixWdq9
nbxtGGO6TPZv74rG0KX9wi2iRQFgoeMzZJfB7ZHGcHj3pF0RrdHUsrfTkWW91a93xxlURUIdnYgg
g9sYxWqK8mC2kwtppYgrRQNc3BwqnJIABG0d+e3esO30ajUf5LdS11JoHjuLT5gRLhQ1z/ERewA+
rJxjzrjHUuBKlubY4LDh8H7HPp70UPIk1dG+21aK8uDbvPc28XgExkyn6SeDyTgKe3NdLTjp9+EN
h1XDbLbQFpIr2RsHcDkJlME+1Gq8Fi1LRydN1LUZTNHLrNr4YTCiaTafqBY4yO45B/SufJLNap8z
Jbwul2QIX3q4888ZJ8/MVqlZh2X+LeLp80Ci9h2S+GAVPhgrnxMn1HoBWDUNTKzxKY1IAU8ZwRge
RAP6+tVU3RH0MdYn3iNJtkLFWcR8DA/809nf2ly7W900cIZcJKEJJOeBx2J8z7Ur4Jd9iahIobBl
dPq28vuGM8ciurpmu6fZxvDdXUkokj5CIHBxwAM8j8iKjui9SNlt0TBp1tM2ra3aJKquXi8QyAkc
jDKOM9u/eqNY6Wl6fu7S7l8a0sbxFe3v0icxOSAcIT3I88ZrzrI26OrhUbMupw2EVzLANXlu7hH8
NLgPkEgjIbIx5nz/ADrmwwo118pM5dVzkRsueeO2R966VoxQeoRpmmyJaWnzufCDYlKqd+fQZ474
rVZaFqqSxSJ4phYgLcIhYgsucMvJwM98YzT9VsKO9GXU7Q6dcG2fUZHMHEbAMAPPIBAOMmpddRnU
yg1S6crHFtxGiLkjnkKMHv3PPqaJWRqtHOTU0d3W5ed1YZx4hPcc1s0pILkXEsVq0jBNqA5bDcc4
HoAa07iRJssu4vCtHnRpRcJkBDEQNh4JB/Ouek7LaLMWckd/pOM8edRbiWSaZZBJHLKDI8boclix
OQf710JkAga7iubUKh2nCfUR5YwO/wDmatko0aHawX93DDeXscVuELySTNtCj0XP4s/5616Ar0de
2tqNH0hri4kDqkEUbmTIJwX+vAHbz/4rFtuzoqcdnJm6L19pSlxYrHI7b1hS5iAXHrluOPWtVpaa
zpEMstnDDbTA7gZIJDIycjCnbxn7/nWuVxoii47K9E6D6y6vjmbprRbi7QHMnhptUMfIscDODnv5
16OL9n/4xzLDC/TEywJxzdwEdyc48Sr+SK0woSe0cXWembTR9Wk0jqK5TTNQt1UTow3kEqD9IiUq
SM+bV5mXS7ZrtUsLu5uAxIy0IRmPltUtk/pRTfbLLGu0bvD6in1KJ7Gzu2mjjDHwUJbCjGSAOKuX
U7zSri4WR5o5ljGC8ZDqe+Du7f8Amlxel2PdVnnIbx0jGAOCWIOTu9M+XrXpdGtTq1nEqJbxNvYr
iMBmxzjOc9q03TMRt6MeoadeadbC4SCVoSxXxTGTGCPLdjGayQbrj+JdAoOysVIU/byqKWmy1ujq
6V0pqd/GtzEY1jDBFkdwMN+Rz257VuEKWenrPBqNt885C7Rb5kUBzks5I2nz/CeAKy5qTo2otI5u
t6pfz3Pz0c6RuqC2YK5y68/Vz3HPPP6DtgT/APhE3i6gyXW5fpWGZf8A+4AgD+tbTXSM1uzaNelb
Tre1kuJWtkOTbl+HG4kjPkea69leWN5IRZWlrZI0O1jJctujJ7lBu+rAx5Z965v6Np32aNM0TTbj
VIVXUY9RYB8wglcjBG5iDnAOOPtXNu7O1ueoLiwutQj07T2KqzLEzDaP9OASTkDk9+fYFCXlosoq
K0zuX/8A9N7O3eGwt4NTaNVPacSytz3J2hQO5x3B9a4y6ZPeC6ls9HsoogdqRojsVzkYG7J7HOWx
/tV5OrbM8U3UUa7GC303Ka5Y+HA7qzrFGCNg79+Cea09QdT6H4dpcaRbvDA8LIJFVY2DKo2g4J3e
YPHGan7SOjqCvyeY/fF1fWVuNRDzQrMU8QgjPc4LfrW3RIdW1drpdD0mYKwX8JJVQPUnj9a3SSo5
cm2mdS56ZiQRS6zqWpJL4IZlt7NGMZHYFvE+oA8cD9K8ldazdwxvYouItzKHaEB2XyyT2/KkdiWi
Wt7A2nCDZFJMJlc7gc48x3wQcDsM0JJ5LbEseTnuAo4P5fnST3Rm6MUt7DMQfqGe5J4z+VVpIo+v
D88kEf71pWlsnk3aNavKJmeFSsYMjb5Nh2+3r+taZ7y61OZQipCsUefwkrgDue5ye33xR1dlTdUv
JunlFtYC2sb2GaRY/FkYZBIPcYJ7j7VwHucxPNJNgocLE3mcj+mM1Et2JapHonFk1myw2PyszQmS
OSW4BzjGQBwc8+dILyxgsLTT5kfxVkEz7GyQM/8AHOKypPpmteDN1Td2s9037st5Xgt1UtPJu3c8
49AOeOK5lvqMtxHt3LlXDAsRny457jitdLZmT2dPWdQWVoPpwYOMsCp7DjgD0+9bINZfdczSXHys
ONzZLMwbOPI9uft2rF2aTqR52XfNPKkM3jq+clVOSoOeB/WnttQltJpRcRRlHjCgOo45HbzBrona
MXuzq3N6un28mkRXzStcFdoiP0hj3H28qputa+etG063tBCERWuGVR9WOMk/3zWavaNXWjkmPTli
8TdcxTRyiNkEeV7ZznI574Ht3ruaZcabqdq0MGLDU1Zpt7ElZAPfOM8+nlVbbWzMdaM9jq1nHPMm
oW3zBAKbRJgKSeTx3FYXjnHita27szMuShPGQcDGfesQbTpl7M0eoPBE1qyLncVdmG4YPlx5jnmt
VpcRzpKHtmkD/wDa8ItkAZyQO3oeRXR9aIjNZXK21+Lo3j2/GMhSSTjy5rbPqDtdrFd3Ek0fh4DK
xBBIzzkeXY1GgnSLoLODU3k1X55IbdHEGyWT61+ng8+pzVhu7qLT/ldTi8SBQTbsHRimT5dzg59v
Oo3eixjXuMNrqOpabB4kVwIZZHaHwskNjHJIPlzjPrWZp7iZdsjRAQ8qjZPOecAZ5+/FVUuiPaOi
3Ud09lJY2dgkcbFWcQswHbBJHYZrmyJJlpJJdo2gqO5zj9DUbSY70abe6hlaAXqRfLhNq7Xwdx8j
9z39qbVbO0ttSNrbTAxnOzwyGHvwCarlXQq1Rmu5RHEtlbBpEIDTBowrB/QHk45rPLeR6dbgKN0r
rgBsMBng1OV6+TLVHttM6m6T1iztrZtRG502LZfM7WYsqnGdu4kEngnjP5l73TXu7OHTZ9GFvPAJ
DGs8uyRI88MFGCwOT+IngcV5Y5FR6GrZpt7Fum2s9bvVilhszhle2aLxBjkZHAOPOupY9YdEPf3G
qXnQtkInXMDpsZ3J/EWycA98Ec0alP8AV0WSimrPK3UOkdTdRbUsLqyiMe5Vjjab6gSQSTyTyB+V
a59GuYC7Txas/wBR2u0RUbR2zx5/8VZXdMzGKS0La2F6UXU5dDu7hgQkaTwiTeD3baynjHnVE+h6
vc3iahZdNojR/QBFEqefmq455x2zVi3WmVqu0fQbe0ttQsrODVraSMpGkfhTxkLFsXAwNnYdgR+t
XR6do+nwvFbfutWkBUqLPe57jK5Ule55BH9KmzWvA37rAgLGSdwBwiW0xP5ZIFY7yaO0WC3sdKt4
yGDySTWLSlx6YkJUHy4rnDBCD9qo6PLOSps22vUiPC1vddE6FcTq7bZUsIoSoPG1gBgn+tca5sOn
Ln6xZm3ac7WWydIovfiReCPaukaiYlFSORrnTehyfVaajOkgAXcSr49fTOB510tE0rpPSbcwzTXz
3DSeEZyiEhsZ+n6vpz+vlWuVqiKLTsTUNN6ZluHkS8upJEkSN4vCJwTgcBSScdyRke9dO4sbvTlF
radTpbxELtSO2LSBAckBmbAzkeVLVpM3Lk10e66b6ytNE0901KeS7TeG8ZDEpUbRwVBAHI8vWunY
fFrQNRvbmwsbK8k+XiWUSuFRJAcZUZOdwz2qcl8j8cqs/L2szSza1fyrI67rqU7WPK/Ufy86HSV5
BF1NYS3s7RwiYF3UZIX7etejtaOS8We9vevv3dqdxHpcMvgq2yOQS+GzJxgkbSRnvjPnRh1LS9ft
jPqdm7OLh8Y+s4IGOTjd/tXlhj4y5eT0TdwpmtulfhqsEl3Jb6mZyRsijbac+xGVA+5rr9CdMaDB
Ml1aafI6xllWO6Kylc4ywIUc+Xau05NROGPGuR67UNNW4vka704Nax42GTdjOOQRnBGQveuYbXQS
ksF3YWvgwM/y6PGuyNjnLLwcHz4rhGdrTO04Utng9Wtbq76kuZNLt7ZbULGluNy7ZCFBOFI55J8h
964xk1jStUn36THcs0YzDGq7RxgceWfPzzXXTZxap7OppSXOsX8dhqPTkWnrKh3O9oT4a84IzyfO
urc/CJJnRbLVGVGHea1lA/I4rEpuD+jUYKSss/8AobcTxi4bUVaCM5llEDDGD5Z4H5+3eub1H0Bb
WNrHc6p1NPEkDCG2c2ZKg4BADZAzj+3tT8/wg8Pyzzw0QXer29toXUweSTInnvLlLcJjHmW5HsCT
X1OHoXpO16ckXqj4im/hQBpobSeMZZiuPJmIB/5rcpN1okMfK7ejy15oHT8GpjTui7q6uC7HfNMy
+AgAOf4gH8Q8eS4989+Z1CuodKrC0sKyNO2d0BJUgerYHNc5Rk3XydlNY1rwY9RWa6tTqNpnUI41
IkELbzH5jcF/OvL6lrtuyPDDEmZVKkPGv0E+YyOD9q6404o5ZZJuxLFP3ctnNfP4cE8iuHA3dl8h
nGRnz9a7E3UCR2qfuu7uZgZy7JIQEdAv05UYIO7PHbgV1kzivacptcvLuaJ5oZYzGngqfGIBQc7c
dgPtxVt29lPYLDpenyyyh9p8TJfbjJYkHA9Me2az5HZy7SMLJOVtVBVcZdu3f18+KqtvmLosturg
hTgKeMeeavJdtmK8DNaTq4guQY3R8FAuSD2wRxXY1HXZ5bL93tZWyXED7BIbb68A/hOSe32qWjUd
HMvru4vrk+FGsRJyyZ2KOOcAnAHFV6ZdX1rfCVZ5o442UymKTDbdw7ZPOK0mqI7u0btPt72/1aK8
tLa7u41O6ZooWJ5PIbAOe/PrXei0dbq4ma66Z+WijmRSzW1w2VIOSSSSAMZ5rDmlqzcYt+DLqtxo
s+pF7QN4NtF9AKHax9B54Pqay6bLZTTTaxqizxPHnwWgCgF8HOQ3cfnUUn2g1bOJc3dxdTyXc2ov
JLL9Lq/JIHvnntT20MAubV498S5HiMDnz5ZQfbyz5V0UjNWei1yVLuEtJqTyAzFgcsBgDGTkkE4A
GazaNcy2VyHDW8sWxt2Txj14FcHLZtrdsqvNYsEujerp4jkd9zqC0ZKexGBzzg4rBcXPzdxO1nYn
wY18UgMW2rxk5PP51ab2zD93RTbXFoHlNxbzbiqm3kySyuCD6gY7jnPfzq7V21PS7qV5bS4t7e42
SoMEKTjJ59ATXS+kTaOdZIrslzcIwe4kZVjYFUI/1A+x4rpXC6ckFotvfRKiq3zBk3Ebgc87RkA9
gMVXLeglqxY7vRLmcxW+m/JESANcR75FC9jnLdifbPFNLdXMYubWKYRsP4bOrhgPzHce4rlO002a
Wto5k+n6jDbLNPFsicAqQysWHYnAORyDVK6ndafA1rCY2JbcGKAsvBBGT2rupKWkY3HY8cxtgBJt
dmXeBjdjPIrpWFxaNB4kxQSZGfFbarDOMHHIrL7tBLZ07vTtb8F1ihtPDZh/EjnjYYycfVnAx7nN
YNP6n1Eadc6Yl8I7eP6xGWCqzEqOQOGP0g59qVaN3TTKdNt+obmVbmztTdBzhCqbwSOeBjjyrX09
1LcaHf3st7aiaQSkyRlvDlTyJHGR6GlLpGdvs5+odWabfTy3kGk/LyGf8EchEJTHA2HJDZBP4scn
iuhBY2euW8N9b3BTZl7oNuCRrznOE4JwAME9/ao047KmpaMF3c6Na2qSKrq77pI4g5I4yFOe4PHn
QuOqLq/jR7HTxAIkUSOqtJnHYsWz9WMcjFKclsai9A6fu7rU9VVpNPhuFEbAhyypnBxlsg5z71Vr
+j39lLFO9r4PjLuSPk7RnPf2B+9XUWjP7Kz8+6Nq82nXgmjcnwxuDOAcDHlmvbXvXK66z6tq2uLA
Ft2h8O1QrMMnIYluG55OTnjvyK8ji7tHVGSX4gaxrmhTxya1qUaQzpIkborLKxXaS0hO7ug4wR3r
6F8J+q9W6q6gsNA6s1u1sbELI8E0VnEPFdQxySUI4HmcYBHIIFYneOLo6QSnKn5Pvd71b0V05pt9
DL1JEt0BJHFuwrl4x9RQKcHJYDJB5HFc9db1iSxMSLLaX80SS2i3tz4RlTJJY5ZQBgHyrOCTy7kj
pKXFUjfY3t03TF/rurahbzQQNsEltctJGF80Yk8nJAwOOalhrFveaZBqGlabHch1YqfE8M88fizg
FTn/AM12rgrbJy/I6XZwurrfqXUNFkhsHBlaQNJEkrF2UejE8n7YrTpmralF0/bWWsWFvFc28S73
e5ZZdnI3kAEHjHn5VqMotKmZlGSk7WjYnVNnFEslnrE8hDGNk5APow+r7Z/Otov9PvkEh3TzFRwZ
icf19asvbslOTpCoYzZyC5LWaBXLADcSApKncct3xxmsCW1qWjuoXnMcbYCNFJ4b49ew+o+vtXNy
cna6OkfYqZRcFZ51d7W5s2lU7UgZYlxyeRhs8Y866EMVjMt9CnUV14+lzxTSl3Rld2UlcZwGYEY5
8zinigpuJ5abr/pIWnzgnu570l90T2sSKwwSMle2TjnvXkrn4gaxcBUhnmtI1BURwTMFwSe4zyee
9aWJNe5GJ55NVFnc074nwjS0sdUs5LmSFdvieIP4gB43ZBx5dvSurbfE7p7wY4pbS7gKMp224i25
z3BwD/b7+dFDjpB5eXZ46+lnnvp7kQyFJZXdWYfiyeDzWfTJJ7HUobxokAjfcBOgKt7bSPq+2K9U
ejj8M6d1fPNO7ygAlvqwmB+gxivcdJW8EuhtM8ZaUXJwA+OPo8s+hNcZNx6PSlaPT6taRz6c+m6c
+JxIrKjzHA45z+ten0nqCPTorK2mtWl8C1SORzOdu4AA8E89vMceXnXNvnEkVxbs6MmvaTeWf8G8
tPHYk+GHIfPkBnBH6eX518317Ury3txPp+jT3CTMROUtzxjyPHPc1iMLNNpbY2g6Fq3VDvawx6hD
DH9bwxOkEhJx2LDIByOwwa6v7guummmt7Oyv49h/iKGMjsSM5Zl47/2PpXX6OTVM860mqXeovcR2
dxbywqTG3huJCQCc89ufT1NdbQ9V1636Ymlu7m7hnlWE72eTcWfAY4J78ngAVmXwemMVxR5XX+pN
d0rNhpeu3ty+1mVX3/iYclRuPv8A1zmubc9Pda6+IGnRY3KKuzOxQdoyxJ4yQMn3JHtXSoVbPNkc
ps9dpPRuladoKPq/U2kWbxuTO95p8sgVicAhgp75AHH8tV9WdM6bPaWw0bWNO1SKWRZZHsLTw/Bi
Loq5ZgDzu8gfcVl5KfWiqGj0g0zpQJc79QntILRzbPKZdu08fRk9yQcYx65rwmg6tqet2EukWHzT
z3MnhbGjyI1ckBi4wFHHf1rOPJJq5FkqaSN1poPxf6dRodE0e2Bk2qJHe3LE98YLfcfavm2t6Trt
rqEh1oL880zxyxB97q42nLEZBzuHYnsc4rpDLB/q9nOcZpbRpvtV1eeLTRLaGNrAjwgkW3P4cH3P
016+bUeieoryOXUOnZ7GWYKryw3nhqrAYDYKY74JHn61vxswt9nk7az1vWb2a7tbaWR5OchTgfb9
K0XJ1jSpblVD2kyReKyFSGYehz3x3/KsOKux1sBm6ovbNQjMtolt4ki7lUOjnG7b3bnjgVRb2N/8
tDpUTTQeJM02ZkKIPpALepwB/wCKNqqK7megsbZdHjW7u7mG+hgd1jeMgnxBhjlWHfbnBPHeuFqc
t5qWsvNb231XDEosaY35OQAoHb+nFIvkg1So369bXehQ2Ol3lpBEzu00p8L+Ix4H1NnJAGRxjzrv
WVhoV70oNJtNCSbXpWkMLqkpdo+Tv2g8naO31AcmubmooqjcqYvTdh8RtOiuNCs+mtQhtrMNf3hW
3KPHBwGYs2Nq/QORyMe1c/Wj1vNPPda1c31v+8f48MHiP4Lq3YJjgqF/LkVisfK32dFPJx4rpGTT
9B1LUZIrO0d3vC6KsYjY4Tscgc8dz719D+Jhm0fp2SwjsbeO7bZHJ/8Aw1bcofPaSuBwPJs8/eq5
R8GYUu/g+WQ6DqSWkWrzx25iZ2ikHjx+KCvbcgO7HvjHvXrdAsYUjguLW8cvbIwAmQgxgg7kADY2
HceTz9vPMsqXTLhinL3FPUunSg2yxeACPE8WVZCUK5G0YJyPP/evL6rpEslmksbRwbJGE7KfxggY
x5Ht29644syeSxmh720Lq3TzWaLMt015DFGgaQwlAmfwqc4zx6VzLGS+sxObS7lhgmjMU/hkjKZ4
DeWDXsc7s4tcWZ2jvNTu2ttNspJmc5EcSElV9gPIV6Fukda1SwkNjpeq3T2I/wDVNNGV8L6QcAZ9
P1ra0thK2cO+0rVLSKGXULWe1hkDJFIRjOO45+9YLdLvUbI6fbQbpWk8gSzADhQBz5MT+XpWovX8
Eaa7Nc/SuvwwtcW0N3eNAQJ/BglPhZGQTle2KOk3liLd7a91e6t5N+6ELFvwffnz4qyqgqtWWPqe
qWV5JZvA8eED+GwK5JHcA/etcP8A01daWHOkn5yKTEpMxAceuT29MAVzpwSo0km+LONZvZXF5IHg
MSH6VJclVyeP0zVJmYTNFLFu8NgpIH6YHc1YXb5Mzo9LZ65OmlW0oto9k0vy05EuZQvkNnBxjt3r
zqXlxHPcxRWUJikQooeFCQM9+eQfsa0qT7I3pG/UIbjSILW3k1O2vEuEEwW0aQ+HzjDBlXDfb9ar
aWO3uFi1cSRyT7cSCPdIFI8gSAR271Uk+i3SpnO1PTIbNZJhcoRHP4Sx4xIcZyWB/Dj0rdGt9o+l
wyPFbSxao2YP4qSPx3+hSSuc45A9qqdoOPCSK7IWeqXyWt7GqHO4kcfSPI+nGftV8X7zt9OvNJto
VELTGV9h3AcfTjzwOealuqZat8kZOmeo+otChuptFvZ4oJGCTlAGUnnGQQR61s1LRuoXRLxNMuFR
sIWjJl+vt5Zx9qS/azCuqPzQGjBaOJxsIwdxqyERRBJ1WOYDIZXJwf0NcDqhJbqVnCBmDcqF29hn
PHtWywvb+yT5r5gr4Z2gb9rEnPbz/OjVqmDT85cXjmeO5Z24Ufy5Pvk9vf3r9HfCfUtH+IGhxdO6
pNqPzWjRfSxmLKyOeTkjjyAB9yM84iSiajtOJ9Ksui9Kg0q40dXvJLadtzRtcAJxjB27e+RnPeul
pOhRaNZpYaVLKiJwAzhhyef5a5z9ypm8b/G7RuutEvZgD84UcqBkRg447jJxmvLSfCu4urueay6q
uFeRSJhLErsS3fOG4BwP0rWNcBlk57OJr/w11bp6z8eDUn1CUt9MKW5DYyMngmqbPVdR0TQJhe28
6XXijZHKSMqceXp3/SvRXJHNSrs2v1BcmBXMSu4POXBUk5PYk8fSawTSajqFvLeXmoQQW8Y7PJtG
T2UDk55HlSKjBUhKTk7Y+v8AWOif9Ira22rSHW1kSDwEUMgjCgFhJnHljAB796+eTazeKzMblssx
LDuGz5EdiK5wg1+xrJkUmuPg58tyNmSBg99vaq/mGyuGY59Oa9CWjgK0rCRo95PODWuCdkuFYRq+
z+QjI/OjQ8ndTXStrsghgSSMcnJJbPHmT2z5elei6biXedTNnb3W6ECJSy5DAclg3sDXNypHTtl/
Tuva/qeuPpD2/iyTsPCRI8+CAOQowcjYM4wewI9a9xptjpS6jLY3+pWZvomUmOSKXIGckj6OOcDy
rhktaR3xO42+z6bo8sWhNLcadGkckzzOzQgBnCgYBLHn+nAHtXVfqea1hmeK4tZDK3i/UB9Ttjtx
x9q86k10dOKfZG6ol0+SX/0tk8c00hZyGLq+0bQAF8zgd/OuNrWoxJbSTGzLObiBt0kshGWVmzsY
7RyMccVVNt7JwSWjq6PqlzLrlp85fo7z2pcg27I8m0vklmY9sr5elcfqfV9Su4J9G03VPBmS6uPE
Cfwwi7h4ZYqTzjdz3+1ex1RwjfI8gbXWNOsbgOZJp5FcG4RvEcM2cOM5J5I4x5fnXJmsdZmgig1i
6kYoB/EMYQyHOffnj1HFcXBPaOym+WxtG6WhUT6mYbuSC1dYpZprkKzbgNqKxBzgjPA88V0Z9Q1W
G3mbSbJb9mgAjiYtI0gC99ylcd/IVmTbaUjcOMU2cXry/wCrNeWTTtP+HGpW6PBEDst5XBcEFiOC
cdxXP0yBINUjs9Q6NvNNtILMS5ksGUtNjlCZONu4kAk54/Ku0YqCpM88p8pdC/8ASl0kL6ve6Bqd
94isyJZWhZEO0bQTt4Gcc8n719Y+AVn0Nr+i6lpuuWK6dHtE15807BpZF/AmxjyFbeQByefOo5Jr
XgqjXZ7nrHQ59J0ubqmHVdMj0dGR/EgLSqHUhCd7YO7IOST3zxXwHqrqjpc9Q6RqdzZM1ruZnC4j
8cZ5LEDufy4z28pCn0iyVbZ6DWPiV0DoQj03pXpqz1ZjPJHLNKA67izDK5JJHCkHtg+5rxGmdIX/
AFFY6nq0Wo2RNoBu8efBiJzglRgt24/3qTlwpzJxc5cYm3SOhdR01zf3evltRGJI5IhKqgZyCMp7
favUWvwJ6u1DULPXtV1bR9Vl1aIytFdLdOXVo1wW2Ybd9XYHjHn2rGT1GOElaNLBOSo9BH8FJ7YF
T0t0qZ7cAfTLqI44O0iVyCMeRGMiud1Z0XrfSmj6pqsvTPS8dksUcS2xnlMyrube0SKACx3AYYkD
YPesLMpT29HT8Mo+P7nzTp/p6LqjWTpliTp9rK73Ra4JKwx4zgkcnAHcYzj9Puui/Bf4a2mnSX0X
VF081om2WeQoFjYRlmwGjJVT+ZA4zzW5S/pvZyhhaj+V/rdHzvRekoPjTbt8jJa2d3o4FrLHczuF
ZC5ZTGMNtGS2V4HPvW7U9P6e+G+ep+m+vLG91LQYHgsh8woaKYiVShRg+4jdwM45PIxXjm8spcYt
V8fyVR/+StGHoO2+JPWOhalq95Fqmo2upWclktxEQ5EqggB8HOApfIOCeMVd/wBK/EC+ki6bvdN1
G7k0a1KReODDHDCrfxEV32jcGI+nJP6VM+PjFqKqvJqM5ZF82d/oC86k6d6j/f3/AE5rUdwo+WtZ
I7TxYX8UEM8r+SjjkZ9fLnV1T0i3V62fSw1WfRvlHdGe4a58JsHCgthogpySpGDyQc8Vyw+nWCMf
yK5fP/n8msd/jcLo+eax8OtRs9QbTunGutSsrZR411HGdhuACXRQwUkA4w2ORyM12eg/h3p1zpmo
X/Vepz2WoQSxwQ2BjVzMHzh8Ejj8+9ehbtV3/wAnL8LjPfQfinpNtDpumWNhqUN1HB/CCR2SQsEB
I3PIp+rLkj6snI44FcLprStBg6j0e36lkigsluYpL1PD8VpYA67xt4OCqsCRk+3aumJcoNpf8Gsu
Nxlx+j65qGtfA/VNOk+f6RiWSOSODEVrJGjRKjYY7LkBsbIwMnjPnzjyt3H+za+ojSodFmVbq1WX
cnzIHiBN2z/vn+bI7Y47+dE8kPHZqUMV7ZVZat8B+j7GXqbS9IuINSjeeC3RHMgmCqMbtxcAsxwM
8/SSMcV5rr/V+hNb0kR9PaG1jqcaLdRTQwpFAUfaNj4QOz9gBjAz3711UcrlbYvFjVLs+b9W61eQ
tZaNqIuVuI4fGeCWExPCSoyuCoJPB7j9a5MHVa2TRSWkt5atC5dGWTEkeRjhu3rjjzr0JUzy3b2d
bX/iP1Fr7fNy63fCUwiJ8TlgyKTtB5z5nvnvXC0G3iu7hEgtxNOPrZcj8Pn37fcc0l7VoTfJpHo5
bK7v0v8ASdDMXhzBJHGoMxnibyCuoww+nPIB5xgefl5LLWrQyrclWQyNbM8A+kyKPqU9jnGO4qxk
mthxZ1J7npSPRbe1v7jUbWa3UIQsImdpDktwzKFXOOOTz713h0zY32hxX9rezW0bQhjG1jCzysF7
B1YEE8E8HGec0l8sRinryczovp7V+ovmodKvYLeS0ZHHjzbcnnBGAeRj+1bP+kdEjje51h9TS6k3
yMIBhU2ttbkg5zyc+eR96J0SEOSp9HLaS70nWmbTraa5S1fcu628SPaVHBJGOQeeK72nWPTPWNvL
qd/b2em6jYS5aBJkiE4I4IEjBRg9wABx71pyfaKkuVeDzcVv09d2V/FrN7c2d8JM7Y2EiSNk/UB5
8nyPn6V5t4vCkjkhvJN8B/hIy5PtjyoptGZRT2dPS7uXVLB7K0iiS4tY2/iyZJIYnPl38sn1qi9u
Nct7FotReZbeQ/XsbjHH5eQq9OhdrRRbXi2Mfy2k6m8cdztkmRwPxLnAz5jk/fNeb6k+IHU97c/J
T6jIiwSfw1h+g/TwpOO/YVibtWag66PnMcUSx+MEiXwwMLJgKW44z3yRn8/MVgg1PapgS3jUl8g+
EvYe/nWVtAW6XO2dSqsMAgfb2/OrFeFlUSbRuHP3qeAdbRry10+VZTArFG3BWBIJ9Cc5HGe3tX0r
or4p6J0xpzodPmW9LBFkWRuY852nbjOD6iuOSMm9OjUZcfB7jRPjBfy6Xf6g0oea4uv/AEyMT/Di
PljsexqyP4w6580cBRAGJRTyQuMAE+eO9XHhn22HmWkkaLb4waul6s9w5MIiZdiYByQPbjlc/mam
g/EHqS/63FzYXggfUJgPDYjYQF2qpzxgCunBx7Ip8mlWz2nVt717f6RKsWnNvVgJrqKdFRVHJAOR
j0+3nXyqLXr9dTa41cSXhw67ZJMjdtIDA4PAJB49O4zmukG2t+CSpS0ez6ftdT1yyYSaekUZOQRH
JuII7j68ngnvxW28+HmhzIj3Nzq0I8/pXB/UV5snqeEtbPfh9A8sFKUqfwYT8Len1bcur6hnP0lr
dDgf/uqqT4W6NKp3dQ3wfH/+ih/r4orP+N3tHT/2mXakihvhVpLfwx1Vdhu4U6cvI/8A+1Z734VK
q40zqAzzD+Sa18EH8w7f2rovXRumjD/9LyVfJHitc0i/0S/e2vrcxFzuTkEMM4yCKWCTG9VUEtkn
PpXscuUVJHzJRcJOL7Rb4o2rsQjJ5JPevW6f19qFh0wvTlg7QRSeItyAARMrHzPBB5x3IxisNWip
0crQNVvdP12C/spEjmhYyKZCwUcEffzrtr1HqEesT9Qx3MyXUgYSESEAKy49ckex/wDFSSUmVSdH
Rj+JnUtkxMOoNKrW5gHijdtypG7nu3Pf2r3vRPXPVN5p9vYTWLTRBQGupZVj+kdtuApOOB39a8mZ
QxrZ7PTRyeonwirOnrmsTXO0MLiNBdeKjb3Ylsggck+a+X5VXeTa8xuNUvLa7EQMSMGhcIu3hOce
jfnketeeOR6fg9+X0uLGqlL3Hida6o6n6i6iF1bWEtugBtY44YZGQJn/ALeB3ye/rXrum9Q1LTb6
yutX6h0JIpZEM0JjmMmTyVJKlRwxBOe5PNemc1wp7f0fNxK5X4PV3HXfSshk8SbRERlG1JVlUglu
Qx4H4SBx5+1E9R9GC2lvlt9Kkt4RJK7Q3rAiPIVGwG/1kKfvx6V5OOeO7Z6uWK9/9Tpa5c9MwdFa
xqE9rHby6ciNgTtKu8hcAHPP1Ej9O3ld8FbfVLXTJ+oNUhWKz1CK2FmVVwhA379zEcc7PP1rcJzl
CVvaJOMIzS8NHtNVu76PWjNpOvSPC0TApLpysgzHj6GKkkq+05JwQWGPM+Aventav7+z0n992pfx
BJHLcROjo5PfcTwMk/h9+OBW+TcaumSHGM7as5uuz9R9M6lN03H1AuyzKpGk5MayyLk/w1w2V+nI
Y4yDnFeLh1u9utSddQFtEsTAkyOjb2O7ktIyjy/+amDEpS5Wej1Ob8eFxUO132e16m+J2kyfC/8A
+mqQl55bZboTRbSgPzeQgCFhnGTkHHpXhNHXRb20XTtWsHmWBQIzvZVV27gbCCX448geeR39GNOK
a+zwe2TS+j6h8NfhL0v1VpcmpLO2mbbpoooZLdwrlMOQ8nfZggYBDd/TNfUdLg0noqDULbSLzQAq
MHu5BOoMe1QFPEYCAKPIDPJ968+TPyfFHRYuH7I8N1D8XIddhvri91TSNRhvNGLWRhh3LbMpwDh+
TJsEjY4wSD5ZrN0s+s9D9PaXqHQ/Ul3rd9ds/i313vAgg+nw8Rs7qAQSuMHO0epxzknJKK/3Nc1D
3Lr4+T6R0x13quvaVpsJ6XW61fT8JqPgXlvFlTN/DmCOx3LhH3NgZLNtOQceC+NmvW/VEWn6fpuq
2iWbM6Xby3MSRrMFP0Bl+k8p3zngDNcU8j9RFy/T/wCjvilB4JWvcv8Ak8501bdL9Oa6s+p9RdLT
XM9igtbRNQVEaRyozISjKAULYweTjjHI9r1w8dhFq2nRroNn8xahYUuriMFyT9fiKqg42gYIbntj
mvbNRlvyeSLk1w8d0fka76s1LSOp75tE1BbQwzyKi2cjohBPIHZsc8Z5r6d8M9M1Dpq6n13W+nr2
21G+jc2Es0DMHkwSW+rJHbkn15xzW4Yo4/d8nnlyl7UbfjJ8Wn0bpV9E0WSZbjXb1w08iPHIlrGi
7gFIGCzuwz3wpHnXh+sPj4+s9A2WgW9ui3jWaW086qqnCnaR27sqjJ/9xro4ctFWRw/lI63QnxQ0
9+gk0FtKvp9Vs7aSSORYfGAUONjHnju/PGAoHpSRfHDSms5bHqLpcQeBcRQu9vK/iOobLsYydpO0
Y9MnjFR4k22ajmcYqhND+M83VHVb6VpfSdpYWUrM8KW6sXh2xsA58txOOQB3Irj6tqGnX/V9zD1f
d6jp0EUKpbFRxuUe4zhjk5x+ted4+OWl5Vnb8nPHe6swat1lrdrYw6FpNxLNBfxQ/OQCH8UgwQrH
kscjk8c+QzitHUVxd2+k290RtvpVELBGLMByCAB65xz6mvXxUU+Pk87yOT34NOp6h1PovTkNpcaZ
YILeMeB4agupJG4Nsbhuc4IPnXh9KMFxdQXNzq9xZLEkzTrC4jljAXP07iM53YxnOM8VUl2yTS0l
o9vB8Kr270bWJtV6kn0/T9JT52KHUG8NowQTuZRu78jjkn0r3sHx/wCodB0DTenX0bTruKTTozHJ
bsu2WIrtDFycgnHIxnPueMSm5KjWOCVSf/nR8Ut5dU1rqqTWoFSO4gZzKfEDRJCwKbACcngkdyce
XFPN8KOsdVt/3loOnx3dtuZBKtwgDbe/DEdsH9K6rVGGuTb82ed0PQtWu5J54Li3iFm22VZX/EQe
wA4IzXoum7e80/UZtZ1XpXVZdNkRlEtkhgXaP5lkZGXsM+talVHJRa2ed1rVtMuL17zRFuIrWMqf
/UOryI2ewIxkcelU6Brk9tNPBKgnhnffIduTGScbx781FH20w5btHptQ0Sxvi0EOoM1wqgw+IhXx
PXnke3fjiieqtW0GKO3vFiaUSfVbiLDCLAwcg47kgDHl9qlclSOlcdnV/fUGj6Hcano1pcWGqTMj
fLvGribOTnBB4GTwMH+tczTPiNqGk9PzWWoESXzOxRpoQXXLZJyfLkjB/LtWFHkn8muXFoOlfEGH
qC/g0/V9HyFjZTdWrES5GTnb+EjyPGffyru650BoV/pMl90RrL6jqayb3tnmG7aTydpA4GRW1Fx7
Znk5dnA6y/eXSmkQx6rYWccrRIFMcagGTHfcBkH1FfLW1/qCeaOY6jIy25/hr4mRHnsFHpx6Vzq3
30anVKlWj03TvUPTe4p1bZao0qvuMlvMhVhzn6WHPl/NWyx6j0See+sNI0yORbhtlu966gxgnsSc
J69+2e5rX5X0cqrZ4jV760vrsxJcm3ESFcAExl8+oziuO7FY/DtmT6hyV5LfnWG77NJM8ct0SQsk
auCGGDyBkentVYuHlZpSy5YkHAwOPLFdKIW/wmiUb8nPY0oVM7t4B7nJyDUQCspGHBJz5dq22c5E
oZ1IU8EL6VJIp9DsnlWxtz4TKjLwO/FbIxOzBwje+Tiu8a4pnLyWi5JYZUlh2Oc16PpLp3XtV1+x
htLNwZLmNTJLlI0yw5du4HPJqTaitmoJuSSP0z098OfEnEvUVvp2pIoVIooZdsaqvfcn8/ccmp1l
0vpmmW8dxJoOnxW0RLBPDLiTaQRhWztAAAwfTt5V4IZm5VZ6pwpWz0vQWs6dqenKq6Wb6cxgssjI
NmDgkbvXI4wBwfznX9xY2a2MsGnJYT3EjWsEUpjEUzuRgsVOQQAcH3o1CMqLcmk0cOH9z6femDqW
xlbU0gjjn8FUKBVJaMAMSPwtzg85rCeoel7K7jtb1rDFw4FuJreNSVAOcnYQTyv+dzjz2bjNxpJn
iviLe6Iscmr6ZqUFrc2SRxS28QVS24HC42DBzz+vavGab1jeSyR61LaWkgW4JlC2/wBCA7QDwB5Z
wM9xmukMacbZl5pp1eji/Eq7k1W506/GGM1vklF2jLOTgDJx9smvOi2KIwDfxSeQGGACa9N1FI8k
v2AYbpmEezdGG4IIxivU2un6fHYLILgEMhkJT6WDZPHHnwKzKUUhSZwr2K8hud7ztI0ox9THPsO/
NaCtyU2r9Kj8ZY8fbmp+RUmSmel6G0a7vNat9Sm0e8vNPiWYOEgdozL4TeGNwBAO8pya9RqGk618
4o1vUpbMv9UcFuN21OMEkMCCeTzXlzuLdtWfQ9HzmvxwlVnIh63NhruotqlzfNbCFoEEMqLJleEb
LKwz3JwBnJ5Ga+onrCa+6XXRn1DUEguPCZppIVklk28jksvf6c//AI+XNebLgqNRWmenHL/FKUZz
3/B8x656hMFpZWNh1DdXEQmed0aLwwh4GeHbcccZ4/rVx1K0t0ttEbWpZne3abc6FQME5GCTwVUc
eorpgxrDiUUjyfh4ylFSuq/ucfRvinrHTq6nb6VfTRC7VYyVkIUqD+Igd2wTzWLqP4idT9SafDou
paxdXEJn8VUkkLgsRjP9f612WFqds4/mk48T610hcaIvTel2mpaRq1xJC5eUyLHPGZBkKVBdMBcM
BkHv3r6DY/GKJ7+2s7vU9UmClc2s8CMWyvAI8Q4wSD+XnUuMNLyd3Lk7kdu8+LXS9/a+F+8r2xnk
QFZl04uyKexAIYeXmDXndG1roiCa5u4uvdTvLucby11p0srAgHB+pMcAduBxVatCLV0mfIeuOvNK
u9ftNWu+or7UjaXjkmaMJIYtoG0IG2xjk4AHmc47VVZa3HrfUcs8VpIIYbhZTEknhFVCOqjI4Hfn
17ZrotK0jnKbb4vo4WqapqK9RWs+p6lHGBatEz7hjYN2AQp7n2PfmvtvQ0+lv0pbdQadramaGeOV
7S0slmeEuzKRsGX5RVAbB/FjGeaxL2oQ/ZnG62+Jtz0/cjS9NstRkguZ5pbm0u7JrdjFKAjbFIBI
IBGG4xkeZryV313oV1od90tpvTYs4riPElxbTlJ53UNt8QtkEYY8Y45ryyg0rgq+b/0Ojz297OF0
7f2fR0ctzrnS8966xlrVbktDErkdyCPrBHcZGR7GvQaJ8ftXi6HPSeoaTpVzFZyNLaysZFuYm3eI
mGU4Cq2Dt7HAGMV6eKls4qfHR53T+uOqOnL+frHS9YW4klOy/lkG9JC53bSDwTlSfy9DXN6n+OfU
+tW11pK/IpY3aKGjitEVY/qZ/o4+glpCxIwSQOauLGpOktGfyNKmfR/gVrXTEOgW8PUeiw6o31l1
ntbZ1JZiR9TRF2AXb/P6jyxXO+NOj9TdT9TJrr9VxDRNyRRRXVz4RgLYBGMbAOO4P4R24qzgnO5d
Lo3GVQqHbOXHb6RoHScl10/Fp1xrNvKpGpyunhkBi5GWJXd+DBHJAHPPPK074prbaTCmqmAXNpIz
wR28exVDBslSMBPxN277jWuLaMqSh4M3xD0u26rjsZej0e8uYYo2uRDEyrGHRSE9Mhg+SAM4zk54
6ll8PejxpMEWqaReG8SJfHcGRQXwNxHOK0p0kkTipybfR86N7qEGvX9j0ha3YLIbcxwgyuY+z9hn
BJP5Vh6lL2E1pataXVrcJFmdJv8AUWbG0YBA2he+TnPPNdYw3bOTfaXSH6f1nW9FuV1fp/VZ7DUF
BTxYX2nYc5yR+XH/ABXp9K6pGt6g3/Xmq6nqzyBI/pYeKSpXYVZgRnjB4yfXk1mWnfk1BtKvB2Pi
Rr2kJqlvqXS9o1gYECyJcZE4nB3HOBwQGXtXnNJ6p1vWdU8dx480DrN+LOSGGODyfIcVxWNtObZX
+1Lyehf4m3D3k9rqpjt5VVTHM6u7RPvJ3FSfqwrcDgZrgdOatH/1B+/b820kgnaWYXiqwlQ/6RgD
djnsPKusaxq0WTeR8Ojh/Ev4gydX9UareaK01rpl40axQSybiVRQMn88nHbmuT07dzQXUJuJpJYR
HtwGyO5OPYfb1rFa+xOW6R7Z9d6Ytory403TL+zllTCML3cC+Dyw2c8nOBgcDjzr1mhdSz6T0rp6
Ai5lSNtwjkX6i8h2r3z/ADj/AAZrMnzVSOuJq78I8r0L1snw+6j1T/qDSre8SeJibObbIPF3qVJZ
c9lLcZ57V0tX+Leoa1r+mDRPB0nT4LA6d8tGMQfUCGbbhsA/T64AFdk7lRw5KCb8/wD4eK1fQ7PR
LrwNR1mwu45fqM1lIZFB5wvIXnj7c96ostKSaMvbTqgADb2yAG8l963z5aRy4u6Z7+21fVNY1u0n
1LV55WgiMYaW5knJ88MD2BOe1cnqTVtAvkaa3SGW5Scx5RGXAyfX/OaKlGkdNrsrsdbjsLNYvlY5
Zlm8RJZFV2CbAu0ZBx2rTqMNprSRSW+jpNOE2sykKQOO4PHryPU1yjkXI3FKii2hh6NuBq7RzZ2M
ghfG05HqDkVwNe6xbV72F7e2j0yKAfUtqzDJOMtknJ9hXRV+xlx4a+Tnar17qF2nganHb36RI4tx
MgAi3cZ45JwOMnivIiRGl3xxZLDIOcAGsX5Qbb7FW4lU/wART7necA/rQOougclyNgwNpwD+dRxT
Iedk1O5lLISdvOQfKgLq4iXwUPYZJPf8q1xRbOVGjvukd2VRhmY8+foe/wBqQkl2mCAoWO3y7+3l
Wl8EoeJojJ9ceVUEn0/pWyC3e9lZba2WQqu/Cg4VR3OPKo9A22FhYMJXvVxtjLKoB+rscA+/b296
0250qS7TCSW8OVBQHcRgAZz5nz7DvXK2za41s+oQ6xpEemW7iyktXSRYozLIT4kezLSN6HJX2O6q
9XljglDxIPrORgeXrTHt0Znx3xPon7POj6DrXWdxc9SWCTW1lYvcL4qZRX8RFDY9gx/vX6hKaCdP
mh0vUbqOPCpIYZGIUbsAYbjzP9axmlJZKR1xwTgjztrp3TlhdSalZ6jf20tnEFdiuBjAycEHk4yf
zxgcUupdbdMXMCRXXxCmg3koBFhHzj1UA+YwfWvPxd3R1cr1Z6zQoNMtrR4W6huJ4ool8WeaZyWD
klWLOcfysOPXmvz98dOtNP1DXNJHT9+Lq2tEDrIVCN4hO0gnAxgRr+pPnXTHblTRzzOkjBr/AMRJ
lsYJbIq8syj6uQFPqB9/WvM9S6zZ9Vy6NZF2jnEnhzhGAZSdig5YgeR7nHqa9MVxOM5ctGTV+ntN
0m/msrO5kv3uRLEkcrqXEivkNlMqQBgHDckNwBXnDrtnpzPGbxFWAgShPI+QwPPNSck9GWnWjVN1
bpU6ok+oiR44wiK4xt9j6HnFC/NnKFkt5YghUsCsgG/8z58GuUMj5WVq42Mb2yJitre6ilmK4ZY3
U4J7DH5/3raVmgmSJnAEagcnOT+X61pyTOe+ii5n8GUPI7M44Bz2z5n+lVrJLslDMCGYDHOMfb/j
itJWhbR6rp/rAdPbBdSEbVTwiODHk8kc5HcVuuutDcXN+qTgSyOzRSu5fPHqM5JxnPvXnlicpW+j
62D1sceNNL3VV/7nl1sby+DyO+8TjLkjJPrjP+favQjrLXdKttK06SUiOxVkhHIIjbP0kqeRhmH2
Y812lHno+bGTgzzGtahJdsXuZGliZ2bd4YAXcSSBjtzWLVdal1HUY7tgsYhh2gIAv0jOO3HmK0o0
Tm6aOPe3Tq3jAt/E45zit1lfylEeLw9ygEFuwI5zXSUfbZhOj0Ftq3VnUV2LKC6YbRveTeViT34+
33rtXXT0ukwHVv8AqmCaW2KO0TRsrE45w3POe2cV5prHBV5PVHDPJjeW+iq1+I1+Li3Et/K0UGNy
NIVGM7sHHfue/wDsK9Za/Ei0Mdx40oQJbskWCSSWBxnJOTknP2HJrjFSiqmYx5G9s+UXZso2mnkd
7hm7qW4ByDnjvXR0vq/UIlubZbUyeMq4aPht7cAv/qGM+nNeyNtWZTpnGaSWWCLxQFAcx4kGNp+n
zr3fw10Xpu56gFz1Prt3p2i2yb7i5ihlLSsFIEabAcZIPJz6AZIqN6o1jg5PR9MvOq/h5a9b+FoE
un6jZx6WzPcX1nNI8MgkC4znLN35KkAOMAnBGr4h2vwY0/T5OoXhSa81JWNvHpCzw26yNGhLyCba
eJN4AX6drfhBxjnKNLo7uKdp9nx3TusdIt7bUIJtIjaa5DeGzyuVGVcZ2k44baAeSMn0ryc8M9qt
xqU108cFyMKkRILA+fPl9q1H/LdNHCTT0S11K41i0t+nVvpXiWQeBG2ZCXPkg8sknjzJrdHoOo2+
Jjo2ooY49rF7d/LO7y9ePyo3KLaSObkz6R8LvjhffD+0GialbQXGmJlms54MYLYyRwR5e3c1r67+
JvRfxC1m00i00m0sPFtFaViNsC3P1HICDOQjAZ5ya5QhJTcmzvDJGS4tHy75PT/3heaQLy1u4bUP
4U48RGfjjbuHHccEDt5Vw76FI4txuULhxlFyOK9Cn7qOMo0zuafr+paS62lpeTReDxgngEZH/P61
6C3+IPV81ysMIWW3Zfqc7cg/3rEV7qkbxzrR4e0Ov9N6wutmBoXWQsJZI0fLHPYMCM1s1LUNT+In
UEmp6zezTTrAF8TaoOFHA4wO2e1elyS2jMYuXt+TzsTypbSOv4QdvHGKyLLdM7OmSPI5qultmbaV
H174LHRtafV06ksV1CWGGN4RJGHPAKnDHHYADGcU3xGk0vQtftr3piw/du+35FsCsgkBO7JycHkD
GeMGvLkuTqJ1jH28zxcl2b64NzqFn807nMniKd7cebcH+tcnWtRt/Ba3iiVfBVmT6Pqydo2fkATm
kNas53btnkyJvmCXikRlO0nHAzW23uQYwwBVgSBz39a6XWyPZum1GXarMfoT6ee+ftUXWLuBURxI
FI4zkfY1wcOezVUUzajFLL/Eyxc7i+3kn1rHLdFWcRkk87W7E+ldoxoskqMyyyzEjD57cnJP9a9Z
0RZ6v1JrltoGkWr3dzJuMcaYDSBVLHuRnABOPPHFdKMdbZ7SDRuoLz5mC3lVFLGJ8ziFi/fBDkOO
54xn1rzfTcGnWt5LaavdbHkkKnCeJt2+2QO+ecmrFxcaNZE7s0dQRafp1mt1pOptP4pbIeLw3Q5+
5H6GufoWuXtpcRXGI5XRvwyLvHbuRg5rm4JKyXWj6Zpeo9P9S6DHowEdtfRxiIT3FhbvLI2G4D4B
I98ZGBXy7VdCvbbWn0+UxYiYrJcIrGEHGTubbk/pRNSZqm1Z5a7WO3vZFkUtscqxjBA49M1k3xON
viAEHy8h/ao20iVsTcka4LLnGMse/vWC+uFEbJBIryP+JscUTtijmDHHKh/PjzqpwQgP845Jzzj0
rqQw+OrlI2l2he/HAOeaUyEyyQjLbufpPBI8+3aolRbBG2wFc/iHIxWm3uTaNvRjnz29vt/ejIWw
zPJJje3IwOe1a7a4a3limQqChBXIyOKxQR3rvq6K9vTf32nqSQPpicoOMgf1wf19a7Gj9e6RLfXF
xrGjN8t4JSCOGYjZIcAMS2d2BnI4zXLjJL2slJvZ7roPWun9V6muLC86nvLbRLxzEm1GjljiLnaZ
ViVgey58hx3r9e9Bp/8AS4RQ6D01FrviJBeRahI80gmSRPFQ4G1Tje38ucg+lcZSa9p3gnBcu0Y9
c+Imu/FXqa56b6l6nj0PTJFa1udLiklgwCT3JVgWPPDHPIIXFdG3/ZO6StVi1HQdZ1OSXkFNUi8S
PaBkFQiDJ4GDn1GCTXVUujLV1MuuJE6F1aXQ7q2utVazkjBnikijjkVVDKpSSFwdpJH9uMVz+pNH
vfifp9zP1GNM6U6NRClxfTRWsLR7SCCHEaF2OCMAD0rCfF2atZFxo/PPXHRHwx6e/eOq6N8Rb27s
LRdwnlshm4lbJVEVT9IIBILbfsK+D9VdY6VLctDoPzJiTvJK4DOfXC9ufLJ7V25vIqOMocXTZ59u
ob+6t2Wa+lZWYMFaQ4/SsE+rXpdIJJmKfiyTyOB/sB+lIwXQK4rtvqHzD8n6RXTk17Uhaonj+JFE
OIwMbfImkoqwVWnUc0DfMMZA0RyNpxgnjuOa97oHVk+pWRjuosNG4SJUGS+e/BPf/wAVlrhstWe9
6O6I6v8AiJdT2/Suk3VybR9lztXAi9nHcfpmvY//AEQ6n6fmOofEA3Gl6PEPGnMER8SRARkBmXC+
Qzg4yOKxk9RHHpJs7YfRvO7clFfYdd6i/Zt00O2o9J9RsY8ASLcuA6jGW+rAz6Djt715rSOqPhRc
dQpFoen6hqMV/ujjS4IVrELyS20BZMgfkeeSasM02txMPBGEtzs+hdOL8KtcVon1S6WW2QsUjaMb
Cv8ArYkjz54715Lq3V+gNMubi2bUdRCxndE6qr5Q5wc7cHJ4yMVVJyYeOK8nz3qDWdMs4/mZ7iWO
CUgQBipkcYzuwDhR28q85cdb6IsckaM/0LhcgEt61rm26o4tGmPUdOuNLbU5rzMKjMion1IeOP1N
cAdbxWriKKBnVTwc8EZ7GtLI5WqMpbPoPRnxOg6W1Np4oUn8SJVe3L7c+hyPTJ/X2ro6r1vedT31
yOLa1vNhMY+vBUYUZ4J71mUOScjty9nA50txZ6bbkLOs025mO5fM+39K6nRHRmtdYampsrb/ANNk
E7gQi4GSSewHH/imOLpy+TFeEfXLP4QdLaTfROiS3kkWWlkmYNG5zn8JGNo7c/nW0N8P7bS/+obj
TdDgtJTthuRbRqr87edmDwQBXoaVUzpBK6Rm0rSbPTL2a+vbLQJYr5Asdu3hGNPPxB4xbB5xhfvz
2rua0vRukY0rpttMuLJY0IuNtv4gLD61QGRWUbjndk5weB2PyPze902l/DPpQxJRWt/yfLOpOi4/
3qdet+oVu55mDG1YYZ8j8IZHIAHbGQeDjypOsIdSGhPFdMsQYRpbQOXYxKGwQN5JwT9WcnnOK9uP
NGdJHknhlFts8WOnZlDajdsGjjiLHaQe2DyD3yM8e1cSe5n1S4S1hVXeRtkaA4A9AB2Ar0UpO/g8
0k06O1pXwu67uJBdabaRGSA+IDHcopDA8YJIwa950bqPxG6ZtJrHVIhIBKz/APqG8RkOfqwyt2Jy
fOpOUWrR0hF3Ujg9cdeyazcldRtomTwDBvRNy7ckseeQ3uD5V84mlb5i4u9OgdI1bMYBJIX71MPv
XJ9GJuMuvAA+qySJMFkBlHDEHk1+hYP2crK36Si1rXddvP3m8CyzQrCoSJj/AC4P1MAc5ORkc8Vu
XGO0ZinKVHya6jsmkLRQqIw5AZeNy54yMn9KttrhYZd8Upx/pxgf+K8cpNsVxZ7S06Ri6t6XlvYO
obGDYcTJMrZjAwSc4x2P+3vXF6E6EvJNdkNpLYzi0Cv4N3IbZpIzgqwyrcMpB+xr1wpo29tM0de9
MP0U1vq50HTVsbv+D8vHctOqyYJJZuDyOf1ry0vQRe10zU59asrW31RWMUsgKxDDMu0Hu3K8+nnW
ZyV0xxvo+gdG/Dm80SzfWtN1GX942DxtMLJhzvwfCYE7WAHJ/wByMVd8Suq7PqHT9Niis3372lk8
WNkMbgbSuc4P5e1eec7VI6cXGOz5vf6jbwwNOxjBTuccj8vOvn2p6hNcTeKlw27cSWP/ABTDF3s5
As715Akdy34vpDYxir4jdNfN4SncoIz2/SuvBLXgiuzrNKEtT8ykUjqAxHO7NLJfokXjojbOwUkD
Ht/eoo0d29fZke4W6TdMAjofoJ4wPt/zWJ4JjmWKF5QSQGUErWuSSOL9w1tK1rMZDE0UjKyYYHOC
CCR+Rq6wh1/5uG60GCdJEO6JkcI+727HtzmqpctWRp1R6ifXOt105LjqSzml+XLpbXExDSIW5ILA
5x58+p9TXnd98B80wABBb6WB48/PIrDVeStOqYY9Tu/l/BnDvAw43jOD7H15/rTJbanADKtrcAPg
qVhJyv6VqD4poy4ts6EfVJss7C4uBhcDIYY759POqb/rfWNQg+UnuJFCgbC0m9QB5DviuS9sjopc
VR5u5leSR1km3iQcEtnJ+/51lkWFVTfNgMQSoXBFdk72Y7ONczu0rKGwu7g+1LGV2k72U/r3rolo
gr7lcbX3R9+TzVckcqykORgtjNUHHQu0hTaBzgehq5yYVKQygFsqQO+M+tOwU+MQx2DHoKcd95PJ
5xVBphGcbeOfWtUSmRdvi8+nr7GubIPPE8kShGGQR354p4S6SxrdBVQZDFDgt6fn/Ss2aXZ39FgW
bUPkgWSKeRVRXYFm5H8wH9QPyr6jJp3V2gtDPpfUF5A4H0qkpIJxgDv+X2rxZsyxzSZ68OGU48oM
87q0fXejagdZfUL5ZGkMjyRSHc3b6t3qeefv5V9t6R626x6g6bGvv1N1FaBUkQgXCGE4VwHJ4Ycg
dgOccHmu2OcZrkjn/mY7i9Hm/iJ8dusukp7Wz6d+Ieq3dzC7G4ZrnchXCkfgwO/598+VfGOq/iz1
11xZmDXupL26hWbxvCmuHYeJz9XJ74bFaUU90cpTntM8ZL1BqqWktjJezrbysJPB3EKzDsceZGa5
tnI0k7Ox5UE8Gu8YpLRzLZbkLtWJsknH2p5YCsYZWDSpyRnuPMU6BVG0by/SzMBye3FaDHHtaMzF
Sedx5Ao3RTCoaCUqRuVTn13Yrs6dqt2ky3CzSRtGdyEHBB9QfKpNckE6PqvTH7QHXnRFsP8AovWn
0i8YBri6thtkuGGwjxf5X5QHJGcjOcls4etvjb8S/iTcnVOtuqrrVp0G2Lx5AViBxkInCqDgE4Hc
c15vxK7Z0eV1R4/Ueob3VyDqd88hjTYMsTx6H29awNqz2x8SxIhIO4GM859jniuqj48HO/ILXqK6
ty7K7qZEaN2DH8J4NPLr101ttjmkWEfQSSSe+e/3quAs5Vzqs1wQZpizN3LHNY/mmdsAYyf5R5V0
jGkQ6D3UktofCZ1SPJAU8Z96wvJcwhZGYg57VIpeQdCzneJ/mmlJZhkgcED1r1PTfUem2Nz8vqEd
7N4rr4ZhnC7BzuOCpyeR5jsfyw7TtFPsa6Z0Zf2elalZzSTSSxeJJBcSqHQbSSWAwScg49cj1xX1
fpHr3piz0i30PT9Jn0s7wjGQjdOx5VmbsO5wOOKuFt1fR1/HXRV1l1nDFol/baLcbr908JVEgRl3
fzDuCRz5ivPdCy3fS/SsUGt3tpEl3M/yok+pYyQSd2OMZUnv3NdZZEqkRY23R7v5wGIalHrcdxGA
HUY2eK7FT9JUdsgdz/54951VPbSpZmbP0Ylw7kQENn6jvDNnP8oPAIPFfJfpsLer/t/2PpLLk8pf
3/7nA6nvYeoZk2ar4Bt2CQMkDhn2k/Ud7HjnuefYVwNWiS81C3sHvluRaRruI+lcA5fuTljnHp/W
vTgxY4tcdtHHJOdNdJnL6nniu2Qvb2tsqRgbVLL3+nkjOTjv5cnAFWfD3T7C01q5vby2hRI7cpE1
w6YV9yk4DcA4B/w1qeSUXL+x5MHGWZc+j3uqX82nW3j6Vq9hBvKbTG8T4J7kqjZ478+nasvU+vWd
1pd++kyJLcTKUtgCdzlmIAwWJ7ZJ4HFc3k1Ff7nu447nf+h8k0630yG6e0166YXEoEaw7SqgMPNu
T2P9a9DaW3TKWzafAphMilNySDgeZyRntkfn7V0nNxpRWj50car7OxpfSFp001t1KmswyxQOJYbe
a5EhlKtnGxcFRxzzXf62+NnUHUenDR5NO0+1ikV0do5H3HICjHPoW4ORz7U/Op6SPTwjijcnvwfK
p4o1ZUK7177QfP7elUGXTkmkEl0I3zztc/ix+YFXb6PJ9s9T0pc2FgDBNq0kSXE4kmjCB1CKckEd
nBO3jHlgg19Ks+tugLWeA3XSVx43hpC1w12VEqpGiqDjGRtjTAI4yfU1pZ/FHWEVJbZ8X+LHxDte
s9dCaRBLa6TYgRwQmQyAPgbnzxnPl7Adua4mndaXVjcRWcoTULOJPDi8YP8Awc5wVG7ggtnHbNbi
uW2Ry3SPe9GPqXUhu9TtL9enbVYzLLLHcsGucLz3bOB9RLHPJrjdbdZ6NK8emW+qTao9mDE12TlJ
fUqSAx59ay9+1I3J+22eF1S6W/iga0uCVyxZWbgenH61zks7WOcSzXWSRu2heTRSa0ls4HRiltmI
T5aNmAypGDtI8896vM4ktDDbqBPJ3lLYz5f8ViKae2dYaYs+o3VrAsUtsAjY3suO4HJ4rmS6iRzG
VAI8uPzrUlekSbbdMNpdmV/GYb8MAGP4R71ql1JpH2I25VJZsMR39vSsPFYi+Jkj1ZmbZHCFYkgk
r29x6V6norqa+0/V4bZoIXtpmCt4jhWUtgA7u/61pY1BpyY5OtH0fqLqfT9OtHsX08TNNBLKrPKB
tC8MM9jjJOO9fDJNWguLidxCfl8HEZcsEb19+c/rWob2byOkke66Zh6U1PQIrPWNbu49SkZ5UCQh
lU4GEUZyzE4OeO+ADjlviPY3cOgdM29nHermKUzSyTALK5fCkAgEcc457/c1pxRmLdfZ4C6hhhjA
ku1kkb/uKvG31GT3NZfCjaMKuRISed3BFT+DFBhmW2OwMJG8ty5ANYrxWaTY5wW5z5VqPditGB1M
L5ifcCecVRhnO1mG2uq3shA+7ajADbxxRlZhetCoGA2M+lCHJaV5cYOCcsTnuaRIpZGLFsHOePM1
egRoJRklO3GRnIp1XCjeQBn86A1QqIlDE5yM0znYSVPAHesMGiC43YSTJBOB5Yq1F3Sfx2+jdjPk
BWHpg970DrcEGt2NjJFG8YlOyR41LoD5Z8u+TivuFxNaC1+YkRWEZGAF4I/2r4vrYNZLPs+jfKBm
ubrSxGskkCosnGH5xV3TuqJ0rPLfQQxz2si/TbyH+GTg4OB964YskodM65MKltnyDrXpe2v9Yu7y
H+EbyV5hHnhAxzj+vpXg9Q6Yu9PQujvMNu76eQeP/mvs4MqcUmfJyYHDo4ctlcTbRcBgueMd84zi
s1xIbcrEhC9h2r1LejzgiLKpkIBz6CszXEjSb88itJWyIut7mRAyqM+I2WA74+9aEmSRtiKCx7D0
FRookltgqUkALEAjdyKY7oisbriQd8Hil2B0vFXBEZJbPc0Bes7sXyAD3B7UoFcl4NuUb6u3HpSP
PlAMHIBqqILorjYMqfwgHv3NWRsJFLK2ARyv+9ZeiGWS0cSCSKQSZ7qByK0Latv3TLswOcDijkDT
AYCjw7f4ajsPPmrWBnTaioBztz3FY2nsDBRCm1kBLHgt2NKCoQjAVgpAIPAz61E92DXpWrXtvvjt
Z/D3soY9gwHlX0DS+oGszazZguo0O4xv+Bh5g1iSaejcXR9Kt7vTLjT0vl6V00GaRV2pebfpKhgT
9XfB7d6ya/rMKNY25s3FokbFrZLsumdxAGckYxzxjzrTt1b/ALHok4qNo6Ova/b2Gj/u+C3u4AYo
tgN4WGGXPA9sCvLXvUut3yM9o773yJGRSR/+o55J/Ss8FJbM5Mj6RTbapdQOPGu2+kkZfKlvfHvW
rTtatJNSjF1eyIkj5aaXPhr6k7FLY58gTWE/xv2IwpOqP0t0j0t8Nrext9YsviD0fezXMqS3D3ex
HES52wokpDIckliQCeOO1dLq260vR+pNG1Cy666LvF1S9W3kWKUTOm4EtLJIFyoHb7n2rrzUtnb/
AA01Hk46PV3HTsWqavHcafq/SN1axKUkiN4m1mIGGGY8tht3IZQc48sn8uftA9RXVh123T8OnaRZ
nRsLv01gyys6KXJde/mMeXI9aik5OrM5MUscbcWj5NqWpT3WpRahbyusq7VDbsspUYU/kAAPtXru
g+jOptennvtKaxljQeHKJ5O5Jz/MuPI+9dVFOKTPMn7j2MfTmvx3sWh2Fto93cXbN4vgNsYKp+oZ
OB5Ht/pNeL6i0yGy1uSK4d4Zx/3oWkSRV4xxtPGPTvXGUXF8kemc4yhxraMlx8tp8YceGGY8Oo5N
Po3w71HX7O41VNUtIIgxMXi53SkHnt+EZ8z6UwTu3I8z3o9fol98FtLa00vW3cTxWyC9u4Z5HRps
kFUAVs4GDzgcHkefhOstZ0WXWL7/AKcup5dOCNDB8yACATncAO3bzyeTWpJN2kbrjGrPDXFxwu2M
/Tx+HBNVb4jKgZMmU8AV0SMo0JfywRFDePHEcgoGPI+w/Osy3trLtSCzCljg7mzkevsay027WjV/
JdBAYTmZiwJ7A4Bqu4aK4nUsdqcgADsBRNt2T6E8Z4AGi3N7kY7Vs0tm8OUzS4U+Q5A4q15LHsyX
l2zLtedcnt9PGK5ElzMztGvCNycmkUZZbDJMUGWwgJ3e/vXobB7Aae0hlnN038NI9v8ADMZHJDeT
D0PBz3qt0yo508V29zNcEIUVcM4AAKg4rp6fq0E1mImsY/FtxtjYIuDk8lsjk47EEYqS2ir7JrvU
93qrpGzFTFF4aIvAC4AK/njn3rhQXC2jKy7Rzzkcg5qQ0Rttmi21RrN1uEUCWN96OrHIOc8Y9P8A
eul1F1dr/V7W8uq3pkjtl8OKMLtAB5JAHmT596r+WVOujleHG6ndKq7OQMYzWVQ6OQ5ABHke33pF
+B0IJUjUqrHf7+dJNdB8Ftr7DyDWq8k8GaVg6FgoHPGP9qpCESLkjae/sK0mZGuYX+qWJlOMbscm
i1q/zXD/AI2XHPrVbRWcmGJpGLugHl6dq3Kqxqzxx5B4wPXHrUZCsbNhO8k98Z5rLJ+Pb5HnGOwo
gaYlRF24U4Hn3zVyRxPyVHHkRk/ao2BPAVGBXdjJ48qv+ZjUgSAHvx6/rWGrBvtJjFPHdW6ANxxg
Gvv3Ser3F1poa5uYZnIUnb9IGR2weRxj8818310U4pvs+j6F7aBrFi96wR5tqxtuG054/Kujb3Nv
a2aWc6b0UEBmHFeCtI+jeqZ5TVtWtXu5JGRRsx9TEdq85da9pruyR2ylT9IGOCM17cMJHlyOPRI7
DQ9RhDTxK2QT7q2eR/bmvO6/8MVuWN5p14jBc5V+GJxwOBj869GP1DxyqR5cnp+S5RPO3vTt9pVq
vzEJ2RgMD7k/p51w5LC2WdXjyQTnYeSa9kJ3tHilFxdMWe2QK0m54z6Y4qq0LQnxAgJOME10u0ZH
meQPvKAFucgVXPcb05ckqaJAph8Sc7PEwq+taAgjBLOORWvoAVYwihCoJ7k1XKmXGZhuJoBXm2gR
pkj7963W8SLDlG+vseM59azLopqhi8FzOrbS67QM8fnT/NeICkm3Hsa5tcnZDK8qxFsJnPOM9qZJ
2DBh5+VarQRr8G6eMMYGZPMjmhLbusYk5Q/5/wAVi0UxwzESlEzjOc+1e16auY7qD5e4VFVBkLs+
p/sT2FJ62Vdn03QCr6WtkohiUXDOxniDjaV24XPtxmqdS0a7uwz20lodj7EVGK8EnJ9PSvO/U44Q
tvo6SfJUjm3t6OLe9ceMkSxPlckhcAfpTxXCWkXy6y7TIPpIH6n9aOdrRzi/ds5t7cRS3EbFizld
wC8g4H/mm0fU9Ss5ZXgd4/GXw35CgxnkjH6fpWkqjs1e7PRH4lXHTNte2ltbQtJeWqWfMavscHAl
AP4W2ZG4e33rvav1noV/0/ot2bo3F0Q/zMDRqxWXawD7+OM7Tt9zWYN9GuXaB0715pcfTbWGp6Ha
TTpI7fMupDBW2/SdpAPbgkZHOOM14PXr394a1PLbjKSSNtwOACeOAMD+1XHKbyOMukSc+UEjjZlR
23AgIcZJ7+p96+gfDT4i698PdWW80+5ij8WOQTRzQCRSGIbBBB80U58sd69E/wBdHKDXJX0a9D+M
nWWha4ur2s8MzjxcpLCrI3iFi+fX8bc9/wBBXP1XqB+oNVvNVvIYvHvJTcSCNQqqcnAGOwGe1cZq
Vdm3K/Bwb+4hv5w1xdYt4TghTk5P5Vc+sXsekPpVnqNxbaU58RlEnDMQAcc+YA5NcG5Korr/AKsi
e7POrLZWxeK3PjZ5Dt3/AKVRIkqIz5B3HgdjivTG/wCryZOVd3xRWTazMMnAFWJJP4UF1GoG+Ik5
7jDY/LNd60aTMU84uJ1SQncDjcOTz/eulE3y+3w7dW5yxI4yKzJaoq7L7qUSSeMhCsTuKgYGayi6
tlBMx+pTkgnOTWUmlRX2SV1dPF8Y7ccAc5zRsjGGaNsxh+Ru9qrftJsyXTQiVtoDbTySf7VjuZVx
hI1XH83bikb8gltFKwUu+EPcscDFdDFusR/iSudvG1R9I9MUcqYRQ17tk3LDG2eCu4k/p501xqrt
H9MKxyucFV8/es8W+xZkDXMj7jMEzzwB5VSY5GUzkk7eT9XauiIBbmTww6McBjj/AJq0X1yRnOV8
zijiEwxy+CB/MXBzUeZAAo48+aUUoupF2hg3b8qoMjGPGAPq5PrWkRhlYOApOFxjIFZ/HZDhhx2z
REDHMyNg8hvL2q+WcidWUAc/pirQObMk0E5gfaDH32MGAJ8sgkVcZSYQqAgdvc1OwZhOex59Mnmk
luDL2Ta3H1Y7+1WgRXk3YY58+fWtCXBVtx5znio0CPNLJledo7A/1pljwiqd7N/nap0Dt6DbLPMs
MkbnxOFHkT/nvX0KyivdPhJgmONwypIHHrXj9QlLTPZ6W47OlpPUN/JM5R32k7c4z5+ldS71VBjx
JHKHG4bT34r58oVLR9HlyVnl+o0a4g8KEF3kO8kD6VUf715e3EonRVBVMgBiDg17Mb9h5Zq5nrrD
RguHnnZEyCTx511bS0KyrMPEMRxgHkYwOa8s58ts9MIcVQ2sWunXQdJtuzYACMDmuCnRmhX86TIA
rRHJGOWJxj2866Y80scdHDJgWSdGPXPhTdXRW50mJ44lGcNx+ef6V4TWel9R0i5jtJY8k9mx3969
mD1Mcip9nizeneJ/RnvtNn+XRY7R/GXBOOc8c5/OuQyNE7pcJhgcYIxg+leqLTRwaoyl2ViIcj14
4qo3DM5BJ58jXRIhf46AhcE5HJNIpZ5M5AHlz2oCHfHLgEEnvkVrgupYvpZfpHlmo9gulvd6ZPfG
O9VpcZXOBn1Pmayo0QeKF5w5GPpHPPNaLZIgAsqkEc5JqNg3fPhVAXaMcZx5VoEnjRgFi6nABI7Z
rk40UqvLRI8TRxr3GSB2rRpL4uVZmYODkYOORz+lO1sUe+s9ZMUQhjYcfyse+ece/eutBqj3CK5D
K6/UTHgFcf52r5WbEr5Es8p1B1J4l8B3RAFLeaZ78+fnWeHWUe8CXLGSJA2BnOR3rvig4RQ82PBq
jyTv4MY8N1IXb388cVNR1WSLf4h5UBeMcH/M10duO+yXoxXdyt54Ld2LZYjGT+vlXRjvYlttquAE
cHA42gADH9P7VLaVks9DoV/d3ls1ppJAN1Hsk5wTnuCf886W/sNY0j/1N9AsSn6Y8MDk/wD6T6V0
g49Ptnepzx34X/JzzLHdp4lwygwgFlX+bPtVc12fGjdiysw7kcen+9d4bOHRVFeq84PiAAEk5Uk4
98VumvbtohFAwjDAggPjIPamSktizmTzeGWhQorMfq+rP+Gsl5qciwKJufDARSGPPvUjDls0WWcD
j6FVQzfU5zjA9zW3wbDIEkkmcZ78Z+9YnOV1EiM94tkAJYMZBwSQT/vWK5uIYoDDAw3S4y3mpBOf
yrcHJqmai0jm2qA3Znbb9OWOOwrY9ycFQx7iu3bNIKMWjYgtxjGBn0rnTsrTusiFSCMmpQYsN7cb
2hjX+EgHKkZPpTyatdW52vGAhwBg5zWeCYsW5k+ZBkQ+G5GSDxXL3zCVUZiBmtxXghqiu2J2kbhz
mr4btEYDuDycHtjtUcSiSsgbI7HONtDLRuZeMICDzV8ApaMlDLnae/fg0bSUujeP+EcDHY08EEkZ
Fz4TlQR28qNvNJHnuy47d/1qiy1t0QzknJyfzrPLI5fcDnzqRA8gBKs2MKO1VPKjZC8nFUFfisi7
W4FUGQu2WHA9atELsxtggZXjt5VcpikmEkhJAJY1CnZurma2incyxBpSp8KSNTkAZHlwSBjjHl61
5528QO6BUAbJHkc+lcMK1ZqZWyxlR/DC84qqe2kLb1XGO4zXZOjBVGcnjzrWtsXjMgUtjAJz2qt0
CsH/AO2dp9TXSisyirMSjgnJJ4ArMmairOpp0ge6gMa7Y4uQQeCfWvVz69FaQbWLmRyY02jJB8sA
14skW5Kj1Y5cYNmXRdaFtatLPO0lwZSdqj6iM9yfKuy/UltOsk8TuSjCJBjgnGTx27VyniuVnWGZ
KCTL9JvHc/LylQeNjsNviZ5JGe9ejTSbedUTwoZAfqyEHA9e3NcMj4vR6cXujsvl0FHtjM06hQwy
qKxLfkM1Vcy2VhF8pC5TKcZHOeMZBFcU3PR0fs2zzl1bXTOzRQeLbvyccEf4a16Pp2oWwW+a2fw0
wUyeMZr0OUVGjlFNy5Hel6kjDeCCVZdo4PnWTVYLDUbNJ30vxpO27uVOK4RTxtNHSSjlTiziaFot
tcak0N1atAmDtb861a58L9Fu0C2sSCQ87jHkEbvb8+a9C9RLHP6PPL0qnE8BqfwZ1m3jNxbjxAxO
1VOTj8v715S/+H+u2szRvZsGUZJI/pX0cXqoZPJ4J4Jw7Rxzoupl2jNuw2k7jj8PuaMek3caksFD
fevQ5xOPQ0unr4RIfMoOQ2arW2dmUuTgd8nzopWSx3SJSVX17U0MEZcbnIXvS9A6ShVXbA2FI+oA
+dZ5Ew2N2AeSawUtigeYEoAcD1rSvzNu5glUBgT3Pl7VG10DWjyhSGhLAjkkUIZYN4BRsrnBHnmu
bXwDRJcTRgKGZTvBEi88Z4ziu9Hrnhovhy4baCzY7n/5rhOKk9mfJ5zWdpn8U5O7JPI4JP8AapZ3
AlXYIgjkBBn+uT9q2v1Bo03U445SpIVsbcgYG3y/tWea58e42/VknDKRxwayouyF0NwDFsyVG7lf
PPANIl02xoFyfr5yM96lDo9HoGovZbXXgJzx/n3r0Wu9Qw6g1tHcFgVRyORjBxjk+fH9a5uLTUkb
jkcYuHhnE0x1a2uZVkDJuwEC/Uw+/liqmu4oHaOK3+sDLEtnn9K9OPaozV9jC3kcq7StGz8lAvYf
kadpSyGKABk7ZVs8+9ZlLk6Jd6KJY5LeJXu0Cx9ghILffNZxcxupFsi8fiLeVdF7la6NCPdyxL4Q
OVHLE8bjTLJF8uBPErSSHKkHsDTjXRDDcm7J8NCsaZ4w3P3xUh06SRlMjMFOckjkj2FaclBWEXnS
oIbdpbeTL+YPpWCR5kym4Aj+9MWT8i2bRotbkxbJJJEAXk5pNVvE1ErL4ipgFR7/AH/WtN29GvBg
juYIIxbA7TyWx5tTpJEyb5OWQk7SO/2q/ZEV3ErFgVXLMBwOce1Z/DTJMvLDtzVWiCGRYmKA8Yxk
eVWwsnP08Y8/WjsFxkhyAMAgceXNKcq/hyJuVgM5PFAUzOGkVgQFBxgHtSu7eIQ+FAPlVoDIIXZt
54/vSMhiJIcbT+VSwSUyBNyHepOcj1qyGQJHuI+sjt6Ve0Cm4mbOEwM9zValgN4UAeXvTogkso/D
3JNUu5/DWgNFuHIIxjFbY4SkV4SchNig+mef7CjKjNJevcuJWBC4AC98D0/rSzOUjGwADBJB9f8A
MVhRrRHt2UxyqxBRSD557c1tRIp4jukTdzz60YQ1gYYG8POXz+v61oQIysFxhzgcc1zd3Y8lHyDB
gZG+pm744I8q69rZqwGIQUPqDg1mcjvjirOxpejwR5mUhYY+WGAT38v1roX8OmwrE93GT40eYwwO
D6nNeZycpHoqMY0eLuJY4WdZDtcNxgnaRn9a9d0bb3WpyN8tdpFBbLudOM4/PyzW8rUYWzhhTlkS
PcRrpjENM3jzqf4coHAOAM+3byrpW9iuTidQue68A/Y/818xya7PrRil0G61VLC2Gd0pOcEYII9s
d68Jfa/LcXfjiMkZwD7V39NC/czz+pk9JG7SNfkkd7eeAlVwQSMA4NeghuIb24RS7xjbykbcdqma
HF6OmCfKKMGpaGhumnguWPHKnIFdOLU5bHSzbyBc+bdyKw3+RJG0uDbOTa67MsxeWEkKPob0rtTa
ykMouIziMRcZYnJ70nDeixlaPPatr928okgvghABKhsYrP8A9UQnbbX5jkVnGZMjdjB969EMGlXZ
5J56nT6N9nofTWqWxt7WdUkfO3I5z6H7DFeP6r6Au9NjL28IcFR4YUZz+f3zXTFmanxmc8uGMo84
HGtvhvrkth8/cRGMMNyq3H9/avPzafc2pkR0x4ZOcrg5Hf8AtXsjljNtI8c8bglZnS3ZZlucF88Y
K9j51pSyWeQ5UYVSQwXAz5CtOVbOZolsLrwg4aNCVyFHB58jSSaV4UKM1xvLH6kUfqc/pWPyLwDT
Z+BbDKAdyxDHtzWqe4SXEoVWYDGTznntXOVuVkCsw3srsxYDdhRweP8AP0rMfrkVgI1KNlsdx/mK
LRouTeqPHgFXACtn8J9qqaSREIAVWHHPA9fKs+TPky3hfcElUhx3b29OKqbesQjWfADbt2e/+f7V
0XQYkdwzSPuVMkZxjHn2Bou7HDpGSRwQDVqmCJeEgrLwB2bz9gavs7jEgZju4IwBUcaK0diwuRH/
AN4khVx6HHr+taL67Uq1y2GaNyuMA5B7cV53d0ZaJpl/JGhdT4S7QfzI860C+08zRuEaRpAxGX4D
DsMVW5R/UPovF00k7wRhm7g47DP9qFpPeWMex4gN/wDMACB7/wBqsKlcWEZtVvJbiH6UYGP6hu7G
s+nuZUaeUBFJAUKvfHfH6ivTFcYUijXzMCLhYnAHYYPHvVUF7LMpb8Tj6Rgc/bFVJUCqAzQTtcXC
lih3Ip827c/3/KtYvnKmeQM8jkrypGAOw+1csqvaKWCbcpUsFwMZ57VxL648KYzABixyBj/amBVa
L0ZjcSM5KrgEYI8sU7IsVs04OShC8HgZ8/716FophjZ5ieRn3row4xtUnsBnzFWXREVySHdkAfQc
cd8UklxC0qqg8vzqJFRSkYY7xn7Z5qCR8lQPbmtdix9xkGGI+mrk2MCWYkKOQBWWQR3XHCkb+QKp
kkDMFRWHPBPf7VUB3+kx4YZ43H0NU3kgDGNDkYFXtgKMwiXB49R5UZPpwQ34uBzU8gjorYw2AO/v
VUjy71A7AcY7YqoFLuAc98e9KpLZOPPvVAwQnGGAFdSWeL5URQgkTbWkJHP0jA/3qMqN8uh27aOt
5bKuFQ7XGQX+rByO3b/Oa89MyxqVZSeeMVyxzcrssmr0UxbDIEP0/UM+1dW0sySd4zG44P29K1N0
jI62weRgjZXPYDtitUaJBmVApC48vyrnJ2ArcRbsMAHPOCMD2+5rXDcSoojVcZwCcZxz6VzaNRk0
7Ogs6xW7z+KQgBAVn/EMn/Pyrm6pq93PFFtuCUgXhSck/Y/Y4rEY27Zpza6PPTmd5x4sLxrjIBFe
n6SvZLYzJ9TPOu0LnjvXXKrhRvC6kmfSNGvmhtxCPlzJn0JwfLNdG4vLmWNbeWEAHhnBwSPQdua+
RKPus+vFrjsuS30z5aK2Z2RT3QH6sef+1cq66f0kzOsTMv18g+47DFSGWUXSE4KWzkSaONKInc7h
nblec8/0rXBHcokjWsqqxOQSc7T5g16XLmrZxinHSLI9Wu7qNrXx2WY8Msi5DEdsVjNzrHj+E2nK
qsBvcEgN9s/epGEY6ejTm2d21shcBENphjwT3XP5VRqWlxCMrk8K30jtj/P7VxUqkbr26PKXumso
NxJkqx8++McAVw3kgEjfMoMg/SiD/f8AzvX0sUrWj5+WDUrNnT16trfAxscZ53eVfTtO6itZbJ5J
pI5OyKp5JYZxx+v615vVxbpo9Ppn4Yb/AF620yGC1uGE6Tr9OVyF47n0ry2sS6HeyyK9iQEBYBCB
uJA71xw807RrPwapnhtYg0db7FpGUTH1K2QB6/2/rWcyx+GYoxhT2x3xXuTlKKs+RJK9FQmJYruO
3z9O/wD8UZb6ASZ2qeMHAq1ekQzT3kbZ4APABI71mkvRGAsJyB+VdIxAY7mQpuJA9SatiuQjBj3X
OcedVx8Atju0RiXc4JyARVkpjuEdUm2+J3wM4PrXNprZGjlPM6s0cgJY8Kc8HFZWLs3fPGcE+Vd4
qgXRqokRlkBBI8Qeg86vPhtcbonkGVzkkcAe9Zd2CK5WKQyKcMMJxnn1+9V+MsbDEi54JODj7f2o
lbB04LkzDeUO4KFx/WtVwGgtVluQx2ndgHknJ9PY1wkqdA5r3DuZEaYgDkAdznsD+lOk0aKboZBT
+GpHbtXRojOxb6g5hTAKgZ+oDBOfOupZySSWiRsysUyx3c4x615uPF2ToknyssbfUuQc5HY+VZJp
oLSBF+YfxMEA47D7/wCdq7QcnoqCWaGEu84mO36VXnJHmT6UITNJGx2JHIQWEQULnjkk988Vp1LY
qyiC3ufmTPdxgR92DN+eOKl94u4sQoA5BXHA/wAxUck3SCKYJA+8RtggE4rC9gBJ41zLIF3ElWXk
4/2rUZcF9lbokulyXMv/AKaUCIhQS5x+ePSrH0WzlikihvG8VBu2nseO1V52qSX8k5CC3XTbMi5g
jnjmUAkfiQn0PassFzFBbmIoQRzn1ziu0ZKatG1JMoku4mmOwABgAff1oRmLdvAIbtxW6ohZwiBg
e3c5qmSRWfgefJFRdgaLK5YtnPC4omVgR+JefLtVewNcTeGokOeeM4pmELxKyqRIBhst3PtU6BQJ
VRCSNxPtkVSWBZmccHtitAhbJADfSOwppGBVVzxSgbdF0TUNcvbXTNPj8W4uZNir/v8AbFfTdQ/Z
y64Rd1rdaZN6YmZCfyK/71G0h5o89qHwG+JlgSZOnzLjn+HMhP6ZzWCX4W9eWylT0zdO4XeY4dsk
gHrsUlv6UTT6JZzbjorq1NmzpXWANoyWs5ME+ePp7Vn1LRtR0zat3aTwkgcSRsp7e9VhSTGWe5CC
CR2CJkFdxx6YxXPmszHKzwkc8qPSuUaTFhtVj3fXGN7DO4Hv7YrTHLPExxuVQcDBHIpLemC8yONy
yptLcgnPNI0gAK7wqsS3fAA9KxRSvxlGZDkbe588+taILmUsoOWP8pA5B8qNeQdGWd00+C2lCqzA
/UCMkA45/rWLwZDJlGBPljt965rRp9lkNjNcSOXIyqt+Mcj7Ctllo91GS21hLuO3BHI8vtRyS0d4
Q6Z7TpsG1ljW9kKtJ+IEg4HpXtX06OBFeOdSuc5Zg2B6duK+XnlU9eT6eJe0a0trKW4DHYJGY4x3
Ax70dRgt4YECkMzSHLbf8964b5I34OfdESyGGOBCQuSGGM/auHc3UkLgQKpBzuUjufSvRi2qOc3x
M8WpJK24wgSIB9TjOf8APyro3OpfvS3FjGskGxe48yR/zXWWOmn8GITTiU29hrGnSK4uXVc73UHP
rXYgvxPIzEv9WBgqSDx/SueTjL3ROkG1pl1zb6VPhpImYhgoG0nn/POuBqXTEcjFYLQRqxOXqY8k
oPYyQUjiX3TQ0tDlSzN9ZOPX3rjWlxdK5KSMqA5yO3Pv2r3RkskbZ45/5Ju1DWW+QLIWZi/JOG4w
eMf715m61ic4tg5Khiw+rOCRUxY0eXLlc3bOdc3m8Z4x25NZ1vNnY8EfpXqjHRxJ882Rhx9QwT2r
LPcPHL/3BkjsOKsY0wWRETg75grqO2fL0qfLsxBRQyg4P/zWroFm1kQoxHkD+VZpZ2QkEjFI7Aqy
s+Oc+fetsE4VWC4wfU+VJIAunEiqUC+f1Y/3rFJKIwAQvPHfkVIrwQluMLuZ8BhkDPf/AI7VYLqT
wxFEmCwxnHJGfX71pq+wPcyuluUViWzlie4NVW6eKf4zjPcc+dEqVlO1a3Py4GECkjkj/etF4YpY
Wcl2OeCGzivO1uyHHK55kcoVHmPxVtgM0qmFx9PkO4JPtW5LQNUK/gWXeGHGSp449PyroGdrS3dE
BJbtgd8jv71xa2GrMEd8YrkiVuW8vOugssWwyzruUfTt4Arck10Q2ePZyWwMRChSBwfXy7dq0dJ9
BdbfEHV7mw6N0C+1p7S2a9njtkyywKQC+M9gWUfc4qY73ZbLup/ht8T9F0bQ9buekb6TTdetmvNN
uLdVuUuIlC7m/hFtoXeoIbBBPNeUmOqxWMU88EypP4hjndCFlVTgkE98cjjPIxXRQXknkxX921rD
aqoIeWEPgHB5JrTHfeFbrDdPtkiYsd31Yz/80nC0R7Kbm7BhMNqG5VmZnbB/KuQlzIspaJn4UNzz
kccVrHHWwkda31hZIPAeD+H9SuTzjJ/pVmq2cDAXmnEEH6fD9G7/AKVmN45fRVpnLurCe0VTKwDH
86Nt/Ek+rO0cnPnXoUk1aNC+Id2GHY1rttMedoZ5mIhclSRwRipKSirDNlwj22irbTqrSRztIrDG
QpUDH9Af8NckuNgG0ZJzuBOcelIS5qx4K3aTac8qR3PlWjxHMKADDd60CqYnw1Kscef3qhVbHJ4F
EAhyHLg4GasAWQkFvqHnVB+lvgL8MLrSNMXqzUURb66XbBHLGT4cf5Hgmvry/PiRctbIUYH8RBPP
lkVzltlxrVmxLS617Vmm1G0mnYgM8qXJQhB37MormatoHS0Es+rW82qWTxI31vLuwoHmcPxx61zT
cXSOtc9s+XXnVlzdiOXpjqO1gkUBP/WL4YdOcgkDknjv+tXz3GvuUW71fSrv5hA7/K3YVUPH0njv
xXa68HN70j87TFpJpDKqKxbceOPXFCRVxmMKp7gjsa4fwYKnaKOHhT4mRyMHisrzFjjHI8qqQE8a
TdmQncMYHc0WkLwYfBCc5xzWqADKzREpGxODnJ5xW7TfqEbSttycORzx/wA1mekaRbJE80ytHFJs
IKplcnAzwcVbaS7SPFOzOQN3A7efpXN9FS2d60SCREYBWlYgDB4Bxk4I7+VaEnulmZZomiRMBQTk
1wat0z1wfhHYsXlVGXwEctgqXPYedewbUNOuYlCxNC6qD9LNhj7+VeLNF2mj3YnqmUxX0xLRwyjf
HjcpHI9x6jisbXlyJHgug6j+UjkN+XrzXHib5fBp0y5S4lMbYbyGGHY8DPmKya3YNaSpJbFGkBOY
/T37/wCZrcHxnTM5FatHFS6soJv/AF0r7cZLLGcZ5/8AFdXRbuLULrEctn4aAKuCA7f8Y9K7zur8
HDG0nxOndyxTgxQy/UD9RCDdz/tgUphitS7QvtKDc6n0PPH9K4xbSo9LVOylY4rOZZvCeNG77Tkj
nn/5Fda2mSZWm3kgAY38kDt/Wk7aEWcvX76NI2leH6fwk7eMtxyP8718v1S7uIZpIML4bHa7AHA9
q9PpVqmeH1rTpHHlmAiKmRseWe9cx5UUllOTk/VmvfBHzzFJcM4GD2zyTUVw5AD5Yc9+9dqoCOzM
pKvgYyBjGKMVu0iZm5cD6f8AzToCphhiJstznIyM1bFLPG2FcEtyR7VWgbVkmKbVXOcViuIpYpGM
ylcZAHr6ViNWCoSxoA4TJOQQa0WtwF4ck89j71trQLZ5QibV5bPOP71z5JkyVKZHqe+akUQVSCxU
sFA/w10bG3ikcSSygqCMKDg8Uk6WimuRIAuYlDbfJud1VLbptUzEtxzjjBPl9q5ptIg0l4kZ8MgK
rdx7etFrph9KksCe/njypxBmlWUSox3MqjOR5e1WreOq7Q43DnNVpSBrW5mZDIW3EjB+ry+9aoLn
lVLqEU5BPfHuaw0qKXEQXoAQorxk7STnI9Oe9ZAzSK+wIHHfjIJqLrYP1F+zX8DtP6h6PPxFg0Xp
r4n3CiaG/wCjDqb2V/ZQhtouFYHDOQGIVlAwQVYvwv6O+G/7SX7Knw16cfp8aFddBaj05bzI2mat
pZW/3LlnjEo3F3Yns7BjkZA8ukag1aM9H53+EH7aVh8E9f6v0zS9C1TXPh9qWoz3+gWEkiQ3OneJ
Ju8McsoRgxyufxKCMFmz7/oL409Iftd/tCaL0hP09Y2Hw30Oxvb6DQdUihT94X8sbRySSRglWk3X
JZApJG13zknHRPRT4j+0N+yV8R/hN1cj6B01edT6RcW013aSaJp1xcLZxK5LLMoDGMIHXBZiCOd2
c4/NU93Jeu38cLJ37dx7/wBKnHyyUWrPNE2Q7SFEzwOMeY9/Ov0v+yF1X0Xrdl1B0P1L8F+iNaPT
3TOsdQxapf6eZby4khw6RSMTgoN+3gA4A5qxSCNPw06W0H9ozob4v6vadJ9BdGahC/Ta6dI7CxsN
PBe4Wbw3fcYzII1zz9TYFfQul/gb0t0cfgD011LY9JdQXWudR6rBq99pkiXltqESFWhR5QAJAgOM
HsQRWZRsHA/aG6dOm9EXkV/0t8BbS2mvYrdLnpAs2rQgOXHeQ7VITaxx54868P0d0X0tefsxfEzX
JtDs59U0nUNGisL14g08CyTMHCv3AYdwO9ef8kuVPoW2zgfs2/By2+JnxjtLHWbF5undDgfXNWSK
IyGS1gwzR7Ry3iNtjwOfryO1fdNY6B+HegftAdB6lqPw9i0voL4vaU1iuk31lsOj6k6CJo0Rh/Dk
ScwkOAOJWxxXW/yJF7EtP2cun7T9n3qXpHqDTIG+KNx+9db0vbFmcWelXMcEsSZ5/iYlZVH4wwPO
2u30j8Lfh5pnxkt/g/a/DjpnV9V6T+G0lzfx39rG8d7r7JHLmZiVyB4iKCWG0MwyO9RexJIn0c/r
f4UdMP0/0Ve/FP4P9GdCdY3vWmm2lnp2gXEbw6rpbyqJjJBHLKmwZA3FiScDgHByftGdKN0pYdcw
aJ0J+zrbaPYGe2tVsyw6hgiL7EKxiTCzqGyRtwMHjjFdISte4qL/AIqfs4/D7rPU+lpfhTo9nbdS
dN2eh3XU/T0UQRb/AE658Mm+jQcMULMsvH4eTjC7/dzfs8/AnoNOuPiTd9E6JrN2vV1zoGl6ddvu
06xwpky1urKp+ngIewCkYzmuvRabZR8Pvgj8K/iJ8VbDVYPhj0fp62uhXy3VikTNpt3chcxTNAxK
xBOM7Tk5JJ7Y8p8UvgZqVsdFg1PpP4NWUAvDdrcdGWLx3QaNCoSYtO4MR8Tdtxy0a8gAg55aJKL6
OgsNxZwRWcGBtUIJH8vy4yeKFx4dqY2l3EbiWJY/qecVzZ2XwizTurdLt1urZ54lM8eTJv4ABxt3
ZwOMmvnPxm6hjtrGOzsZCslyrB9rZ+gAn+tZjT2jtxlDUkfI+lbWW8mEEheAqhIMkZ/F5V1bmwvY
9xeWN+6kk4GMDyPvmvSkeJvZ82udKu/pR02FslmY4JPPFc9I08PY7kgH6mHavFCfKOjRmuBlSEYn
nA4rMlvKu2Rm49fSuqeiEIwBu2hRw2O5oNIghOxM84XPatFKVLRMzMOx7+9axc/RuViCvvg1JKwW
xanfxM8UczKJOGjV8c4P/JpyzlVkZiwAyfq58sVhpI022a7GciTgumWBVh3z7V63TA90PEleYNz9
THOecD7Dv2rz5lSs9GB+6j0WnrscLsEg/m5B2++K3ahH4CJJLdQomcogBBOO/PPP5V8+TqR9CWla
MV/qml2NxbTiaRZVXndjnnv6Ecg/lXIu9X1a/wBRRYVeKEuAsmcdvMDv/NWow57keeWV7jE7tw9t
aWCm3+WzKGDBndmaTPc47H2xiuRL1bYyzxyPAlouQx2Hbu47sRzj2wM4rEISntCWVY6ibWNh1BIj
pfRhJojJII12+EPU8+1cy66cvtEvYryBzPbtskhl5258uf0rtjlw9kiuPL3o9qNIkubKK5jmCXSY
LGPnDY7EDsOaRlZ5ha6gUWYYAmjwpPsR+VedST6PUvhlFzDfSSFY3SRQeShyT/TijDcKm5ZC0bKB
ldvf3zW1UlSD9vZ5nXLm4toZo5r9cS/UQw4XPYH07j7V89vL93aXZMSjd892x5/1Ne7DFPaPmepb
5bOTNNuDoCTgZHtWJ5CoO7B7E17oqjymaV/qPhkmjEAwG+QI2QRXQGkIRlGdWIPlVrRqVJ29u+PO
ubAsMcbF127M8hc+dDKQA7ZMlcEE9802QIvNyZyVPOMDyP8AXyrPIbmX6/qKg5A9feqlRRY0weTg
j2rZCiefBb3o2QsFmwV2ildm/wBB7Ma5cwaGRTtHpzSLseTRBGzyBZ41UDIyPOtUsgihWFSM/wAz
Yo9sDxPJEPrz6qc00cqsN0ihVB4B86y15KZbpk5Cruyfqf09KRPolJc87d/9Owra6IdKASzxPyUJ
AIBH2/8ANSO0to5f4jEAE9z3+9crrSBoSeGKIpDg7iMqwyOPSszSqX3AY9sd80in5KWxu8o3qTgD
gDv9q7nT9j++NRsdFso0N3qE0dtEruAhaRgo3E9hkisz+ED+nv7NvQsf7L/wyvbT4uaj0doM13eN
di9jvwJZkKqBFKXRdzLj6QjMDu7A9/yR+378WPht8XOqulrf4f3a6ibKK6iv76LTDCzk+H4Y8ZwJ
JFX6/pxtHJBOeNqSiuLeyM/NPTthfafeCG/RXgkUqmG4Bz+E5H3NbIlm6cvItR0yaSC7Mq3MUkbl
XR1bIKkHIIIyD3FYlNSftB+4v2Tunfip+0joFx8SOrv2luvINPs9Sl059I0qY2jB4wrjfOcqwKyI
cKmQDjcD2/IH7TXSPS/Q/wAb+ounul+mtY0Cw06aNWs9TuhPP4hRWMgk3OWSQFZQSzH+J3HAHfaQ
Z8rkJZwschAXKkj7/wDBr2Xw7+JHUHwj1HVde0fTYLwdQaFe9Ps13G+xYp1VXdCpGXXHHceoouwh
dA+I2s9K/D3qr4bLo8JtetJNNnuJZkcTR/KSSPGY+QCGMhzkHsMYr23R/wC0L1l0Ppvw/wBFh6b0
6WT4dapd6hp8VxHKJria6bLRygEcDjbtAP3qNUKNvVXxr0TrzQr/AKdi+BfR2galeyLu1DTorkXc
EglVm2h5SAW2lDkdmPnW34XfG/UPhh091B0Jqvw90TX7DXpbWe7tdYimA3wFvD+lHXzOefQV5p+2
Rk72uftP65ZdPXui/DLozRuh77XVtbW5vOnXuYboLDI0iLFJ4hZSxYBiOSoC147qn45/E/X/AIfw
/DzrOa/1m7s9Zi1nTtV1O6uJtSs5wuzZHI7E7DydpyATkc0hNuinotW/ag+M+q/G3SPjrfdORQap
oVmtjFai1nWzNuFkWRWBbIDGWRj9XBIx2FeZ6S+OfWNn8Rer+ujptrqWrdb2ep6feQuruI1uzmQx
qpBBUDCjkADkcV1kwx7T47dVaf0j030Lquh6fqbdEa7Fq2iXV4sgu7PbIrPaghhmFmUEoRkHsfpU
D1XXPx1g67udV/e37P3RlrrnUSyNLqMdvdLeeNICDMgaUgtnOCQefKufKkDGvx1+IjfGHQ/jDpek
Npur9P2trpLRWcErQTwQIIzFMpJJDpkMMjGQRggEfQNA/aT6pOudV6jrnSGk6npHVd4dQ1XQNQtH
a2SQnKyoc7o2HYNk+WckAjtjyt9i9nW6a/aQ1x+sdL6i6f6B6W0rTtPs7jR4LC2tXithFNzIZZAw
eRyMkZbzOACzE9PW/j3pWqaNFBYfDfRNFtINRUC/svG3TQ7XBQGRmB55OPNQPOk8ulRuLfknWus3
Wm6DBqcelXcpYxTxrGDzyDjgEkc84H5142X4y6NFqlsl5Y5XYPEkDn+FnG4Y2nJHIxmuMsnF9HRt
JI6+r9ddGiwtdRtYYJWndPEDxrujQ8knyz28/OvmGv6pH1Nr6ziVWgRixB7Ko4CnOKqmpPRYtKJ0
9YuP3XYwvbIkEhfG4Eg4OPTHl71xx1BdCVvEQPyD3Byc+e4GvVFJo4S0fPJLtOfmSZ0IO7GSMf8A
NcK6lWNnS2DBXJCe4rw407oPozM6kjar5HLA+X2pGRmUjYQvoa9KFmdotvlkD1pTEXbIwMZIJHat
IITw2I3nBGexphMA5GGCgBfp/wA+9R7KX20Yu5cNxuOSxHavWjQtK/d4uLZpZ3AHiYUbVPlyK4ZJ
ONJHWEU1bOZHAiP/AAcbQeAWBb7GvTWeo2kFsN8zllfOGzgc+VccickdcLUXbOsdZEESzQxIVJyz
J3H5Y7VTqmp2V3ZtK9rIpUjw3PJ/I+X2rx8XaaPTLInFo8sWN1qCQqz7X52kcAfzY47dxWrVNRSC
NI45ZSEIZSvG05HufSvQk3JJHji6tlUOuSvIEaZwWOAwJBH5/rWe5ivDLLM0sM5YhkXHJIHJyPL+
9WKWN7MOTfZTaXmuwGZyv0ybQ25SAwHbuO398VZqfW2s3dkmiw6k0lvGQQuDkkHI5/P7fpXX8cMk
rWyrLKKpeT1XTvUOtaPpl3qd6LmR7lV8NfAb6mI4b0wBiudadWX6SLdTOZpDcEvkjj29/OvP+CLb
aO8s8oqKO1N1Xp1s0Ul9FIjTxBwYm5J8/vXMveufD3RrarslhxFLnhT55H34x7VYYJM6z9SqPJX3
Ut7fXpuHnAXCqQowDj27Vxrm4kYMqj8RzzXthjUaR4Jzc3bOXLIwJBbGO9JJMXXYGPHJr0JGRI5V
GElCnvjFWTQRlA0UnGMlSeRVA8MRXCuWyf8ASKsTemQWx25/3rL2DZCmxSsSbmkGd2O3rWe5gRQN
z4Yt3/Tisp7BXCoE5jVcDOCfatvhBoykQyF5XP8AakiMzzyKgYEfWBjbjzNVxpdOMInAxkdsGqqr
YN0STQRfWcSE8jGCv3NZpWUrkIGZju59e1ZVN2iGl5kIXckYzzwMmuZezgy5ifzxyBVggi1LkEgu
DhR2yTVkMjXIIYEKFbGR51qqKVXM0zr4awuETjdzzz6/entYwyq0h/FkDI7GnSBvgIUMC7E9lIHl
9/Ko8WWO+XcW+ojtXPphGWASPMVCk5yq5NdKPTWaUs86LtHHPf8Aw5pOXEprDfLOsTNGP5c9z9xx
TRXMkEsdza3jw3MbCWNoWKMrKeCCOQQec1y82D9pdHdW/sS9Y6t0pY650p1b1L1p1LNY2VzJfahe
TLBezlY2Eksk6B0DucsFbgZA8q/TfU/7IfwJ13pHUemNP6E03Rp7238OHUreHdc2zjBV1dyWPIGR
n6hkHvXWMIS2kD+Ymp9JapZ9daz0L0i1z1U+l3l1BFLY2Tu1zFbs2+ZY13ELtQtnOAOc+dchOnr2
71LTre80y4tp9RdflXuAYEkDNtBDPhdu4/iJwOckYrz0420LP3b8Lv2Uf2iPgZo1t1F8LfiXpqan
fKtxrHS2pox0+SXsVV1LAttCjcFQ5X8eDXw/9tbpLTrr5P4g9R/DbqbpLr7Vr4w6pZ3N4L3Tr+JY
dvj2tyNy5XESiLcpUMMJgbq9Huitg/IJtH3JD4MiKxJ+pTxn/iv1bP0l8M+o/wBkP4UD4jfFG46N
itNV142ssWgS6p8yzXADAhJE2bcLyc53e1dUD6Zqfwk0rrT9pz4f6wblNT6V6G+Heja1LczqtpHe
iEOLRW8U7YjLJ4ZKufwhwTxmuZ8VOhtb1b45fAr486rp2l2+pdQdS6NpXU0WlXkd1awatb3cQRhJ
GzL/ABYAGC7iQI8HmqD4r1k6j9qnqhZRtDfEK7IIxnjU3/z9Kt/avCzftD9eMHAK6uwJJ5/AuP61
5Jrt/ZEj2H7Nk1z018J/ir8VOi9NivOuOn4bCHT5Gt1nk061ldlnuYUOfq2g5bB2hOeCwPu/hr1n
1L8Y/hRB1l8YbdbvUemuuunrbpTXp4VW4unmvY1ubUSBRvREy578nk/SMbinVeCop/ax+MV5pzfE
HpzT/wBpzVbx5LybTm6O/wCkxHEkbTBJbcXpJ4SMud2Pq24GCa+T/sn/ABL0XoDTviB+97jX9BGs
WtlawdZ6PpS3kmhOsrsVkDA7Vn4Bwcnw+OcMu1t2Tyfe4dH600PWet/jDP1XpXxE6ys+gNP1XonV
YtHWCSWwkmkSW8a1IBFxGqg5O44cAk5K18o+EPxn+NHxP+JPwwtviFeXOtaPZ9Z2zWuq3OmoGW4J
BaAXIQdlJbw93mCRwuJK1oH0fTOrI+l/hn8SdQf4yal8Nw/xevbddVsNHfUpJiYJT8uYkZSFO0vu
zgGMDzrnfBP4q2Njrvxh646p6ruvijoNl0/pltNqGoWBspNRtJJ445k8FiShTxZFGTyUB4B4RpRV
kPoPTnwp6P6b6D0XRotZg1noLrL4maVqGkXLyj/1FlLbMBby47OJEMTDgn2JwPkXX3x//aIuutOu
/h1LY3B0qFb2wl6eGjRy29jp0e4bljCHaFj2uJc4wA2cYrnK4L2g+n/FP4sR9M9O/DLxf2lNa+Hs
k/w80a6j0Sy6ekvorkmNwJjKjqFLFdm3HAjB86/DMutzapdy6teTmWa6kaR2ZhlnY8k+pJJNMibS
dhmqbULjwTGk/wBDABmxjPI/SmtryWJSxuWdWbcCD5A//FcEqCNGva7qlxYwLBdThhMPrWQ5IIPf
B4HA71yrfqPWPHWM35kLOqEOisRz7jNfQxtOKNS7Oa1xPAjhHKox7nkGssCS3Eqgld27IJPFckkt
mfo1C2dMyPKHc8KF86xSPJJnLHCnj70i+RQFSv05yD5YwacRK31Mre/3raKGdFEYAVtzHCqB3NY2
glO7aMDsQTzQo9om3grkk5DDg5rpWlxMAwTMWBkc4yf8NcplTNYs5Fk2x5kz9ZYNwuK6mn2Z8FJm
hEwdsk5yUPv+lcJyOsIuzdfStAFCwmJAOGVhyc9wPSuNeXpKDfI5UNnaxIH9K4RVsuRtaMJ1NGuS
y/SBHtG3JwPzNK00UxUCUOucsrkjdjPlXZJxOHI3C6hkCHw1RgAxVEwp8sE+lKLiSV03xBckqfpG
AB79xXOnWxetFTsb6MoZJGjEm3d2GR6c8jvXd0DSdPsD+8r2Jc7RtD/UFwM+ecniujbjCkd8Si3c
ujv6t1zo01pNZeNc70xtKgqHwO3Hlxjmvly3Hih7dm27pc5J/FyeOfPmp6XFLHF8jXqM0crTib9T
e4uYUtY48pAiqjg5OPP9awXt3JLFbJINojjwV9Tk4P6Yr1JHCXkwqyyN4DK0G0jk9z70JVmUuhI+
nBGBzitHNnNNvLLKTtZeCcnIFVQRSTPsU44JzXW1RTbFp0YwGbe5zwOBirRZyRRgNsQNwcHP5Vhy
3sEaaPcAm07RjnuD/wAVnWcYzxjG0HHf2qpA08hAckZXOAfKqpTL2UkqeQCeaIBUeHyV7jmtUDlg
BhgDzj9aj2CqW2WR2niHIOeewxWqBS0aqPxgYx5msyeiGia2adAsf0sDyDzmufLAwJVSGUfzA9/f
7cVmEvBChplPBA+o448qoESNKTvGRnjzrstFRU8m1ipbse44porp1YiNlKqOCatWU2yzLJbmYYVy
ACF/m/8ANSxkHirCWBU8kY7cedYrRDUzeHE0oTZn6RkVjSdvxBhzyOKkVaKbo2jYeKyBA3IYHJzT
xOQzMZsBcE4+9ZrRCqS7XJZSSWHfP+ef96ujut+VkkznngZ/81eOijwajNazLLDcOHicNFKjEOrA
5BB7g5/rX9Ivgh8Zet9D/ZA6o+MvXvxHXqLVYorhdOSaaKRrFx/AtopSg3eI8xVjvJYqyeeasVQL
f2H/AIO6b8HujLX4l/EK6gs+pfiBLFaaYt04Vo7d1MkUK5//AMs2wyEd8BBwQQfpv7VXwT0j449E
fuW1mtk6w0qKbUtCDyKsk2zaJYiCc+G5aNS3ZWMZPoa43CgeT6P/AGmOprH9liH4lw9HNr+u9Iud
F6m0+e7a1ntZYP4bTODG7FsGF3TAwHc5Gw1/Pfqz4k9c9aWNjp/VfUl5qdlpUk0lhDcTNKtsJCpY
IWywX6FwCcAKAMVym3pMqPKtq1tMpRo1J/Aecfb+1elmuurOrelNA6ENjql/o+mGW+0jTobJmCme
fwpJIyi7nVphszkjeCo54rKUor2g7esdX/Grqbpq66YurnqC60m+s7SxuIE03AlttPZjDGzJGCUi
YSdzwQ2eRxy+krv44dO6AkPRFl1HD0/b3tr1E72+lGe3hubY7obsOYyqkFD9QIBCYOQCK3GUvJD3
XVPxX/bJ6xs5OjuoD1pexyCLUZbF+n8P4dvOkiTYWENtWREO7tkAHviqNZ+Mf7YPxG6XvdD1S66x
1nRNUjSG4SHQQ0cscipIg3xw5G5WjYYPIZSOCK17mgeB6D1/4o/D/qPTdU+HcmvaZrmoB4LE2ts7
SXa79rRrGVImG9CCuCNy9sivW9cdc/tSdd63FqnWg6uvb7oy4S6ETaO1vFpcyAOryQRxLHGwUBss
oO3vxWFySoHitatevutrXUvid1Do2sahaXl47ahrgsXFq1w55DyqgjDEntkd+1dbo3rv4v8AwF1D
UpOltU1zp1keK11K3mtf4BkdGeNZ4ZlKb2RXK7lyVDY4zUTkuiGzXetP2m77rWP4yvedafvq1K2E
WrJp8sccRL+GLYBUESqZG2+FtwWbGCTXW6n+KP7X3WXUunv1SvWMmsdJzRanBapoJtzYS8lLh7aO
FUB/FhnQ5G7nvXVW0DldLfGv9pPoGfUV6P6g16wj1m4GuaiY9KR/GlnjMvjndEeHjRnBGFKqSOAT
WfrL4vfGrqSKfUesuoNTk/6u0yK1kmurOOEahYRTsybMRgFFmV/rTzVgTwRWJN0iMdL342P0Lp3Q
cej9VXPTV/ejUdKs49OleKe6EbtvgbYSx8MO+EOMBmx3Nez1v41/tean0rL0trl91q2ikJp10X0c
pKSxCiGW4EQlYtvVdrOS24Ag555pT8E2W6H8cf2vrTp+w0no/Verf3TpVnDFapa6GsqRWkYaNBuE
J+keEygk90YZyDXxhtA676p128isel9a1TUYnN1eRW2nSyTIZDku6KuVyTnkAc8VuNySTKYbrSep
7EyvqehajYwQGJJWntXRYzMheINkcF0BZc9wCRkUbCZ41bK5ViFIzntWZxpA6UGp43bT4bPkfSc8
DsCK6kdzcZgjdLOUyruQtGMj3J9RXHk4MWeYtbASR4mkb6h9Qz5VTeQRWzgIm3zG08k+gr08rlQK
7MSySBVVhz9se1blW13fw4dzjI/MVmVp6KUzpG+cgq+AR7/8VSypEuZHJKjccD+lbg9bKiqa8MsY
eOLiP6Qx7DP+9ZGaQ4bkA98DvWui2aIj4R/iYeI9sZFXo7yEphQhPAPeuTW7Bvt7l4DtRwFOMA9s
/wC9dhL1VgJt4FgUFQ4JJLZ74HlXCUTrCbTs0vPp91BFdMXL4zzyFx7ffmvOavqlzcW/gNLGEUna
oAya5wjct+DrmlS15OPbxEljPKg3jB5z/wDFb7exeQ7IxvVSOVGSRiu85Vs8lBijltnZ57eVI9xC
sSMj+larS+YHEtpLNHyoIzkH8q4zjz2mQ1PLbSRLBtcBTu8NMghvXPaqzqEu5YJJX2RgEpjkYA4/
vW8VtVI6puWkZbTUbIEgFGLcbSeQR5f70l1axzS71jjUjO0KcEe3oa7ptPZHCtofZOkRblQFO0Zx
ya488N3MrKFzg/jc4A+5rUZJBvRhWGeAlphuPB3DPatYZfD3M+4ngceVbe+jAXUmBsgYII5OMCsl
tbRxv4wUk/iXcec1E6BrKRxlwfpBPkaPhLM4QEMqsMkZ7c/5+lR2tgWfSIy++OUKGGcHnj/PKubc
Wywv4eWZmOFGP61qE+QKhMRlXJOBtGOwpzcK+0HdkAA4PNboFkVwcGPGUbjk1p+VlkwyybAvOc5r
LqPZLLrGMxHxZ51J/wBI+/vWh/xlowhUckg/0rlLbsMaWd0YXCnngEAds0kjNKpKArvO3v8A0Ptz
USrZLOVPCYkYGEsQduQexrBvdSQCQc4969MdmkK0SueXOSM4AzmmCRowDEgHuTVsG2CNbaLc1wGB
YYA/3p1nTdgsoYEsSB/as9kDLMhHhOznPI5pP4bMiqxKr3HYE/eotFC0hUYj4UnkZ5otLuH1E847
0SAIWBBGBkZIFOJTs2FMnOc57VatgUyMCNsm2uhp+p6pZpKlrezRpK0byw5zHNsbcniIfpcAjIDA
jNR6B9W+Kn7SnxW+NuiaFo/X2uW00WgSSXEL2luLZ55mCqJJAmE3KAQu1Vxub1rkdEfH34g/D74g
aZ8RrXqK81bVdJV4k/etzLdJLCwKtC259xjO48AjBwRggGsW2wZ+v/jj1v8AEnWdcvr/AFN7C36p
uo73UtN03db2c88a7EdogSGbjJLEknknPNeIe7+UDRSSM5Od2CeBRxvsGG6uYVcPFKxyc8+lfZPh
x+0tpfw9sumbg9AzahrfTMUFhHefvjwYJbBNYGqNGYPBYiUyeJGJfEKhX/7ZIzW0gdzVP2xuoNVg
0i8HSFnb6zpssM815DOBFeSJeG5Z5YRGATKp2Sc4Yl2x9RWkn/ab0TVtL6h0q9+HSx2l7cwyaLDD
dWjrpMEFsLe3gBuLOZzsRFzJC0EjHcdylshIHpLj9s6z1TX7jV9X+GebG4nvpZ9LttUhW2uhPeC5
XxhLaSMzjaitIhjY7FaMwnO75nr3x11HUOntY6e07TLjTm1NOmBDPBqLf+mOj6c1nlRtBPi5WT8Q
KbQMv+KoDff/ALQ+o6p8XpfijqmgvLFPpcukSael4IXit5rNrecwTJGBDIxllmDiM4eQkhuc9DqX
9pObUegpfh7oPSCWVh4Vvawz6peJqV0ltFBLEQZGhQeKTMxEiBNiqqqoAzUBg0b4zdMroPS2m9Td
Danqtx0rElpDHFr/AMvp93arfG88Oe1MD72Z2KswkAKhTt3KGrr9b/tDdOfE/TtVt+vPhvcpqWrt
ptxdXeja81sj3Vil7FBIy3UNzIw8K9VGUyZ/gJhlB2iWDbqH7V2qtr+kavadG6atrp1/cXk0ErpJ
PKJrmWUiO5EayQkCXaCucMofHlVug/tX6d0Smj6X018NHk0vRnsxajU9XF1eRiKe5nZxP4CrvEl1
mM+Fsj2cpJuaik7IJe/tVXV3oEWi6p0XBctaafZ6XaXnzu24jgt9JlsWRn8L+IjSzSXKqQCjSSKC
2/cOT1p8eekPiX0zD09r/wAMjpf/AE5atbdKy6ZqDu0EfhwxJDdCbIkULCGLxCMb97eHmVmEb5LY
Z3NO/a30jQtG0bp+f4XfNNY2MNleMb2yX5hU0u708MA1gxc7bxm23RuowF2hArGsXTv7WNl08iWG
kfDZIbKKdriFxd2sVzGTdwXLxgwWcUCRt4DIVjgQkPkFSDu2n7Qjcf2qdJ17SeoIeoPhYs171FBp
8Fx8jdWngRmyW5jgaG2u7K5jh/hXCKdgUhoiylN7Cs9v8f8AojSLvXdWl+FepTz9V2VrBqyXWtaf
eQhoGiMbxQ3WmSxKMo2VdZD9QKspXJxySdEPnetfE7Xus+i+legrj5k2XSpuPB3SiQzRu48PfhFJ
8NPoUknC8LtHFeUgkDyfQucsduTjscVmbtslnWe3hnkLx3AVuzKBxu/27f1q6G4uBDGlwVDYIVcj
sO3avI22gedOpGRVIBGfPPf7VFfxFaSZGdY+/Ne7jRseHUN5JWRVI/CDnt96teZnk3pHtB7n0/Oj
jsgRMrkkryF54yRVQuRLJsDiNWOD5/0qUAF4J9sat/7Qo4wfUe1GOOAKW+ZZxjAVU5Jz29hUtpUa
X2SOOSNiz7VwcAOcgVYwaMAKEO45HmM+vt2rLLWi2zSdBJJIqAKN27d2JPlXUt1W5jLOi7Y8fVjj
dzj+mK5ypbNwVujla3E8QLwO0Z5BVTlT/wAVwxIxUmSRWYjOQRgD7etdIJNWTItjbiI0bCsHB8qv
S5mthF4UgjcfVgcDGeO/2qtKWmcrO89/eyRqbsq6kE4xx9sCtYgtFWN9imQryrNnB7cZ7968iio/
qV7OcTHaTieBtyycuGHP3rXPcCSKNtkcviEg/Ryee2PtRptphOujLd6DBuM9vaPAGTko30j8vI8+
tWW8JjjQLKHAHAbAP5Gu0cjlHZ0jo6IsYhC0kpeQYPJY4AHfJFcK6lkkldNwCg4UAdsVnHLm3Y43
oyzRsePEVvL6e5/KsskciJuCjgYA9DXqjTObVFfiEREu3KnHA70IZgOXUc5watAtku0c7Suff1NR
JZBiNEAVuODnNSgXRTMMBl3EZAI8qpkWVpQfDBJ5DHuKykkwcy5t7mA4lbdx3B4rO6NE4JXAYZ79
67Jpg12dwkLnfES2cBcd67CSk7d4MTDkbR6+v51zmtkY4hErESmMKo/GoycnscVVeSSRTKqQ4XIx
9IG7Nc07dEDHdypKYjF9L/jx2xWLxyJmGT7DOft+daUQNJJMbaT+GwKkhcd89uD51xvAmZQp3LJv
IAx+tdYUiozyRSRvsMoJUY4Oce1RGfguOx8/OunZS5pQ5CgMMY7/ANaCyfX3JGcZNSgNKrDDlySR
wD6U0cpJCjcM9+f608AtL7m2jHqMGrQsgU7iMYGDUACwViANzE804EoccFQ3OfSnQNFrErs8UynA
yMjHlirC7xBv4QCjg49Kw9sGKW8lkfEfA9BTW7yM3hyoQ25Tk+Q9ea1VA0CeNch4huA4K1RdSLlZ
8N6HJqJOyGfwzctmEsD6eoquW2lgl2tCSBjnPB/OtJ+CmqDwxtdxtcHkD2rXutmP4VUtgnB/zFZl
YLJI4hGypjd3/wDNZ0kBKgjODgYP9KytgtcLuz+IMchccgUzGKcZXghcbaAMjFVDA/TwB6g0+BJE
Hf8AGx79zioC9YAEXecHO3GO3oarnt5opN8fbJJx/L2rClbIBlWeMI0mCSCffFSORXlQ7mVVyDtX
B496oZm1i2cT+MWZDt+nIxkf81RboiIzTHczYOQMVuDuKFnWsZfAuY5QEIbgqV3A88Vu1fTXe3cy
P9RfcoAILDyBPliuEpKM0wmXaXFb2QaMqxycg47A+Wfy/rVt5BGzGaGNdxOABgE58z71xcnzsyW6
bbS2ofxHDpJJwQMkff0/PzoC32gJHCXb6styQfSjkpF6PKwyoZArFWXA8sAH2rahEY3bd2eMHsRX
vZvsdGinlIEaocHsMUZCVKxsDg8Eis/TIUztMXZICcMMYHn7VTFKZZSMKoA59vWrSYQYoXkOQxXj
GSODWgKIlP8ABLschCoxn34rDfg0gQGLxlWViAcbuT5V0rjwJpBaQbGXjaV/Fg+WfvXOV3ZVVAS3
hW0kl3MUX6djHAYZAzn+tZ7e6keFrWNh4YIZgvBPkP8Aana2Xro6Cz2T5WWElceZyCfOuRdxWM0j
QyWuM5KvG2MD2rMeSeiSd9GYwRabGbpZd8a/UA3JH/mqbVvnZFucHw/LIyAfIV1W1yOZ14JULjdI
v0IQo8sn3qxnIWNS7OSQSw7Y/wAP9K5URmiAW0jNGqDxAdwH+on0BrdbSyRk292FkUD6d4GAcjz/
ACrlON6ZUi2R3cbPF8IA8hVwv6jtS5hjQiafLA91HYefOOf6VzVpcUjdlUN0bhpGiQshGV3NwT3/
ANqW4SGUtI5SOWUd9vPbtxXWMeJpM4N6rWpCCPYTwDj+1c2eZ0XYwYk88jHf+9euG0Yey2ySMwy3
E65A+kL2DGsYtyGLhiAScehFaT2yEFyQxiI7nA4q3xSCC3J9RVoBN0QzBAdvFKLtQcFfqbgnuRU4
gZ0S7UFgfp4wT358v0qeDCzcAl2GFVj29xUugVTWErSiQ7Y/I89/cCtKzJbL4nL9to9/vRvlpELJ
L7eivGoRifqx2P8A5qwX6+HslQHsQQec1hw0BJJHLlfGbDDBBOe/nRfZCyb41BI25xnjtmnWiCRx
xqoiZg29ztySMf5zxXN1BQjOdyR7sgktk+mf7VuL2VHImhkhcBnB3chge4otJIUVNxAUV27KNCHk
O5R96sz9GM4YEHmgELn+Zicf0qZx+HnNUDrIQc4OKv8AmCMAO2fKo0C6O4TKttyR3q6W9ycghsgY
rLWwdnpXSbbVbt/30+o2unrGzeNaWfjtvyAAF3KD39ax6hpepWt5cQWFnfz2yuRFJJaMjMvllecH
86cSWvLOMjFJSWUDHtRku3J5ftx28qtWUdJJQC3YjkZ8/tVyxCYiN2IyNx44H/FToAdPlgTEfIDP
kc//ABUju5CDE2CB24qVYELpuCxqR3zj1qwqULOr9iCoY/57UAy3OPwjtgnHpWhUXlhkduDUaogV
eFt24Mv9PyqRkKxOAwH9ahQSSFnBQjnnaTxWmKcKoDBTk/fFRoFhkLHaBgDnJ86dnBQ/xNpHf3rm
0Chgs3rz54rQkULFJGQho2yrA4yffFHZCy4+XnjAl2llyACOxz3zWcw27RNsJDnsTSNpENenxBJI
0KjcnOfI+1daa4tyh3l3cNuVC3cgjjjyrjkTctFRhnnmMp2Nnccgj1/zFaYPEkiEpLFgy8D2PpWZ
KkQ6NvPEs5UgkOOAq9ifWi81vZOscSFQ5HA7AVxafQZ4q4smSTCqFKAk545q9JibclB9YAO3v271
9Ts6dDWc8k8wSXHPYDitqxqrmViWQZO3PY1iTrSIH5dXLSRqQoYHBPJ88/561Zb2KvK6x27A7gGz
5+v9a58yxVmiKwlLhHt2CkgIdvc/f9Kw3K7XacCSHaVVQRgMOee3nWeVsrWjLOrIwAwGIyV28U8E
0kRRliZCCQ7D/O9a7RlCtdujDwlymSRxkDnsB+v61W4l8aSZioVxnuBxV0LHaefwghQ7R555/wAx
QK78YYAd93p7UWiAPhvG6A7kI4U9vvn9KO+JY9uAhOTjyPsMUewRd4IKqTknv5/etiXCiJRiPcMg
8d/esyRKBGy7lZ5Crn+bb3X/AH866sLeOpXAkBxyByPvXOQZYlxjJaNhuOwgcVzrqZ5mjj2bWbjO
Pxev51IrdlRstVKqjBxgnBVT/Q1L1JZokhUBcfWrYwWb0pauy2ci4VSY2nKgocHdSTRTMVb6ufMD
cCPQV3TBXvgtlDCIjblgAPP3FYp77dIGZRj/APHArSV7IZ2CzNk7VPqex5q5YDtBkYEYwAa3dA1w
LarEyttJA5I8qzLYwku4YkZ/4/4rCk0wAxoSA1yF+o8kEc+lNFKsY+lkLZOG9Kr2Cw+JIArzjIP+
/p9qxy2Uocljhck88E+lItIzZjSVwSjDYDw3vV4uovD/AO1g+f1Vtq+itGiG7h8MKR9StnJPJH+1
WglgSkuRu4DH8NYapkZbMgeLa+VVSGG31/OuLdWE0kn8QOV8m78UxugjnSiWNvCO7GchTRjhkfgL
xnvXc0aBGIFwCee3vT7I0ZVJOcZwagM07oZG2dgewpA2DVQCrZIwKuAQEbsjB5qgvZFA3R4zUKhA
SPPn7VkHtOi+vrnpSwezmtTcwyHeilsbT516H/6yHYyro+A+M5kz/tV6Kq8nzjqTULbUtVl1K1s/
l0uG3yRBsgN5kema5xaPnnBPYDyFQhqAUQqqIxKcEkdl9P1qqGVlbEbZGe5HFRA13NyJo9scIG09
1Hess8eyfaQEDEcg8Z+9RKtAvg8NZDLIjYzu59+KskEEkfhlsgD1OfaoQpSCOMO7yfXwF57DzoQ3
BLFAzHP9avZQuzBtwU4zjkVYCAp+rPPfNAQOkYOMkngH0q2F2IO1yueaj+QXGWRfpOTkZBoq64IZ
iCexrNEssiuIRldxwPzrVLcxNEI8+g474/zFc3F2CidRLiNFyPXFBYQqgNKFOfw1pPRTStwsP4ZC
3GQQKsjv1lYfwym3sccGsOPkCrM8rMH+nZwP+K2Wtz4QWLcCPPPlWJxTVEezVDOZl8OJlypzkjnH
3prgmYlQfpOQMHkmuDVMI//Z
"></img>
</div>
</div>

</div>
</div>
</div>
<div class="text_cell_render border-box-sizing rendered_html">
<p>Here is today's image from same webcam at Berkeley, (refreshed every minutes, if you reload the notebook), visible only with an active internet connection, that should be different from the previous one. Notebooks saved with this kind of image will be lighter and always reflect the current version of the source, but the image won't display offline.</p>
</div>
<div class="cell border-box-sizing code_cell vbox">
<div class="input hbox">
<div class="prompt input_prompt">In&nbsp;[6]:</div>
<div class="input_area box-flex1">
<div class="highlight"><pre><span class="n">SoftLinked</span>
</pre></div>

</div>
</div>
<div class="vbox output_wrapper">
<div class="hbox output_area">
<div class="prompt output_prompt">Out[6]:</div>
<div class="output vbox">
<div class="box-flex1 output_subarea output_pyout">
<div class="output_html rendered_html">
<img src="http://scienceview.berkeley.edu/view/images/newview.jpg" />
</div>
</div>
</div>

</div>
</div>
</div>
<div class="text_cell_render border-box-sizing rendered_html">
<p>Of course, if you re-run this Notebook, the two images will be the same again.</p>
</div>
<div class="text_cell_render border-box-sizing rendered_html">
<h2>
  Video
</h2>
</div>

<div class="text_cell_render border-box-sizing rendered_html">
<p>More exotic objects can also be displayed, as long as their representation supports the IPython display protocol.  For example, videos hosted externally on YouTube are easy to load (and writing a similar wrapper for other hosted content is trivial):</p>
</div>
<div class="cell border-box-sizing code_cell vbox">
<div class="input hbox">
<div class="prompt input_prompt">In&nbsp;[7]:</div>
<div class="input_area box-flex1">
<div class="highlight"><pre><span class="kn">from</span> <span class="nn">IPython.display</span> <span class="kn">import</span> <span class="n">YouTubeVideo</span>
<span class="c"># a talk about IPython at Sage Days at U. Washington, Seattle.</span>
<span class="c"># Video credit: William Stein.</span>
<span class="n">YouTubeVideo</span><span class="p">(</span><span class="s">&#39;1j_HxD4iLn8&#39;</span><span class="p">)</span>
</pre></div>

</div>
</div>
<div class="vbox output_wrapper">
<div class="hbox output_area">
<div class="prompt output_prompt">Out[7]:</div>
<div class="output vbox">
<div class="box-flex1 output_subarea output_pyout">
<div class="output_html rendered_html">

            <iframe
                width="400"
                height="300"
                src="http://www.youtube.com/embed/1j_HxD4iLn8"
                frameborder="0"
                allowfullscreen
            ></iframe>
        
</div>
</div>
</div>

</div>
</div>
</div>
<div class="text_cell_render border-box-sizing rendered_html">
<p>Using the nascent video capabilities of modern browsers, you may also be able to display local
videos.  At the moment this doesn't work very well in all browsers, so it may or may not work for you;
we will continue testing this and looking for ways to make it more robust.<br />
</p>
<p>The following cell loads a local file called  <code>animation.m4v</code>, encodes the raw video as base64 for http
transport, and uses the HTML5 video tag to load it. On Chrome 15 it works correctly, displaying a control
bar at the bottom with a play/pause button and a location slider.</p>
</div>
<div class="cell border-box-sizing code_cell vbox">
<div class="input hbox">
<div class="prompt input_prompt">In&nbsp;[8]:</div>
<div class="input_area box-flex1">
<div class="highlight"><pre><span class="kn">from</span> <span class="nn">IPython.display</span> <span class="kn">import</span> <span class="n">HTML</span>
<span class="kn">from</span> <span class="nn">base64</span> <span class="kn">import</span> <span class="n">b64encode</span>
<span class="n">video</span> <span class="o">=</span> <span class="nb">open</span><span class="p">(</span><span class="s">&quot;animation.m4v&quot;</span><span class="p">,</span> <span class="s">&quot;rb&quot;</span><span class="p">)</span><span class="o">.</span><span class="n">read</span><span class="p">()</span>
<span class="n">video_encoded</span> <span class="o">=</span> <span class="n">b64encode</span><span class="p">(</span><span class="n">video</span><span class="p">)</span>
<span class="n">video_tag</span> <span class="o">=</span> <span class="s">&#39;&lt;video controls alt=&quot;test&quot; src=&quot;data:video/x-m4v;base64,{0}&quot;&gt;&#39;</span><span class="o">.</span><span class="n">format</span><span class="p">(</span><span class="n">video_encoded</span><span class="p">)</span>
<span class="n">HTML</span><span class="p">(</span><span class="n">data</span><span class="o">=</span><span class="n">video_tag</span><span class="p">)</span>
</pre></div>

</div>
</div>
<div class="vbox output_wrapper">
<div class="hbox output_area">
<div class="prompt output_prompt">Out[8]:</div>
<div class="output vbox">
<div class="box-flex1 output_subarea output_pyout">
<div class="output_html rendered_html">
<video controls alt="test" src="data:video/x-m4v;base64,AAAAHGZ0eXBNNFYgAAACAGlzb21pc28yYXZjMQAAAAhmcmVlAAAqiW1kYXQAAAKMBgX//4jcRem9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=
">
</div>
</div>
</div>

</div>
</div>
</div>
<div class="text_cell_render border-box-sizing rendered_html">
<h2>
  HTML
</h2>
</div>

<div class="text_cell_render border-box-sizing rendered_html">
<p>Python objects can declare HTML representations that will be displayed in the Notebook. If you have some HTML you want to display, simply use the <code>HTML</code> class.</p>
</div>
<div class="cell border-box-sizing code_cell vbox">
<div class="input hbox">
<div class="prompt input_prompt">In&nbsp;[3]:</div>
<div class="input_area box-flex1">
<div class="highlight"><pre><span class="kn">from</span> <span class="nn">IPython.display</span> <span class="kn">import</span> <span class="n">HTML</span>
</pre></div>

</div>
</div>
</div>
<div class="cell border-box-sizing code_cell vbox">
<div class="input hbox">
<div class="prompt input_prompt">In&nbsp;[4]:</div>
<div class="input_area box-flex1">
<div class="highlight"><pre><span class="n">s</span> <span class="o">=</span> <span class="s">&quot;&quot;&quot;&lt;table&gt;</span>
<span class="s">&lt;tr&gt;</span>
<span class="s">&lt;th&gt;Header 1&lt;/th&gt;</span>
<span class="s">&lt;th&gt;Header 2&lt;/th&gt;</span>
<span class="s">&lt;/tr&gt;</span>
<span class="s">&lt;tr&gt;</span>
<span class="s">&lt;td&gt;row 1, cell 1&lt;/td&gt;</span>
<span class="s">&lt;td&gt;row 1, cell 2&lt;/td&gt;</span>
<span class="s">&lt;/tr&gt;</span>
<span class="s">&lt;tr&gt;</span>
<span class="s">&lt;td&gt;row 2, cell 1&lt;/td&gt;</span>
<span class="s">&lt;td&gt;row 2, cell 2&lt;/td&gt;</span>
<span class="s">&lt;/tr&gt;</span>
<span class="s">&lt;/table&gt;&quot;&quot;&quot;</span>
</pre></div>

</div>
</div>
</div>
<div class="cell border-box-sizing code_cell vbox">
<div class="input hbox">
<div class="prompt input_prompt">In&nbsp;[5]:</div>
<div class="input_area box-flex1">
<div class="highlight"><pre><span class="n">h</span> <span class="o">=</span> <span class="n">HTML</span><span class="p">(</span><span class="n">s</span><span class="p">);</span> <span class="n">h</span>
</pre></div>

</div>
</div>
<div class="vbox output_wrapper">
<div class="hbox output_area">
<div class="prompt output_prompt">Out[5]:</div>
<div class="output vbox">
<div class="box-flex1 output_subarea output_pyout">
<div class="output_html rendered_html">
<table>
<tr>
<th>Header 1</th>
<th>Header 2</th>
</tr>
<tr>
<td>row 1, cell 1</td>
<td>row 1, cell 2</td>
</tr>
<tr>
<td>row 2, cell 1</td>
<td>row 2, cell 2</td>
</tr>
</table>
</div>
</div>
</div>

</div>
</div>
</div>
<div class="text_cell_render border-box-sizing rendered_html">
<p>Pandas makes use of this capability to allow <code>DataFrames</code> to be represented as HTML tables.</p>
</div>
<div class="cell border-box-sizing code_cell vbox">
<div class="input hbox">
<div class="prompt input_prompt">In&nbsp;[6]:</div>
<div class="input_area box-flex1">
<div class="highlight"><pre><span class="kn">import</span> <span class="nn">pandas</span>
</pre></div>

</div>
</div>
</div>
<div class="text_cell_render border-box-sizing rendered_html">
<p>By default, <code>DataFrames</code> will be represented as text; to enable HTML representations we need to set a print option:</p>
</div>
<div class="cell border-box-sizing code_cell vbox">
<div class="input hbox">
<div class="prompt input_prompt">In&nbsp;[9]:</div>
<div class="input_area box-flex1">
<div class="highlight"><pre><span class="n">pandas</span><span class="o">.</span><span class="n">core</span><span class="o">.</span><span class="n">format</span><span class="o">.</span><span class="n">set_printoptions</span><span class="p">(</span><span class="n">notebook_repr_html</span><span class="o">=</span><span class="bp">True</span><span class="p">)</span>
</pre></div>

</div>
</div>
</div>
<div class="text_cell_render border-box-sizing rendered_html">
<p>Here is a small amount of stock data for APPL:</p>
</div>
<div class="cell border-box-sizing code_cell vbox">
<div class="input hbox">
<div class="prompt input_prompt">In&nbsp;[11]:</div>
<div class="input_area box-flex1">
<div class="highlight"><pre><span class="o">%%</span><span class="k">file</span> <span class="n">data</span><span class="o">.</span><span class="n">csv</span>
<span class="n">Date</span><span class="p">,</span><span class="n">Open</span><span class="p">,</span><span class="n">High</span><span class="p">,</span><span class="n">Low</span><span class="p">,</span><span class="n">Close</span><span class="p">,</span><span class="n">Volume</span><span class="p">,</span><span class="n">Adj</span> <span class="n">Close</span>
<span class="mi">2012</span><span class="o">-</span><span class="mo">06</span><span class="o">-</span><span class="mo">01</span><span class="p">,</span><span class="mf">569.16</span><span class="p">,</span><span class="mf">590.00</span><span class="p">,</span><span class="mf">548.50</span><span class="p">,</span><span class="mf">584.00</span><span class="p">,</span><span class="mi">14077000</span><span class="p">,</span><span class="mf">581.50</span>
<span class="mi">2012</span><span class="o">-</span><span class="mo">05</span><span class="o">-</span><span class="mo">01</span><span class="p">,</span><span class="mf">584.90</span><span class="p">,</span><span class="mf">596.76</span><span class="p">,</span><span class="mf">522.18</span><span class="p">,</span><span class="mf">577.73</span><span class="p">,</span><span class="mi">18827900</span><span class="p">,</span><span class="mf">575.26</span>
<span class="mi">2012</span><span class="o">-</span><span class="mo">04</span><span class="o">-</span><span class="mo">02</span><span class="p">,</span><span class="mf">601.83</span><span class="p">,</span><span class="mf">644.00</span><span class="p">,</span><span class="mf">555.00</span><span class="p">,</span><span class="mf">583.98</span><span class="p">,</span><span class="mi">28759100</span><span class="p">,</span><span class="mf">581.48</span>
<span class="mi">2012</span><span class="o">-</span><span class="mo">03</span><span class="o">-</span><span class="mo">01</span><span class="p">,</span><span class="mf">548.17</span><span class="p">,</span><span class="mf">621.45</span><span class="p">,</span><span class="mf">516.22</span><span class="p">,</span><span class="mf">599.55</span><span class="p">,</span><span class="mi">26486000</span><span class="p">,</span><span class="mf">596.99</span>
<span class="mi">2012</span><span class="o">-</span><span class="mo">02</span><span class="o">-</span><span class="mo">01</span><span class="p">,</span><span class="mf">458.41</span><span class="p">,</span><span class="mf">547.61</span><span class="p">,</span><span class="mf">453.98</span><span class="p">,</span><span class="mf">542.44</span><span class="p">,</span><span class="mi">22001000</span><span class="p">,</span><span class="mf">540.12</span>
<span class="mi">2012</span><span class="o">-</span><span class="mo">01</span><span class="o">-</span><span class="mo">03</span><span class="p">,</span><span class="mf">409.40</span><span class="p">,</span><span class="mf">458.24</span><span class="p">,</span><span class="mf">409.00</span><span class="p">,</span><span class="mf">456.48</span><span class="p">,</span><span class="mi">12949100</span><span class="p">,</span><span class="mf">454.53</span>
</pre></div>

</div>
</div>
<div class="vbox output_wrapper">
<div class="hbox output_area">
<div class="prompt output_prompt"></div>
<div class="output vbox">
<div class="box-flex1 output_subarea output_stream output_stdout">
<pre>Writing data.csv
</pre>
</div>
</div>

</div>
</div>
</div>
<div class="text_cell_render border-box-sizing rendered_html">
<p>Read this as into a <code>DataFrame</code>:</p>
</div>
<div class="cell border-box-sizing code_cell vbox">
<div class="input hbox">
<div class="prompt input_prompt">In&nbsp;[12]:</div>
<div class="input_area box-flex1">
<div class="highlight"><pre><span class="n">df</span> <span class="o">=</span> <span class="n">pandas</span><span class="o">.</span><span class="n">read_csv</span><span class="p">(</span><span class="s">&#39;data.csv&#39;</span><span class="p">)</span>
</pre></div>

</div>
</div>
</div>
<div class="text_cell_render border-box-sizing rendered_html">
<p>And view the HTML representation:</p>
</div>
<div class="cell border-box-sizing code_cell vbox">
<div class="input hbox">
<div class="prompt input_prompt">In&nbsp;[14]:</div>
<div class="input_area box-flex1">
<div class="highlight"><pre><span class="n">df</span>
</pre></div>

</div>
</div>
<div class="vbox output_wrapper">
<div class="hbox output_area">
<div class="prompt output_prompt">Out[14]:</div>
<div class="output vbox">
<div class="box-flex1 output_subarea output_pyout">
<div class="output_html rendered_html">
<div style="max-height:1000px;max-width:1500px;overflow:auto;">
<table border="1">
  <thead>
    <tr>
      <th></th>
      <th>Date</th>
      <th>Open</th>
      <th>High</th>
      <th>Low</th>
      <th>Close</th>
      <th>Volume</th>
      <th>Adj Close</th>
    </tr>
    </thead>
    <tbody>
    <tr>
      <td><strong>0</strong></td>
      <td> 2012-06-01</td>
      <td> 569.16</td>
      <td> 590.00</td>
      <td> 548.50</td>
      <td> 584.00</td>
      <td> 14077000</td>
      <td> 581.50</td>
    </tr>
    <tr>
      <td><strong>1</strong></td>
      <td> 2012-05-01</td>
      <td> 584.90</td>
      <td> 596.76</td>
      <td> 522.18</td>
      <td> 577.73</td>
      <td> 18827900</td>
      <td> 575.26</td>
    </tr>
    <tr>
      <td><strong>2</strong></td>
      <td> 2012-04-02</td>
      <td> 601.83</td>
      <td> 644.00</td>
      <td> 555.00</td>
      <td> 583.98</td>
      <td> 28759100</td>
      <td> 581.48</td>
    </tr>
    <tr>
      <td><strong>3</strong></td>
      <td> 2012-03-01</td>
      <td> 548.17</td>
      <td> 621.45</td>
      <td> 516.22</td>
      <td> 599.55</td>
      <td> 26486000</td>
      <td> 596.99</td>
    </tr>
    <tr>
      <td><strong>4</strong></td>
      <td> 2012-02-01</td>
      <td> 458.41</td>
      <td> 547.61</td>
      <td> 453.98</td>
      <td> 542.44</td>
      <td> 22001000</td>
      <td> 540.12</td>
    </tr>
    <tr>
      <td><strong>5</strong></td>
      <td> 2012-01-03</td>
      <td> 409.40</td>
      <td> 458.24</td>
      <td> 409.00</td>
      <td> 456.48</td>
      <td> 12949100</td>
      <td> 454.53</td>
    </tr>
  </tbody>
</table>
</div>
</div>
</div>
</div>

</div>
</div>
</div>
<div class="text_cell_render border-box-sizing rendered_html">
<h2>
  External sites
</h2>
</div>

<div class="text_cell_render border-box-sizing rendered_html">
<p>You can even embed an entire page from another site in an iframe; for example this is today's Wikipedia
page for mobile users:</p>
</div>
<div class="cell border-box-sizing code_cell vbox">
<div class="input hbox">
<div class="prompt input_prompt">In&nbsp;[9]:</div>
<div class="input_area box-flex1">
<div class="highlight"><pre><span class="kn">from</span> <span class="nn">IPython.display</span> <span class="kn">import</span> <span class="n">HTML</span>
<span class="n">HTML</span><span class="p">(</span><span class="s">&#39;&lt;iframe src=http://en.mobile.wikipedia.org/?useformat=mobile width=700 height=350&gt;&lt;/iframe&gt;&#39;</span><span class="p">)</span>
</pre></div>

</div>
</div>
<div class="vbox output_wrapper">
<div class="hbox output_area">
<div class="prompt output_prompt">Out[9]:</div>
<div class="output vbox">
<div class="box-flex1 output_subarea output_pyout">
<div class="output_html rendered_html">
<iframe src=http://en.mobile.wikipedia.org/?useformat=mobile width=700 height=350></iframe>
</div>
</div>
</div>

</div>
</div>
</div>
<div class="text_cell_render border-box-sizing rendered_html">
<h2>
  LaTeX
</h2>
</div>

<div class="text_cell_render border-box-sizing rendered_html">
<p>And we also support the display of mathematical expressions typeset in LaTeX, which is rendered
in the browser thanks to the <a href="http://mathjax.org">MathJax library</a>.</p>
</div>
<div class="cell border-box-sizing code_cell vbox">
<div class="input hbox">
<div class="prompt input_prompt">In&nbsp;[10]:</div>
<div class="input_area box-flex1">
<div class="highlight"><pre><span class="kn">from</span> <span class="nn">IPython.display</span> <span class="kn">import</span> <span class="n">Math</span>
<span class="n">Math</span><span class="p">(</span><span class="s">r&#39;F(k) = \int_{-\infty}^{\infty} f(x) e^{2\pi i k} dx&#39;</span><span class="p">)</span>
</pre></div>

</div>
</div>
<div class="vbox output_wrapper">
<div class="hbox output_area">
<div class="prompt output_prompt">Out[10]:</div>
<div class="output vbox">
<div class="box-flex1 output_subarea output_pyout">

$$F(k) = \int_{-\infty}^{\infty} f(x) e^{2\pi i k} dx$$
</div>
</div>

</div>
</div>
</div>
<div class="text_cell_render border-box-sizing rendered_html">
<p>With the <code>Latex</code> class, you have to include the delimiters yourself.  This allows you to use other LaTeX modes such as <code>eqnarray</code>:</p>
</div>
<div class="cell border-box-sizing code_cell vbox">
<div class="input hbox">
<div class="prompt input_prompt">In&nbsp;[11]:</div>
<div class="input_area box-flex1">
<div class="highlight"><pre><span class="kn">from</span> <span class="nn">IPython.display</span> <span class="kn">import</span> <span class="n">Latex</span>
<span class="n">Latex</span><span class="p">(</span><span class="s">r&quot;&quot;&quot;\begin{eqnarray}</span>
<span class="s">\nabla \times \vec{\mathbf{B}} -\, \frac1c\, \frac{\partial\vec{\mathbf{E}}}{\partial t} &amp; = \frac{4\pi}{c}\vec{\mathbf{j}} \\</span>
<span class="s">\nabla \cdot \vec{\mathbf{E}} &amp; = 4 \pi \rho \\</span>
<span class="s">\nabla \times \vec{\mathbf{E}}\, +\, \frac1c\, \frac{\partial\vec{\mathbf{B}}}{\partial t} &amp; = \vec{\mathbf{0}} \\</span>
<span class="s">\nabla \cdot \vec{\mathbf{B}} &amp; = 0 </span>
<span class="s">\end{eqnarray}&quot;&quot;&quot;</span><span class="p">)</span>
</pre></div>

</div>
</div>
<div class="vbox output_wrapper">
<div class="hbox output_area">
<div class="prompt output_prompt">Out[11]:</div>
<div class="output vbox">
<div class="box-flex1 output_subarea output_pyout">

\begin{eqnarray}
\nabla \times \vec{\mathbf{B}} -\, \frac1c\, \frac{\partial\vec{\mathbf{E}}}{\partial t} & = \frac{4\pi}{c}\vec{\mathbf{j}} \\
\nabla \cdot \vec{\mathbf{E}} & = 4 \pi \rho \\
\nabla \times \vec{\mathbf{E}}\, +\, \frac1c\, \frac{\partial\vec{\mathbf{B}}}{\partial t} & = \vec{\mathbf{0}} \\
\nabla \cdot \vec{\mathbf{B}} & = 0 
\end{eqnarray}
</div>
</div>

</div>
</div>
</div>
<div class="text_cell_render border-box-sizing rendered_html">
<p>Or you can enter latex directly with the <code>%%latex</code> cell magic:</p>
</div>
<div class="cell border-box-sizing code_cell vbox">
<div class="input hbox">
<div class="prompt input_prompt">In&nbsp;[12]:</div>
<div class="input_area box-flex1">
<div class="highlight"><pre><span class="o">%%</span><span class="k">latex</span>
\<span class="n">begin</span><span class="p">{</span><span class="n">aligned</span><span class="p">}</span>
\<span class="n">nabla</span> \<span class="n">times</span> \<span class="n">vec</span><span class="p">{</span>\<span class="n">mathbf</span><span class="p">{</span><span class="n">B</span><span class="p">}}</span> <span class="o">-</span>\<span class="p">,</span> \<span class="n">frac1c</span>\<span class="p">,</span> \<span class="n">frac</span><span class="p">{</span>\<span class="n">partial</span>\<span class="n">vec</span><span class="p">{</span>\<span class="n">mathbf</span><span class="p">{</span><span class="n">E</span><span class="p">}}}{</span>\<span class="n">partial</span> <span class="n">t</span><span class="p">}</span> <span class="o">&amp;</span> <span class="o">=</span> \<span class="n">frac</span><span class="p">{</span><span class="mi">4</span>\<span class="n">pi</span><span class="p">}{</span><span class="n">c</span><span class="p">}</span>\<span class="n">vec</span><span class="p">{</span>\<span class="n">mathbf</span><span class="p">{</span><span class="n">j</span><span class="p">}}</span> \\
\<span class="n">nabla</span> \<span class="n">cdot</span> \<span class="n">vec</span><span class="p">{</span>\<span class="n">mathbf</span><span class="p">{</span><span class="n">E</span><span class="p">}}</span> <span class="o">&amp;</span> <span class="o">=</span> <span class="mi">4</span> \<span class="n">pi</span> \<span class="n">rho</span> \\
\<span class="n">nabla</span> \<span class="n">times</span> \<span class="n">vec</span><span class="p">{</span>\<span class="n">mathbf</span><span class="p">{</span><span class="n">E</span><span class="p">}}</span>\<span class="p">,</span> <span class="o">+</span>\<span class="p">,</span> \<span class="n">frac1c</span>\<span class="p">,</span> \<span class="n">frac</span><span class="p">{</span>\<span class="n">partial</span>\<span class="n">vec</span><span class="p">{</span>\<span class="n">mathbf</span><span class="p">{</span><span class="n">B</span><span class="p">}}}{</span>\<span class="n">partial</span> <span class="n">t</span><span class="p">}</span> <span class="o">&amp;</span> <span class="o">=</span> \<span class="n">vec</span><span class="p">{</span>\<span class="n">mathbf</span><span class="p">{</span><span class="mi">0</span><span class="p">}}</span> \\
\<span class="n">nabla</span> \<span class="n">cdot</span> \<span class="n">vec</span><span class="p">{</span>\<span class="n">mathbf</span><span class="p">{</span><span class="n">B</span><span class="p">}}</span> <span class="o">&amp;</span> <span class="o">=</span> <span class="mi">0</span>
\<span class="n">end</span><span class="p">{</span><span class="n">aligned</span><span class="p">}</span>
</pre></div>

</div>
</div>
<div class="vbox output_wrapper">
<div class="hbox output_area">
<div class="prompt output_prompt"></div>
<div class="output vbox">
<div class="box-flex1 output_subarea output_display_data">

\begin{aligned}
\nabla \times \vec{\mathbf{B}} -\, \frac1c\, \frac{\partial\vec{\mathbf{E}}}{\partial t} & = \frac{4\pi}{c}\vec{\mathbf{j}} \\
\nabla \cdot \vec{\mathbf{E}} & = 4 \pi \rho \\
\nabla \times \vec{\mathbf{E}}\, +\, \frac1c\, \frac{\partial\vec{\mathbf{B}}}{\partial t} & = \vec{\mathbf{0}} \\
\nabla \cdot \vec{\mathbf{B}} & = 0
\end{aligned}
</div>
</div>

</div>
</div>
</div>


     <!-- Footer
     ================================================== -->
      <footer class="footer">
      <p class="pull-right"><a href="#">Back to top</a></p>
      <p>More info on <a href='http://ipython.org'> IPython website </a></p>
      <p><a href="https://github.com/ipython/nbviewer">The code for this site</a> is licensed under the <a href="http://www.apache.org/licenses/LICENSE-2.0" target="_blank">Apache License v2.0</a>.
          Documentation licensed under <a href="http://creativecommons.org/licenses/by/3.0/">CC BY 3.0</a>.</p>
      <p>Some icons from <a href="http://glyphicons.com">Glyphicons Free</a>, built thanks to <a href="http://twitter.github.com/bootstrap/"> Twitter Bootstrap</a>, licensed under <a href="http://creativecommons.org/licenses/by/3.0/">CC BY 3.0</a>.</p>
      <p>This web site does not host notebooks, it only renders notebooks available on other websites.</p>
      <p>Thanks to <a href="https://github.com/v923z">Zoltàn Vörös</a> for his help</p>
      </footer>
    </div><!-- /container -->



    <!-- Le javascript
    ================================================== -->
    <!-- Placed at the end of the document so the pages load faster -->

    <!--<script type="text/javascript" src="http://platform.twitter.com/widgets.js"></script>-->
    <script src="/static/js/jquery.js"></script>
    <!--<script src="/static/js/google-code-prettify/prettify.js"></script>-->
    <!--<script src="/static/js/bootstrap-transition.js"></script>-->
    <!--<script src="/static/js/bootstrap-alert.js"></script>-->
    <!--<script src="/static/js/bootstrap-modal.js"></script>-->
    <!--<script src="/static/js/bootstrap-dropdown.js"></script>-->
    <!--<script src="/static/js/bootstrap-scrollspy.js"></script>-->
    <!--<script src="/static/js/bootstrap-tab.js"></script>-->
    <!--<script src="/static/js/bootstrap-tooltip.js"></script>-->
    <!--<script src="/static/js/bootstrap-popover.js"></script>-->
    <!--<script src="/static/js/bootstrap-button.js"></script>-->
    <script src="/static/js/bootstrap-collapse.js"></script>
    <!--<script src="/static/js/bootstrap-carousel.js"></script>-->
    <!--<script src="/static/js/bootstrap-typeahead.js"></script>-->
    <!--<script src="/static/js/application.js"></script>-->


    <!-- Analytics
    ================================================== -->
    <script type="text/javascript">
      var _gaq = _gaq || [];
      _gaq.push(['_setAccount', 'UA-38683231-2']);
      _gaq.push(['_trackPageview']);

      (function() {
        var ga = document.createElement('script'); ga.type = 'text/javascript'; ga.async = true;
        ga.src = ('https:' == document.location.protocol ? 'https://ssl' : 'http://www') + '.google-analytics.com/ga.js';
        var s = document.getElementsByTagName('script')[0]; s.parentNode.insertBefore(ga, s);
      })();

    </script>
    <!--NEW RELIC Stop Perf Measurement-->
    <script type="text/javascript">if(!NREUMQ.f){NREUMQ.f=function(){NREUMQ.push(["load",new Date().getTime()]);var e=document.createElement("script");e.type="text/javascript";e.src=(("http:"===document.location.protocol)?"http:":"https:")+"//"+"d1ros97qkrwjf5.cloudfront.net/42/eum/rum.js";document.body.appendChild(e);if(NREUMQ.a)NREUMQ.a();};NREUMQ.a=window.onload;window.onload=NREUMQ.f;};NREUMQ.push(["nrfj","beacon-3.newrelic.com","7c83165904","1528310","Y1YAMUFQXEZYUEcIVlocJBBdUkZcVl0cBlBHR1gXVl9WUEtsRhNV",97,885,new Date().getTime(),"","","","",""]);</script>
    <!--NEW RELIC End-->
  </body>
</html>