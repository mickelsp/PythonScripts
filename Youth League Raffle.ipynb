{
 "metadata": {
  "name": "Youth League Raffle"
 },
 "nbformat": 3,
 "nbformat_minor": 0,
 "worksheets": [
  {
   "cells": [
    {
     "cell_type": "code",
     "collapsed": false,
     "input": [
      "filepath = '../../Ultimate/Tucson Ultimate/Youth League/2013 Summer League/youth_league_raffle.txt'"
     ],
     "language": "python",
     "metadata": {},
     "outputs": [],
     "prompt_number": 90
    },
    {
     "cell_type": "code",
     "collapsed": false,
     "input": [
      "datafile = open(filepath, 'r')\n",
      "raw_entries = []\n",
      "for row in datafile:\n",
      "    raw_entries.append(row.strip().split(',')) #entries is the array containing names and number of entries"
     ],
     "language": "python",
     "metadata": {},
     "outputs": [],
     "prompt_number": 91
    },
    {
     "cell_type": "code",
     "collapsed": false,
     "input": [
      "tickets = []\n",
      "for i in range(0,size(raw_entries,0)):\n",
      "    numtickets = int(raw_entries[i][1])\n",
      "    tickets.append(numtickets) #tickets is a vector containing the number of tickets purchased for that name's position"
     ],
     "language": "python",
     "metadata": {},
     "outputs": [],
     "prompt_number": 92
    },
    {
     "cell_type": "code",
     "collapsed": false,
     "input": [
      "entries = []\n",
      "counter = 1\n",
      "for i in range(0,size(raw_entries,0)):\n",
      "    for j in range(0,tickets[i]):\n",
      "        entries.append([raw_entries[i][0],counter])\n",
      "        counter = counter + 1"
     ],
     "language": "python",
     "metadata": {},
     "outputs": [],
     "prompt_number": 95
    },
    {
     "cell_type": "code",
     "collapsed": false,
     "input": [
      "output = open('../../Ultimate/Tucson Ultimate/Youth League/2013 Summer League/raffle_numbers.txt','w')\n",
      "for row in entries:\n",
      "    print(row)\n",
      "    output.write(row[0]+\", \"+str(row[1])+\"\\n\")"
     ],
     "language": "python",
     "metadata": {},
     "outputs": [
      {
       "output_type": "stream",
       "stream": "stdout",
       "text": [
        "['Ryan Murphy', 1]\n",
        "['Alex Schwartz', 2]\n",
        "['Alex Schwartz', 3]\n",
        "['Alex Schwartz', 4]\n",
        "['Joe Wu', 5]\n",
        "['Joe Wu', 6]\n",
        "['Joe Wu', 7]\n",
        "['Mandy Proctor', 8]\n",
        "['David Gleeson', 9]\n",
        "['Scott Olmstead', 10]\n",
        "['Jonathan Brand', 11]\n",
        "['Joe Abraham', 12]\n",
        "['Joe Abraham', 13]\n",
        "['Joe Abraham', 14]\n",
        "['Dave Koop', 15]\n",
        "['Dave Koop', 16]\n",
        "['Dave Koop', 17]\n",
        "['Dave Koop', 18]\n",
        "['Dave Koop', 19]\n",
        "['Rey Aragon', 20]\n",
        "['Rey Aragon', 21]\n",
        "['Rey Aragon', 22]\n",
        "['Rey Aragon', 23]\n",
        "['Rey Aragon', 24]\n",
        "['Chip Boyd', 25]\n",
        "['Chip Boyd', 26]\n",
        "['Chip Boyd', 27]\n",
        "['Frank Calello', 28]\n",
        "['Frank Calello', 29]\n",
        "['Nell MacCallum', 30]\n",
        "['Michelle Gallagher', 31]\n",
        "['Sarah Stewart', 32]\n",
        "['Vince Noe', 33]\n",
        "['Vince Noe', 34]\n",
        "['Vince Noe', 35]\n",
        "['Vince Noe', 36]\n",
        "['Vince Noe', 37]\n",
        "['James Weinstein', 38]\n",
        "['James Weinstein', 39]\n",
        "['James Weinstein', 40]\n",
        "['Kyria Kershner', 41]\n"
       ]
      }
     ],
     "prompt_number": 125
    }
   ],
   "metadata": {}
  }
 ]
}